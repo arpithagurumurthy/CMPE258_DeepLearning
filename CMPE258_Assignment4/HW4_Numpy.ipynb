{
  "nbformat": 4,
  "nbformat_minor": 0,
  "metadata": {
    "colab": {
      "name": "HW4_Numpy.ipynb",
      "provenance": []
    },
    "kernelspec": {
      "name": "python3",
      "display_name": "Python 3"
    },
    "language_info": {
      "name": "python"
    }
  },
  "cells": [
    {
      "cell_type": "markdown",
      "metadata": {
        "id": "sLwk8WG4Z0Ds"
      },
      "source": [
        "# **Assignment 4 - MNIST classifier with various training knobs using numpy**\n",
        "\n",
        "### Arpitha Gurumurthy"
      ]
    },
    {
      "cell_type": "markdown",
      "metadata": {
        "id": "HXxmQ7vTYM8_"
      },
      "source": [
        "### **Data :** \n",
        "Kaggle dataset https://www.kaggle.com/c/digit-recognizer/data </br>\n",
        "The files train.csv and test.csv contains gray-scale images of hand-drawn digits 0 through 9.\n",
        "\n",
        "Each image is 28 pixels in height and 28 pixels in width, for a total of 784 pixels in total. Each pixel has a single pixel-value associated with it, indicating the lightness or darkness of that pixel, with higher numbers meaning darker. This pixel-value is an integer between 0 and 255, inclusive.\n",
        "\n",
        "* The train.csv has 785 columns. The first column called \"label\", is the hand drawn digit. The rest of the columns contain the pixel-values of the associated image.\n",
        "* The test.csv is the same as the training set, except that it does not contain the \"label\" column.\n"
      ]
    },
    {
      "cell_type": "markdown",
      "metadata": {
        "id": "2iHRIijUZtsP"
      },
      "source": [
        "## **Data Collection :** \n",
        "Here, we are  authorizing google drive to access and download the kaggle datasets and import it to the colab as shown below."
      ]
    },
    {
      "cell_type": "code",
      "metadata": {
        "colab": {
          "base_uri": "https://localhost:8080/"
        },
        "id": "_lrfHzo_awJp",
        "outputId": "28514d9d-1fb7-472d-ff34-14e284a04661"
      },
      "source": [
        "from google.colab import drive\n",
        "drive.mount('/content/gdrive')"
      ],
      "execution_count": 1,
      "outputs": [
        {
          "output_type": "stream",
          "text": [
            "Mounted at /content/gdrive\n"
          ],
          "name": "stdout"
        }
      ]
    },
    {
      "cell_type": "code",
      "metadata": {
        "id": "iOWuq0t7a8EO",
        "colab": {
          "base_uri": "https://localhost:8080/"
        },
        "outputId": "1398e959-8ec7-44c0-fdc7-f519adfd3798"
      },
      "source": [
        "%cd /content/gdrive/My Drive/258_HW3/digit_recognizer_data"
      ],
      "execution_count": 4,
      "outputs": [
        {
          "output_type": "stream",
          "text": [
            "/content/gdrive/My Drive/258_HW3/digit_recognizer_data\n"
          ],
          "name": "stdout"
        }
      ]
    },
    {
      "cell_type": "code",
      "metadata": {
        "id": "5hLcxq2Laj3L"
      },
      "source": [
        "## Required only on the first run to get the datasets on to the drive\n",
        "## !kaggle competitions download -c digit-recognizer\n",
        "## !mkdir digit_recognizer_data \n",
        "## !mv *.zip digit_recognizer_data/\n",
        "## %cd digit_recognizer_data/\n",
        "## !unzip test.csv.zip\n",
        "## !unzip train.csv.zip"
      ],
      "execution_count": null,
      "outputs": []
    },
    {
      "cell_type": "code",
      "metadata": {
        "id": "9BADsAmRxrKH"
      },
      "source": [
        "## Importing the required libraries\n",
        "import numpy as np \n",
        "import pandas as pd \n",
        "import matplotlib.pyplot as plt\n",
        "%matplotlib inline\n",
        "import seaborn as sns\n",
        "from sklearn.model_selection import train_test_split\n",
        "\n",
        "##reading the csv into the dataframe 'train'\n",
        "train = pd.read_csv(\"train.csv\")"
      ],
      "execution_count": 5,
      "outputs": []
    },
    {
      "cell_type": "code",
      "metadata": {
        "id": "NxEvdqhM6eFj"
      },
      "source": [
        "##Split the dataframe into train and test in the ratio 80 and 20 - train and test\n",
        "##Set the random seed\n",
        "np.random.seed(2)\n",
        "random_seed = 2\n",
        "X_train, X_test = train_test_split(train, test_size = 0.2, random_state=random_seed)"
      ],
      "execution_count": 6,
      "outputs": []
    },
    {
      "cell_type": "markdown",
      "metadata": {
        "id": "kVkD7ACcdwyo"
      },
      "source": [
        "## **Exploratory Data Analysis**"
      ]
    },
    {
      "cell_type": "code",
      "metadata": {
        "colab": {
          "base_uri": "https://localhost:8080/"
        },
        "id": "2UBvRJlx8uL3",
        "outputId": "9d2544c2-9b32-4712-af9b-f53d9f500bca"
      },
      "source": [
        "##Check for the shape of train data\n",
        "X_train.shape"
      ],
      "execution_count": 7,
      "outputs": [
        {
          "output_type": "execute_result",
          "data": {
            "text/plain": [
              "(33600, 785)"
            ]
          },
          "metadata": {
            "tags": []
          },
          "execution_count": 7
        }
      ]
    },
    {
      "cell_type": "code",
      "metadata": {
        "colab": {
          "base_uri": "https://localhost:8080/",
          "height": 244
        },
        "id": "MlW8CET2bwUQ",
        "outputId": "e97f3c7f-a22a-4074-c59f-9d42e0930535"
      },
      "source": [
        "##Understanding the training data\n",
        "X_train.head()"
      ],
      "execution_count": 8,
      "outputs": [
        {
          "output_type": "execute_result",
          "data": {
            "text/html": [
              "<div>\n",
              "<style scoped>\n",
              "    .dataframe tbody tr th:only-of-type {\n",
              "        vertical-align: middle;\n",
              "    }\n",
              "\n",
              "    .dataframe tbody tr th {\n",
              "        vertical-align: top;\n",
              "    }\n",
              "\n",
              "    .dataframe thead th {\n",
              "        text-align: right;\n",
              "    }\n",
              "</style>\n",
              "<table border=\"1\" class=\"dataframe\">\n",
              "  <thead>\n",
              "    <tr style=\"text-align: right;\">\n",
              "      <th></th>\n",
              "      <th>label</th>\n",
              "      <th>pixel0</th>\n",
              "      <th>pixel1</th>\n",
              "      <th>pixel2</th>\n",
              "      <th>pixel3</th>\n",
              "      <th>pixel4</th>\n",
              "      <th>pixel5</th>\n",
              "      <th>pixel6</th>\n",
              "      <th>pixel7</th>\n",
              "      <th>pixel8</th>\n",
              "      <th>pixel9</th>\n",
              "      <th>pixel10</th>\n",
              "      <th>pixel11</th>\n",
              "      <th>pixel12</th>\n",
              "      <th>pixel13</th>\n",
              "      <th>pixel14</th>\n",
              "      <th>pixel15</th>\n",
              "      <th>pixel16</th>\n",
              "      <th>pixel17</th>\n",
              "      <th>pixel18</th>\n",
              "      <th>pixel19</th>\n",
              "      <th>pixel20</th>\n",
              "      <th>pixel21</th>\n",
              "      <th>pixel22</th>\n",
              "      <th>pixel23</th>\n",
              "      <th>pixel24</th>\n",
              "      <th>pixel25</th>\n",
              "      <th>pixel26</th>\n",
              "      <th>pixel27</th>\n",
              "      <th>pixel28</th>\n",
              "      <th>pixel29</th>\n",
              "      <th>pixel30</th>\n",
              "      <th>pixel31</th>\n",
              "      <th>pixel32</th>\n",
              "      <th>pixel33</th>\n",
              "      <th>pixel34</th>\n",
              "      <th>pixel35</th>\n",
              "      <th>pixel36</th>\n",
              "      <th>pixel37</th>\n",
              "      <th>pixel38</th>\n",
              "      <th>...</th>\n",
              "      <th>pixel744</th>\n",
              "      <th>pixel745</th>\n",
              "      <th>pixel746</th>\n",
              "      <th>pixel747</th>\n",
              "      <th>pixel748</th>\n",
              "      <th>pixel749</th>\n",
              "      <th>pixel750</th>\n",
              "      <th>pixel751</th>\n",
              "      <th>pixel752</th>\n",
              "      <th>pixel753</th>\n",
              "      <th>pixel754</th>\n",
              "      <th>pixel755</th>\n",
              "      <th>pixel756</th>\n",
              "      <th>pixel757</th>\n",
              "      <th>pixel758</th>\n",
              "      <th>pixel759</th>\n",
              "      <th>pixel760</th>\n",
              "      <th>pixel761</th>\n",
              "      <th>pixel762</th>\n",
              "      <th>pixel763</th>\n",
              "      <th>pixel764</th>\n",
              "      <th>pixel765</th>\n",
              "      <th>pixel766</th>\n",
              "      <th>pixel767</th>\n",
              "      <th>pixel768</th>\n",
              "      <th>pixel769</th>\n",
              "      <th>pixel770</th>\n",
              "      <th>pixel771</th>\n",
              "      <th>pixel772</th>\n",
              "      <th>pixel773</th>\n",
              "      <th>pixel774</th>\n",
              "      <th>pixel775</th>\n",
              "      <th>pixel776</th>\n",
              "      <th>pixel777</th>\n",
              "      <th>pixel778</th>\n",
              "      <th>pixel779</th>\n",
              "      <th>pixel780</th>\n",
              "      <th>pixel781</th>\n",
              "      <th>pixel782</th>\n",
              "      <th>pixel783</th>\n",
              "    </tr>\n",
              "  </thead>\n",
              "  <tbody>\n",
              "    <tr>\n",
              "      <th>21250</th>\n",
              "      <td>2</td>\n",
              "      <td>0</td>\n",
              "      <td>0</td>\n",
              "      <td>0</td>\n",
              "      <td>0</td>\n",
              "      <td>0</td>\n",
              "      <td>0</td>\n",
              "      <td>0</td>\n",
              "      <td>0</td>\n",
              "      <td>0</td>\n",
              "      <td>0</td>\n",
              "      <td>0</td>\n",
              "      <td>0</td>\n",
              "      <td>0</td>\n",
              "      <td>0</td>\n",
              "      <td>0</td>\n",
              "      <td>0</td>\n",
              "      <td>0</td>\n",
              "      <td>0</td>\n",
              "      <td>0</td>\n",
              "      <td>0</td>\n",
              "      <td>0</td>\n",
              "      <td>0</td>\n",
              "      <td>0</td>\n",
              "      <td>0</td>\n",
              "      <td>0</td>\n",
              "      <td>0</td>\n",
              "      <td>0</td>\n",
              "      <td>0</td>\n",
              "      <td>0</td>\n",
              "      <td>0</td>\n",
              "      <td>0</td>\n",
              "      <td>0</td>\n",
              "      <td>0</td>\n",
              "      <td>0</td>\n",
              "      <td>0</td>\n",
              "      <td>0</td>\n",
              "      <td>0</td>\n",
              "      <td>0</td>\n",
              "      <td>0</td>\n",
              "      <td>...</td>\n",
              "      <td>0</td>\n",
              "      <td>0</td>\n",
              "      <td>0</td>\n",
              "      <td>0</td>\n",
              "      <td>0</td>\n",
              "      <td>0</td>\n",
              "      <td>0</td>\n",
              "      <td>0</td>\n",
              "      <td>0</td>\n",
              "      <td>0</td>\n",
              "      <td>0</td>\n",
              "      <td>0</td>\n",
              "      <td>0</td>\n",
              "      <td>0</td>\n",
              "      <td>0</td>\n",
              "      <td>0</td>\n",
              "      <td>0</td>\n",
              "      <td>0</td>\n",
              "      <td>0</td>\n",
              "      <td>0</td>\n",
              "      <td>0</td>\n",
              "      <td>0</td>\n",
              "      <td>0</td>\n",
              "      <td>0</td>\n",
              "      <td>0</td>\n",
              "      <td>0</td>\n",
              "      <td>0</td>\n",
              "      <td>0</td>\n",
              "      <td>0</td>\n",
              "      <td>0</td>\n",
              "      <td>0</td>\n",
              "      <td>0</td>\n",
              "      <td>0</td>\n",
              "      <td>0</td>\n",
              "      <td>0</td>\n",
              "      <td>0</td>\n",
              "      <td>0</td>\n",
              "      <td>0</td>\n",
              "      <td>0</td>\n",
              "      <td>0</td>\n",
              "    </tr>\n",
              "    <tr>\n",
              "      <th>20334</th>\n",
              "      <td>3</td>\n",
              "      <td>0</td>\n",
              "      <td>0</td>\n",
              "      <td>0</td>\n",
              "      <td>0</td>\n",
              "      <td>0</td>\n",
              "      <td>0</td>\n",
              "      <td>0</td>\n",
              "      <td>0</td>\n",
              "      <td>0</td>\n",
              "      <td>0</td>\n",
              "      <td>0</td>\n",
              "      <td>0</td>\n",
              "      <td>0</td>\n",
              "      <td>0</td>\n",
              "      <td>0</td>\n",
              "      <td>0</td>\n",
              "      <td>0</td>\n",
              "      <td>0</td>\n",
              "      <td>0</td>\n",
              "      <td>0</td>\n",
              "      <td>0</td>\n",
              "      <td>0</td>\n",
              "      <td>0</td>\n",
              "      <td>0</td>\n",
              "      <td>0</td>\n",
              "      <td>0</td>\n",
              "      <td>0</td>\n",
              "      <td>0</td>\n",
              "      <td>0</td>\n",
              "      <td>0</td>\n",
              "      <td>0</td>\n",
              "      <td>0</td>\n",
              "      <td>0</td>\n",
              "      <td>0</td>\n",
              "      <td>0</td>\n",
              "      <td>0</td>\n",
              "      <td>0</td>\n",
              "      <td>0</td>\n",
              "      <td>0</td>\n",
              "      <td>...</td>\n",
              "      <td>0</td>\n",
              "      <td>0</td>\n",
              "      <td>0</td>\n",
              "      <td>0</td>\n",
              "      <td>0</td>\n",
              "      <td>0</td>\n",
              "      <td>0</td>\n",
              "      <td>0</td>\n",
              "      <td>0</td>\n",
              "      <td>0</td>\n",
              "      <td>0</td>\n",
              "      <td>0</td>\n",
              "      <td>0</td>\n",
              "      <td>0</td>\n",
              "      <td>0</td>\n",
              "      <td>0</td>\n",
              "      <td>0</td>\n",
              "      <td>0</td>\n",
              "      <td>0</td>\n",
              "      <td>0</td>\n",
              "      <td>0</td>\n",
              "      <td>0</td>\n",
              "      <td>0</td>\n",
              "      <td>0</td>\n",
              "      <td>0</td>\n",
              "      <td>0</td>\n",
              "      <td>0</td>\n",
              "      <td>0</td>\n",
              "      <td>0</td>\n",
              "      <td>0</td>\n",
              "      <td>0</td>\n",
              "      <td>0</td>\n",
              "      <td>0</td>\n",
              "      <td>0</td>\n",
              "      <td>0</td>\n",
              "      <td>0</td>\n",
              "      <td>0</td>\n",
              "      <td>0</td>\n",
              "      <td>0</td>\n",
              "      <td>0</td>\n",
              "    </tr>\n",
              "    <tr>\n",
              "      <th>29647</th>\n",
              "      <td>2</td>\n",
              "      <td>0</td>\n",
              "      <td>0</td>\n",
              "      <td>0</td>\n",
              "      <td>0</td>\n",
              "      <td>0</td>\n",
              "      <td>0</td>\n",
              "      <td>0</td>\n",
              "      <td>0</td>\n",
              "      <td>0</td>\n",
              "      <td>0</td>\n",
              "      <td>0</td>\n",
              "      <td>0</td>\n",
              "      <td>0</td>\n",
              "      <td>0</td>\n",
              "      <td>0</td>\n",
              "      <td>0</td>\n",
              "      <td>0</td>\n",
              "      <td>0</td>\n",
              "      <td>0</td>\n",
              "      <td>0</td>\n",
              "      <td>0</td>\n",
              "      <td>0</td>\n",
              "      <td>0</td>\n",
              "      <td>0</td>\n",
              "      <td>0</td>\n",
              "      <td>0</td>\n",
              "      <td>0</td>\n",
              "      <td>0</td>\n",
              "      <td>0</td>\n",
              "      <td>0</td>\n",
              "      <td>0</td>\n",
              "      <td>0</td>\n",
              "      <td>0</td>\n",
              "      <td>0</td>\n",
              "      <td>0</td>\n",
              "      <td>0</td>\n",
              "      <td>0</td>\n",
              "      <td>0</td>\n",
              "      <td>0</td>\n",
              "      <td>...</td>\n",
              "      <td>0</td>\n",
              "      <td>0</td>\n",
              "      <td>0</td>\n",
              "      <td>0</td>\n",
              "      <td>0</td>\n",
              "      <td>0</td>\n",
              "      <td>0</td>\n",
              "      <td>0</td>\n",
              "      <td>0</td>\n",
              "      <td>0</td>\n",
              "      <td>0</td>\n",
              "      <td>0</td>\n",
              "      <td>0</td>\n",
              "      <td>0</td>\n",
              "      <td>0</td>\n",
              "      <td>0</td>\n",
              "      <td>0</td>\n",
              "      <td>0</td>\n",
              "      <td>0</td>\n",
              "      <td>0</td>\n",
              "      <td>0</td>\n",
              "      <td>0</td>\n",
              "      <td>0</td>\n",
              "      <td>0</td>\n",
              "      <td>0</td>\n",
              "      <td>0</td>\n",
              "      <td>0</td>\n",
              "      <td>0</td>\n",
              "      <td>0</td>\n",
              "      <td>0</td>\n",
              "      <td>0</td>\n",
              "      <td>0</td>\n",
              "      <td>0</td>\n",
              "      <td>0</td>\n",
              "      <td>0</td>\n",
              "      <td>0</td>\n",
              "      <td>0</td>\n",
              "      <td>0</td>\n",
              "      <td>0</td>\n",
              "      <td>0</td>\n",
              "    </tr>\n",
              "    <tr>\n",
              "      <th>3220</th>\n",
              "      <td>9</td>\n",
              "      <td>0</td>\n",
              "      <td>0</td>\n",
              "      <td>0</td>\n",
              "      <td>0</td>\n",
              "      <td>0</td>\n",
              "      <td>0</td>\n",
              "      <td>0</td>\n",
              "      <td>0</td>\n",
              "      <td>0</td>\n",
              "      <td>0</td>\n",
              "      <td>0</td>\n",
              "      <td>0</td>\n",
              "      <td>0</td>\n",
              "      <td>0</td>\n",
              "      <td>0</td>\n",
              "      <td>0</td>\n",
              "      <td>0</td>\n",
              "      <td>0</td>\n",
              "      <td>0</td>\n",
              "      <td>0</td>\n",
              "      <td>0</td>\n",
              "      <td>0</td>\n",
              "      <td>0</td>\n",
              "      <td>0</td>\n",
              "      <td>0</td>\n",
              "      <td>0</td>\n",
              "      <td>0</td>\n",
              "      <td>0</td>\n",
              "      <td>0</td>\n",
              "      <td>0</td>\n",
              "      <td>0</td>\n",
              "      <td>0</td>\n",
              "      <td>0</td>\n",
              "      <td>0</td>\n",
              "      <td>0</td>\n",
              "      <td>0</td>\n",
              "      <td>0</td>\n",
              "      <td>0</td>\n",
              "      <td>0</td>\n",
              "      <td>...</td>\n",
              "      <td>0</td>\n",
              "      <td>0</td>\n",
              "      <td>0</td>\n",
              "      <td>0</td>\n",
              "      <td>0</td>\n",
              "      <td>0</td>\n",
              "      <td>0</td>\n",
              "      <td>0</td>\n",
              "      <td>0</td>\n",
              "      <td>0</td>\n",
              "      <td>0</td>\n",
              "      <td>0</td>\n",
              "      <td>0</td>\n",
              "      <td>0</td>\n",
              "      <td>0</td>\n",
              "      <td>0</td>\n",
              "      <td>0</td>\n",
              "      <td>0</td>\n",
              "      <td>0</td>\n",
              "      <td>0</td>\n",
              "      <td>0</td>\n",
              "      <td>0</td>\n",
              "      <td>0</td>\n",
              "      <td>0</td>\n",
              "      <td>0</td>\n",
              "      <td>0</td>\n",
              "      <td>0</td>\n",
              "      <td>0</td>\n",
              "      <td>0</td>\n",
              "      <td>0</td>\n",
              "      <td>0</td>\n",
              "      <td>0</td>\n",
              "      <td>0</td>\n",
              "      <td>0</td>\n",
              "      <td>0</td>\n",
              "      <td>0</td>\n",
              "      <td>0</td>\n",
              "      <td>0</td>\n",
              "      <td>0</td>\n",
              "      <td>0</td>\n",
              "    </tr>\n",
              "    <tr>\n",
              "      <th>5293</th>\n",
              "      <td>0</td>\n",
              "      <td>0</td>\n",
              "      <td>0</td>\n",
              "      <td>0</td>\n",
              "      <td>0</td>\n",
              "      <td>0</td>\n",
              "      <td>0</td>\n",
              "      <td>0</td>\n",
              "      <td>0</td>\n",
              "      <td>0</td>\n",
              "      <td>0</td>\n",
              "      <td>0</td>\n",
              "      <td>0</td>\n",
              "      <td>0</td>\n",
              "      <td>0</td>\n",
              "      <td>0</td>\n",
              "      <td>0</td>\n",
              "      <td>0</td>\n",
              "      <td>0</td>\n",
              "      <td>0</td>\n",
              "      <td>0</td>\n",
              "      <td>0</td>\n",
              "      <td>0</td>\n",
              "      <td>0</td>\n",
              "      <td>0</td>\n",
              "      <td>0</td>\n",
              "      <td>0</td>\n",
              "      <td>0</td>\n",
              "      <td>0</td>\n",
              "      <td>0</td>\n",
              "      <td>0</td>\n",
              "      <td>0</td>\n",
              "      <td>0</td>\n",
              "      <td>0</td>\n",
              "      <td>0</td>\n",
              "      <td>0</td>\n",
              "      <td>0</td>\n",
              "      <td>0</td>\n",
              "      <td>0</td>\n",
              "      <td>0</td>\n",
              "      <td>...</td>\n",
              "      <td>0</td>\n",
              "      <td>0</td>\n",
              "      <td>0</td>\n",
              "      <td>0</td>\n",
              "      <td>0</td>\n",
              "      <td>0</td>\n",
              "      <td>0</td>\n",
              "      <td>0</td>\n",
              "      <td>0</td>\n",
              "      <td>0</td>\n",
              "      <td>0</td>\n",
              "      <td>0</td>\n",
              "      <td>0</td>\n",
              "      <td>0</td>\n",
              "      <td>0</td>\n",
              "      <td>0</td>\n",
              "      <td>0</td>\n",
              "      <td>0</td>\n",
              "      <td>0</td>\n",
              "      <td>0</td>\n",
              "      <td>0</td>\n",
              "      <td>0</td>\n",
              "      <td>0</td>\n",
              "      <td>0</td>\n",
              "      <td>0</td>\n",
              "      <td>0</td>\n",
              "      <td>0</td>\n",
              "      <td>0</td>\n",
              "      <td>0</td>\n",
              "      <td>0</td>\n",
              "      <td>0</td>\n",
              "      <td>0</td>\n",
              "      <td>0</td>\n",
              "      <td>0</td>\n",
              "      <td>0</td>\n",
              "      <td>0</td>\n",
              "      <td>0</td>\n",
              "      <td>0</td>\n",
              "      <td>0</td>\n",
              "      <td>0</td>\n",
              "    </tr>\n",
              "  </tbody>\n",
              "</table>\n",
              "<p>5 rows × 785 columns</p>\n",
              "</div>"
            ],
            "text/plain": [
              "       label  pixel0  pixel1  pixel2  ...  pixel780  pixel781  pixel782  pixel783\n",
              "21250      2       0       0       0  ...         0         0         0         0\n",
              "20334      3       0       0       0  ...         0         0         0         0\n",
              "29647      2       0       0       0  ...         0         0         0         0\n",
              "3220       9       0       0       0  ...         0         0         0         0\n",
              "5293       0       0       0       0  ...         0         0         0         0\n",
              "\n",
              "[5 rows x 785 columns]"
            ]
          },
          "metadata": {
            "tags": []
          },
          "execution_count": 8
        }
      ]
    },
    {
      "cell_type": "code",
      "metadata": {
        "colab": {
          "base_uri": "https://localhost:8080/"
        },
        "id": "AZbABtfy8xJa",
        "outputId": "87d76780-4d36-443e-8c91-de0e780f4a03"
      },
      "source": [
        "##Check for the shape of test data\n",
        "X_test.shape"
      ],
      "execution_count": 9,
      "outputs": [
        {
          "output_type": "execute_result",
          "data": {
            "text/plain": [
              "(8400, 785)"
            ]
          },
          "metadata": {
            "tags": []
          },
          "execution_count": 9
        }
      ]
    },
    {
      "cell_type": "code",
      "metadata": {
        "colab": {
          "base_uri": "https://localhost:8080/",
          "height": 244
        },
        "id": "5agVcmAd3r37",
        "outputId": "628ba0c6-c6d5-4d56-84e1-fd04658d9075"
      },
      "source": [
        "##Check for the shape of test data\n",
        "X_test.head()"
      ],
      "execution_count": 10,
      "outputs": [
        {
          "output_type": "execute_result",
          "data": {
            "text/html": [
              "<div>\n",
              "<style scoped>\n",
              "    .dataframe tbody tr th:only-of-type {\n",
              "        vertical-align: middle;\n",
              "    }\n",
              "\n",
              "    .dataframe tbody tr th {\n",
              "        vertical-align: top;\n",
              "    }\n",
              "\n",
              "    .dataframe thead th {\n",
              "        text-align: right;\n",
              "    }\n",
              "</style>\n",
              "<table border=\"1\" class=\"dataframe\">\n",
              "  <thead>\n",
              "    <tr style=\"text-align: right;\">\n",
              "      <th></th>\n",
              "      <th>label</th>\n",
              "      <th>pixel0</th>\n",
              "      <th>pixel1</th>\n",
              "      <th>pixel2</th>\n",
              "      <th>pixel3</th>\n",
              "      <th>pixel4</th>\n",
              "      <th>pixel5</th>\n",
              "      <th>pixel6</th>\n",
              "      <th>pixel7</th>\n",
              "      <th>pixel8</th>\n",
              "      <th>pixel9</th>\n",
              "      <th>pixel10</th>\n",
              "      <th>pixel11</th>\n",
              "      <th>pixel12</th>\n",
              "      <th>pixel13</th>\n",
              "      <th>pixel14</th>\n",
              "      <th>pixel15</th>\n",
              "      <th>pixel16</th>\n",
              "      <th>pixel17</th>\n",
              "      <th>pixel18</th>\n",
              "      <th>pixel19</th>\n",
              "      <th>pixel20</th>\n",
              "      <th>pixel21</th>\n",
              "      <th>pixel22</th>\n",
              "      <th>pixel23</th>\n",
              "      <th>pixel24</th>\n",
              "      <th>pixel25</th>\n",
              "      <th>pixel26</th>\n",
              "      <th>pixel27</th>\n",
              "      <th>pixel28</th>\n",
              "      <th>pixel29</th>\n",
              "      <th>pixel30</th>\n",
              "      <th>pixel31</th>\n",
              "      <th>pixel32</th>\n",
              "      <th>pixel33</th>\n",
              "      <th>pixel34</th>\n",
              "      <th>pixel35</th>\n",
              "      <th>pixel36</th>\n",
              "      <th>pixel37</th>\n",
              "      <th>pixel38</th>\n",
              "      <th>...</th>\n",
              "      <th>pixel744</th>\n",
              "      <th>pixel745</th>\n",
              "      <th>pixel746</th>\n",
              "      <th>pixel747</th>\n",
              "      <th>pixel748</th>\n",
              "      <th>pixel749</th>\n",
              "      <th>pixel750</th>\n",
              "      <th>pixel751</th>\n",
              "      <th>pixel752</th>\n",
              "      <th>pixel753</th>\n",
              "      <th>pixel754</th>\n",
              "      <th>pixel755</th>\n",
              "      <th>pixel756</th>\n",
              "      <th>pixel757</th>\n",
              "      <th>pixel758</th>\n",
              "      <th>pixel759</th>\n",
              "      <th>pixel760</th>\n",
              "      <th>pixel761</th>\n",
              "      <th>pixel762</th>\n",
              "      <th>pixel763</th>\n",
              "      <th>pixel764</th>\n",
              "      <th>pixel765</th>\n",
              "      <th>pixel766</th>\n",
              "      <th>pixel767</th>\n",
              "      <th>pixel768</th>\n",
              "      <th>pixel769</th>\n",
              "      <th>pixel770</th>\n",
              "      <th>pixel771</th>\n",
              "      <th>pixel772</th>\n",
              "      <th>pixel773</th>\n",
              "      <th>pixel774</th>\n",
              "      <th>pixel775</th>\n",
              "      <th>pixel776</th>\n",
              "      <th>pixel777</th>\n",
              "      <th>pixel778</th>\n",
              "      <th>pixel779</th>\n",
              "      <th>pixel780</th>\n",
              "      <th>pixel781</th>\n",
              "      <th>pixel782</th>\n",
              "      <th>pixel783</th>\n",
              "    </tr>\n",
              "  </thead>\n",
              "  <tbody>\n",
              "    <tr>\n",
              "      <th>38732</th>\n",
              "      <td>6</td>\n",
              "      <td>0</td>\n",
              "      <td>0</td>\n",
              "      <td>0</td>\n",
              "      <td>0</td>\n",
              "      <td>0</td>\n",
              "      <td>0</td>\n",
              "      <td>0</td>\n",
              "      <td>0</td>\n",
              "      <td>0</td>\n",
              "      <td>0</td>\n",
              "      <td>0</td>\n",
              "      <td>0</td>\n",
              "      <td>0</td>\n",
              "      <td>0</td>\n",
              "      <td>0</td>\n",
              "      <td>0</td>\n",
              "      <td>0</td>\n",
              "      <td>0</td>\n",
              "      <td>0</td>\n",
              "      <td>0</td>\n",
              "      <td>0</td>\n",
              "      <td>0</td>\n",
              "      <td>0</td>\n",
              "      <td>0</td>\n",
              "      <td>0</td>\n",
              "      <td>0</td>\n",
              "      <td>0</td>\n",
              "      <td>0</td>\n",
              "      <td>0</td>\n",
              "      <td>0</td>\n",
              "      <td>0</td>\n",
              "      <td>0</td>\n",
              "      <td>0</td>\n",
              "      <td>0</td>\n",
              "      <td>0</td>\n",
              "      <td>0</td>\n",
              "      <td>0</td>\n",
              "      <td>0</td>\n",
              "      <td>0</td>\n",
              "      <td>...</td>\n",
              "      <td>0</td>\n",
              "      <td>0</td>\n",
              "      <td>0</td>\n",
              "      <td>0</td>\n",
              "      <td>0</td>\n",
              "      <td>0</td>\n",
              "      <td>0</td>\n",
              "      <td>0</td>\n",
              "      <td>0</td>\n",
              "      <td>0</td>\n",
              "      <td>0</td>\n",
              "      <td>0</td>\n",
              "      <td>0</td>\n",
              "      <td>0</td>\n",
              "      <td>0</td>\n",
              "      <td>0</td>\n",
              "      <td>0</td>\n",
              "      <td>0</td>\n",
              "      <td>0</td>\n",
              "      <td>0</td>\n",
              "      <td>0</td>\n",
              "      <td>0</td>\n",
              "      <td>0</td>\n",
              "      <td>0</td>\n",
              "      <td>0</td>\n",
              "      <td>0</td>\n",
              "      <td>0</td>\n",
              "      <td>0</td>\n",
              "      <td>0</td>\n",
              "      <td>0</td>\n",
              "      <td>0</td>\n",
              "      <td>0</td>\n",
              "      <td>0</td>\n",
              "      <td>0</td>\n",
              "      <td>0</td>\n",
              "      <td>0</td>\n",
              "      <td>0</td>\n",
              "      <td>0</td>\n",
              "      <td>0</td>\n",
              "      <td>0</td>\n",
              "    </tr>\n",
              "    <tr>\n",
              "      <th>3686</th>\n",
              "      <td>9</td>\n",
              "      <td>0</td>\n",
              "      <td>0</td>\n",
              "      <td>0</td>\n",
              "      <td>0</td>\n",
              "      <td>0</td>\n",
              "      <td>0</td>\n",
              "      <td>0</td>\n",
              "      <td>0</td>\n",
              "      <td>0</td>\n",
              "      <td>0</td>\n",
              "      <td>0</td>\n",
              "      <td>0</td>\n",
              "      <td>0</td>\n",
              "      <td>0</td>\n",
              "      <td>0</td>\n",
              "      <td>0</td>\n",
              "      <td>0</td>\n",
              "      <td>0</td>\n",
              "      <td>0</td>\n",
              "      <td>0</td>\n",
              "      <td>0</td>\n",
              "      <td>0</td>\n",
              "      <td>0</td>\n",
              "      <td>0</td>\n",
              "      <td>0</td>\n",
              "      <td>0</td>\n",
              "      <td>0</td>\n",
              "      <td>0</td>\n",
              "      <td>0</td>\n",
              "      <td>0</td>\n",
              "      <td>0</td>\n",
              "      <td>0</td>\n",
              "      <td>0</td>\n",
              "      <td>0</td>\n",
              "      <td>0</td>\n",
              "      <td>0</td>\n",
              "      <td>0</td>\n",
              "      <td>0</td>\n",
              "      <td>0</td>\n",
              "      <td>...</td>\n",
              "      <td>0</td>\n",
              "      <td>0</td>\n",
              "      <td>0</td>\n",
              "      <td>0</td>\n",
              "      <td>0</td>\n",
              "      <td>0</td>\n",
              "      <td>0</td>\n",
              "      <td>0</td>\n",
              "      <td>0</td>\n",
              "      <td>0</td>\n",
              "      <td>0</td>\n",
              "      <td>0</td>\n",
              "      <td>0</td>\n",
              "      <td>0</td>\n",
              "      <td>0</td>\n",
              "      <td>0</td>\n",
              "      <td>0</td>\n",
              "      <td>0</td>\n",
              "      <td>0</td>\n",
              "      <td>0</td>\n",
              "      <td>0</td>\n",
              "      <td>0</td>\n",
              "      <td>0</td>\n",
              "      <td>0</td>\n",
              "      <td>0</td>\n",
              "      <td>0</td>\n",
              "      <td>0</td>\n",
              "      <td>0</td>\n",
              "      <td>0</td>\n",
              "      <td>0</td>\n",
              "      <td>0</td>\n",
              "      <td>0</td>\n",
              "      <td>0</td>\n",
              "      <td>0</td>\n",
              "      <td>0</td>\n",
              "      <td>0</td>\n",
              "      <td>0</td>\n",
              "      <td>0</td>\n",
              "      <td>0</td>\n",
              "      <td>0</td>\n",
              "    </tr>\n",
              "    <tr>\n",
              "      <th>30090</th>\n",
              "      <td>5</td>\n",
              "      <td>0</td>\n",
              "      <td>0</td>\n",
              "      <td>0</td>\n",
              "      <td>0</td>\n",
              "      <td>0</td>\n",
              "      <td>0</td>\n",
              "      <td>0</td>\n",
              "      <td>0</td>\n",
              "      <td>0</td>\n",
              "      <td>0</td>\n",
              "      <td>0</td>\n",
              "      <td>0</td>\n",
              "      <td>0</td>\n",
              "      <td>0</td>\n",
              "      <td>0</td>\n",
              "      <td>0</td>\n",
              "      <td>0</td>\n",
              "      <td>0</td>\n",
              "      <td>0</td>\n",
              "      <td>0</td>\n",
              "      <td>0</td>\n",
              "      <td>0</td>\n",
              "      <td>0</td>\n",
              "      <td>0</td>\n",
              "      <td>0</td>\n",
              "      <td>0</td>\n",
              "      <td>0</td>\n",
              "      <td>0</td>\n",
              "      <td>0</td>\n",
              "      <td>0</td>\n",
              "      <td>0</td>\n",
              "      <td>0</td>\n",
              "      <td>0</td>\n",
              "      <td>0</td>\n",
              "      <td>0</td>\n",
              "      <td>0</td>\n",
              "      <td>0</td>\n",
              "      <td>0</td>\n",
              "      <td>0</td>\n",
              "      <td>...</td>\n",
              "      <td>0</td>\n",
              "      <td>0</td>\n",
              "      <td>0</td>\n",
              "      <td>0</td>\n",
              "      <td>0</td>\n",
              "      <td>0</td>\n",
              "      <td>0</td>\n",
              "      <td>0</td>\n",
              "      <td>0</td>\n",
              "      <td>0</td>\n",
              "      <td>0</td>\n",
              "      <td>0</td>\n",
              "      <td>0</td>\n",
              "      <td>0</td>\n",
              "      <td>0</td>\n",
              "      <td>0</td>\n",
              "      <td>0</td>\n",
              "      <td>0</td>\n",
              "      <td>0</td>\n",
              "      <td>0</td>\n",
              "      <td>0</td>\n",
              "      <td>0</td>\n",
              "      <td>0</td>\n",
              "      <td>0</td>\n",
              "      <td>0</td>\n",
              "      <td>0</td>\n",
              "      <td>0</td>\n",
              "      <td>0</td>\n",
              "      <td>0</td>\n",
              "      <td>0</td>\n",
              "      <td>0</td>\n",
              "      <td>0</td>\n",
              "      <td>0</td>\n",
              "      <td>0</td>\n",
              "      <td>0</td>\n",
              "      <td>0</td>\n",
              "      <td>0</td>\n",
              "      <td>0</td>\n",
              "      <td>0</td>\n",
              "      <td>0</td>\n",
              "    </tr>\n",
              "    <tr>\n",
              "      <th>31205</th>\n",
              "      <td>7</td>\n",
              "      <td>0</td>\n",
              "      <td>0</td>\n",
              "      <td>0</td>\n",
              "      <td>0</td>\n",
              "      <td>0</td>\n",
              "      <td>0</td>\n",
              "      <td>0</td>\n",
              "      <td>0</td>\n",
              "      <td>0</td>\n",
              "      <td>0</td>\n",
              "      <td>0</td>\n",
              "      <td>0</td>\n",
              "      <td>0</td>\n",
              "      <td>0</td>\n",
              "      <td>0</td>\n",
              "      <td>0</td>\n",
              "      <td>0</td>\n",
              "      <td>0</td>\n",
              "      <td>0</td>\n",
              "      <td>0</td>\n",
              "      <td>0</td>\n",
              "      <td>0</td>\n",
              "      <td>0</td>\n",
              "      <td>0</td>\n",
              "      <td>0</td>\n",
              "      <td>0</td>\n",
              "      <td>0</td>\n",
              "      <td>0</td>\n",
              "      <td>0</td>\n",
              "      <td>0</td>\n",
              "      <td>0</td>\n",
              "      <td>0</td>\n",
              "      <td>0</td>\n",
              "      <td>0</td>\n",
              "      <td>0</td>\n",
              "      <td>0</td>\n",
              "      <td>0</td>\n",
              "      <td>0</td>\n",
              "      <td>0</td>\n",
              "      <td>...</td>\n",
              "      <td>0</td>\n",
              "      <td>0</td>\n",
              "      <td>0</td>\n",
              "      <td>0</td>\n",
              "      <td>0</td>\n",
              "      <td>0</td>\n",
              "      <td>0</td>\n",
              "      <td>0</td>\n",
              "      <td>0</td>\n",
              "      <td>0</td>\n",
              "      <td>0</td>\n",
              "      <td>0</td>\n",
              "      <td>0</td>\n",
              "      <td>0</td>\n",
              "      <td>0</td>\n",
              "      <td>0</td>\n",
              "      <td>0</td>\n",
              "      <td>0</td>\n",
              "      <td>0</td>\n",
              "      <td>0</td>\n",
              "      <td>0</td>\n",
              "      <td>76</td>\n",
              "      <td>92</td>\n",
              "      <td>1</td>\n",
              "      <td>0</td>\n",
              "      <td>0</td>\n",
              "      <td>0</td>\n",
              "      <td>0</td>\n",
              "      <td>0</td>\n",
              "      <td>0</td>\n",
              "      <td>0</td>\n",
              "      <td>0</td>\n",
              "      <td>0</td>\n",
              "      <td>0</td>\n",
              "      <td>0</td>\n",
              "      <td>0</td>\n",
              "      <td>0</td>\n",
              "      <td>0</td>\n",
              "      <td>0</td>\n",
              "      <td>0</td>\n",
              "    </tr>\n",
              "    <tr>\n",
              "      <th>11331</th>\n",
              "      <td>9</td>\n",
              "      <td>0</td>\n",
              "      <td>0</td>\n",
              "      <td>0</td>\n",
              "      <td>0</td>\n",
              "      <td>0</td>\n",
              "      <td>0</td>\n",
              "      <td>0</td>\n",
              "      <td>0</td>\n",
              "      <td>0</td>\n",
              "      <td>0</td>\n",
              "      <td>0</td>\n",
              "      <td>0</td>\n",
              "      <td>0</td>\n",
              "      <td>0</td>\n",
              "      <td>0</td>\n",
              "      <td>0</td>\n",
              "      <td>0</td>\n",
              "      <td>0</td>\n",
              "      <td>0</td>\n",
              "      <td>0</td>\n",
              "      <td>0</td>\n",
              "      <td>0</td>\n",
              "      <td>0</td>\n",
              "      <td>0</td>\n",
              "      <td>0</td>\n",
              "      <td>0</td>\n",
              "      <td>0</td>\n",
              "      <td>0</td>\n",
              "      <td>0</td>\n",
              "      <td>0</td>\n",
              "      <td>0</td>\n",
              "      <td>0</td>\n",
              "      <td>0</td>\n",
              "      <td>0</td>\n",
              "      <td>0</td>\n",
              "      <td>0</td>\n",
              "      <td>0</td>\n",
              "      <td>0</td>\n",
              "      <td>0</td>\n",
              "      <td>...</td>\n",
              "      <td>0</td>\n",
              "      <td>0</td>\n",
              "      <td>0</td>\n",
              "      <td>0</td>\n",
              "      <td>0</td>\n",
              "      <td>0</td>\n",
              "      <td>0</td>\n",
              "      <td>0</td>\n",
              "      <td>0</td>\n",
              "      <td>0</td>\n",
              "      <td>0</td>\n",
              "      <td>0</td>\n",
              "      <td>0</td>\n",
              "      <td>0</td>\n",
              "      <td>0</td>\n",
              "      <td>0</td>\n",
              "      <td>0</td>\n",
              "      <td>0</td>\n",
              "      <td>0</td>\n",
              "      <td>0</td>\n",
              "      <td>0</td>\n",
              "      <td>0</td>\n",
              "      <td>0</td>\n",
              "      <td>0</td>\n",
              "      <td>0</td>\n",
              "      <td>0</td>\n",
              "      <td>0</td>\n",
              "      <td>0</td>\n",
              "      <td>0</td>\n",
              "      <td>0</td>\n",
              "      <td>0</td>\n",
              "      <td>0</td>\n",
              "      <td>0</td>\n",
              "      <td>0</td>\n",
              "      <td>0</td>\n",
              "      <td>0</td>\n",
              "      <td>0</td>\n",
              "      <td>0</td>\n",
              "      <td>0</td>\n",
              "      <td>0</td>\n",
              "    </tr>\n",
              "  </tbody>\n",
              "</table>\n",
              "<p>5 rows × 785 columns</p>\n",
              "</div>"
            ],
            "text/plain": [
              "       label  pixel0  pixel1  pixel2  ...  pixel780  pixel781  pixel782  pixel783\n",
              "38732      6       0       0       0  ...         0         0         0         0\n",
              "3686       9       0       0       0  ...         0         0         0         0\n",
              "30090      5       0       0       0  ...         0         0         0         0\n",
              "31205      7       0       0       0  ...         0         0         0         0\n",
              "11331      9       0       0       0  ...         0         0         0         0\n",
              "\n",
              "[5 rows x 785 columns]"
            ]
          },
          "metadata": {
            "tags": []
          },
          "execution_count": 10
        }
      ]
    },
    {
      "cell_type": "code",
      "metadata": {
        "colab": {
          "base_uri": "https://localhost:8080/"
        },
        "id": "_CmdrFa-iPOQ",
        "outputId": "7e27b1e8-9782-49b5-8bd7-8b6630ad8bfd"
      },
      "source": [
        "##Checking for null values in the training set\n",
        "X_train.isna().sum().describe()"
      ],
      "execution_count": 11,
      "outputs": [
        {
          "output_type": "execute_result",
          "data": {
            "text/plain": [
              "count    785.0\n",
              "mean       0.0\n",
              "std        0.0\n",
              "min        0.0\n",
              "25%        0.0\n",
              "50%        0.0\n",
              "75%        0.0\n",
              "max        0.0\n",
              "dtype: float64"
            ]
          },
          "metadata": {
            "tags": []
          },
          "execution_count": 11
        }
      ]
    },
    {
      "cell_type": "code",
      "metadata": {
        "colab": {
          "base_uri": "https://localhost:8080/"
        },
        "id": "MfQHe2ajiYKL",
        "outputId": "d25a784e-58e9-44fc-fe27-5b44f4320dab"
      },
      "source": [
        "##Checking for null values in the test set\n",
        "X_test.isna().sum().describe()"
      ],
      "execution_count": 12,
      "outputs": [
        {
          "output_type": "execute_result",
          "data": {
            "text/plain": [
              "count    785.0\n",
              "mean       0.0\n",
              "std        0.0\n",
              "min        0.0\n",
              "25%        0.0\n",
              "50%        0.0\n",
              "75%        0.0\n",
              "max        0.0\n",
              "dtype: float64"
            ]
          },
          "metadata": {
            "tags": []
          },
          "execution_count": 12
        }
      ]
    },
    {
      "cell_type": "markdown",
      "metadata": {
        "id": "DfpfxIhQigEv"
      },
      "source": [
        "There are no null values in the dataset."
      ]
    },
    {
      "cell_type": "code",
      "metadata": {
        "colab": {
          "base_uri": "https://localhost:8080/",
          "height": 350
        },
        "id": "GWvurJL_b8Ie",
        "outputId": "cacdd93a-d77f-437c-835f-2f3905bf972d"
      },
      "source": [
        "##Countplot to check the data distribtion\n",
        "sns.countplot(X_train['label'])"
      ],
      "execution_count": 13,
      "outputs": [
        {
          "output_type": "stream",
          "text": [
            "/usr/local/lib/python3.7/dist-packages/seaborn/_decorators.py:43: FutureWarning: Pass the following variable as a keyword arg: x. From version 0.12, the only valid positional argument will be `data`, and passing other arguments without an explicit keyword will result in an error or misinterpretation.\n",
            "  FutureWarning\n"
          ],
          "name": "stderr"
        },
        {
          "output_type": "execute_result",
          "data": {
            "text/plain": [
              "<matplotlib.axes._subplots.AxesSubplot at 0x7f71787e2750>"
            ]
          },
          "metadata": {
            "tags": []
          },
          "execution_count": 13
        },
        {
          "output_type": "display_data",
          "data": {
            "image/png": "[encoded data removed]",
            "text/plain": [
              "<Figure size 432x288 with 1 Axes>"
            ]
          },
          "metadata": {
            "tags": [],
            "needs_background": "light"
          }
        }
      ]
    },
    {
      "cell_type": "markdown",
      "metadata": {
        "id": "0XKJEvUBeJ94"
      },
      "source": [
        "From the above countplot, we can see that the dataset is mostly balanced"
      ]
    },
    {
      "cell_type": "markdown",
      "metadata": {
        "id": "lFJ3PfBaeTqF"
      },
      "source": [
        "## **Feature Engineering**"
      ]
    },
    {
      "cell_type": "code",
      "metadata": {
        "id": "ccOtvvYAynv3"
      },
      "source": [
        "##Converting the dataset to numpy array\n",
        "train_np = X_train.to_numpy()\n",
        "test_np = X_test.to_numpy()"
      ],
      "execution_count": 14,
      "outputs": []
    },
    {
      "cell_type": "code",
      "metadata": {
        "colab": {
          "base_uri": "https://localhost:8080/"
        },
        "id": "vHkoH0gKzEyQ",
        "outputId": "be7defd5-ffe2-40e7-d64e-0884c3654d39"
      },
      "source": [
        "test_np[:10]"
      ],
      "execution_count": 15,
      "outputs": [
        {
          "output_type": "execute_result",
          "data": {
            "text/plain": [
              "array([[6, 0, 0, ..., 0, 0, 0],\n",
              "       [9, 0, 0, ..., 0, 0, 0],\n",
              "       [5, 0, 0, ..., 0, 0, 0],\n",
              "       ...,\n",
              "       [3, 0, 0, ..., 0, 0, 0],\n",
              "       [7, 0, 0, ..., 0, 0, 0],\n",
              "       [0, 0, 0, ..., 0, 0, 0]])"
            ]
          },
          "metadata": {
            "tags": []
          },
          "execution_count": 15
        }
      ]
    },
    {
      "cell_type": "code",
      "metadata": {
        "colab": {
          "base_uri": "https://localhost:8080/"
        },
        "id": "2LMf9vA2zNX3",
        "outputId": "abc4a5a6-01d1-47ff-b424-b3edad031dfe"
      },
      "source": [
        "test_np[test_np==255]\n",
        "test_np.shape"
      ],
      "execution_count": 16,
      "outputs": [
        {
          "output_type": "execute_result",
          "data": {
            "text/plain": [
              "(8400, 785)"
            ]
          },
          "metadata": {
            "tags": []
          },
          "execution_count": 16
        }
      ]
    },
    {
      "cell_type": "markdown",
      "metadata": {
        "id": "Hygn1rn_etas"
      },
      "source": [
        "The images of the MNIST dataset are greyscale and the pixel values range between 0 to 255. We will map these values into an interval from [0.01, 1] by multiplying each pixel by 0.99 / 255 and adding 0.01 to the result. This way, we avoid 0 values as inputs, which are capable of preventing weight updates.\n",
        "\n"
      ]
    },
    {
      "cell_type": "code",
      "metadata": {
        "id": "iY1Y7_PAzVoE"
      },
      "source": [
        "fac = 0.99 / 255\n",
        "train_imgs = np.asfarray(train_np[:, 1:]) * fac + 0.01\n",
        "test_imgs = np.asfarray(test_np[:, 1:]) * fac + 0.01\n",
        "\n",
        "train_labels = np.asfarray(train_np[:, :1])\n",
        "test_labels = np.asfarray(test_np[:, :1])"
      ],
      "execution_count": 17,
      "outputs": []
    },
    {
      "cell_type": "markdown",
      "metadata": {
        "id": "_oz6IbuwfNHj"
      },
      "source": [
        "We need the labels in a one-hot representation. We have 10 digits from 0 to 9, i.e. lr = np.arange(10)."
      ]
    },
    {
      "cell_type": "code",
      "metadata": {
        "colab": {
          "base_uri": "https://localhost:8080/"
        },
        "id": "NXG9rxnizebl",
        "outputId": "5ea679f8-8b3b-4381-9a85-ab85a44108e2"
      },
      "source": [
        "lr = np.arange(10)\n",
        "##Printing out the values\n",
        "for label in range(10):\n",
        "    one_hot = (lr==label).astype(np.int)\n",
        "    print(\"label\", label, \"in one-hot representation: \", one_hot)"
      ],
      "execution_count": 18,
      "outputs": [
        {
          "output_type": "stream",
          "text": [
            "label 0 in one-hot representation:  [1 0 0 0 0 0 0 0 0 0]\n",
            "label 1 in one-hot representation:  [0 1 0 0 0 0 0 0 0 0]\n",
            "label 2 in one-hot representation:  [0 0 1 0 0 0 0 0 0 0]\n",
            "label 3 in one-hot representation:  [0 0 0 1 0 0 0 0 0 0]\n",
            "label 4 in one-hot representation:  [0 0 0 0 1 0 0 0 0 0]\n",
            "label 5 in one-hot representation:  [0 0 0 0 0 1 0 0 0 0]\n",
            "label 6 in one-hot representation:  [0 0 0 0 0 0 1 0 0 0]\n",
            "label 7 in one-hot representation:  [0 0 0 0 0 0 0 1 0 0]\n",
            "label 8 in one-hot representation:  [0 0 0 0 0 0 0 0 1 0]\n",
            "label 9 in one-hot representation:  [0 0 0 0 0 0 0 0 0 1]\n"
          ],
          "name": "stdout"
        }
      ]
    },
    {
      "cell_type": "markdown",
      "metadata": {
        "id": "BM1BsyCffZTa"
      },
      "source": [
        "We are ready now to turn our labelled images into one-hot representations. Instead of zeroes and one, we create 0.01 and 0.99.\n",
        "\n"
      ]
    },
    {
      "cell_type": "code",
      "metadata": {
        "id": "VK7ojDiozkfj"
      },
      "source": [
        "image_size = 28 \n",
        "no_of_different_labels = 10\n",
        "lr = np.arange(no_of_different_labels)\n",
        "\n",
        "# transform labels into one hot representation\n",
        "train_labels_one_hot = (lr==train_labels).astype(np.float)\n",
        "test_labels_one_hot = (lr==test_labels).astype(np.float)\n",
        "\n",
        "# we don't want zeroes and ones in the labels \n",
        "train_labels_one_hot[train_labels_one_hot==0] = 0.01\n",
        "train_labels_one_hot[train_labels_one_hot==1] = 0.99\n",
        "test_labels_one_hot[test_labels_one_hot==0] = 0.01\n",
        "test_labels_one_hot[test_labels_one_hot==1] = 0.99"
      ],
      "execution_count": 19,
      "outputs": []
    },
    {
      "cell_type": "markdown",
      "metadata": {
        "id": "Ds0F9o5ugBR2"
      },
      "source": [
        "### Visualizations"
      ]
    },
    {
      "cell_type": "code",
      "metadata": {
        "colab": {
          "base_uri": "https://localhost:8080/",
          "height": 265
        },
        "id": "HVPzBWw7zvf2",
        "outputId": "ba10d24a-a412-4862-d4a8-16917c9efd50"
      },
      "source": [
        "img = train_imgs[0].reshape((28,28))\n",
        "plt.imshow(img, cmap=\"Pastel1\")\n",
        "plt.show()"
      ],
      "execution_count": 21,
      "outputs": [
        {
          "output_type": "display_data",
          "data": {
            "image/png": "[encoded data removed]",
            "text/plain": [
              "<Figure size 432x288 with 1 Axes>"
            ]
          },
          "metadata": {
            "tags": [],
            "needs_background": "light"
          }
        }
      ]
    },
    {
      "cell_type": "code",
      "metadata": {
        "id": "4WCX_rpbluly"
      },
      "source": [
        "# Encode labels to one hot vectors (ex : 2 -> [0,0,1,0,0,0,0,0,0,0])\n",
        "Y_train = train[\"label\"]\n",
        "from keras.utils.np_utils import to_categorical # convert to one-hot-encoding\n",
        "Y_train = to_categorical(Y_train, num_classes = 10)"
      ],
      "execution_count": 22,
      "outputs": []
    },
    {
      "cell_type": "code",
      "metadata": {
        "colab": {
          "base_uri": "https://localhost:8080/",
          "height": 334
        },
        "id": "3ce-ThsGlxTa",
        "outputId": "24c6d9ca-e171-4c4c-d931-51a7a2577926"
      },
      "source": [
        "##Checking the output format\n",
        "plt.title(Y_train[7])\n",
        "plt.plot(Y_train[7])\n",
        "plt.xticks(range(10));"
      ],
      "execution_count": 23,
      "outputs": [
        {
          "output_type": "stream",
          "text": [
            "/usr/local/lib/python3.7/dist-packages/matplotlib/text.py:1165: FutureWarning: elementwise comparison failed; returning scalar instead, but in the future will perform elementwise comparison\n",
            "  if s != self._text:\n"
          ],
          "name": "stderr"
        },
        {
          "output_type": "display_data",
          "data": {
            "image/png": "[encoded data removed]",
            "text/plain": [
              "<Figure size 432x288 with 1 Axes>"
            ]
          },
          "metadata": {
            "tags": [],
            "needs_background": "light"
          }
        }
      ]
    },
    {
      "cell_type": "markdown",
      "metadata": {
        "id": "suoDyMf1gUU3"
      },
      "source": [
        "## Defining the neural network for our classification"
      ]
    },
    {
      "cell_type": "code",
      "metadata": {
        "id": "uCO-vZqw0bL4"
      },
      "source": [
        "from scipy.stats import truncnorm\n",
        "\n",
        "##Activation function\n",
        "@np.vectorize\n",
        "def sigmoid(x):\n",
        "    return 1 / (1 + np.e ** -x)\n",
        "    # return np.maximum(0,x)\n",
        "\n",
        "activation_function = sigmoid\n",
        "\n",
        "##normalizing the input\n",
        "def truncated_normal(mean=0, sd=1, low=0, upp=10):\n",
        "    return truncnorm((low - mean) / sd, \n",
        "                     (upp - mean) / sd, \n",
        "                     loc=mean, \n",
        "                     scale=sd)\n",
        "\n",
        "class NeuralNetwork:\n",
        "    def __init__(self, \n",
        "                 no_of_in_nodes, \n",
        "                 no_of_out_nodes, \n",
        "                 no_of_hidden_nodes,\n",
        "                 learning_rate):\n",
        "        self.no_of_in_nodes = no_of_in_nodes\n",
        "        self.no_of_out_nodes = no_of_out_nodes\n",
        "        self.no_of_hidden_nodes = no_of_hidden_nodes\n",
        "        self.learning_rate = learning_rate \n",
        "        self.create_weight_matrices()\n",
        "\n",
        "    ##Weight initialization       \n",
        "    def create_weight_matrices(self):\n",
        "        rad = 1 / np.sqrt(self.no_of_in_nodes)\n",
        "        X = truncated_normal(mean=0, \n",
        "                             sd=1, \n",
        "                             low=-rad, \n",
        "                             upp=rad)\n",
        "        self.wih = X.rvs((self.no_of_hidden_nodes, \n",
        "                                       self.no_of_in_nodes))\n",
        "        rad = 1 / np.sqrt(self.no_of_hidden_nodes)\n",
        "        X = truncated_normal(mean=0, sd=1, low=-rad, upp=rad)\n",
        "        self.who = X.rvs((self.no_of_out_nodes, self.no_of_hidden_nodes))\n",
        "        \n",
        "    ##Neural net architecture defining\n",
        "    def train(self, input_vector, target_vector):\n",
        "        input_vector = np.array(input_vector, ndmin=2).T\n",
        "        target_vector = np.array(target_vector, ndmin=2).T\n",
        "        output_vector1 = np.dot(self.wih, input_vector)\n",
        "        output_hidden = activation_function(output_vector1)\n",
        "        output_vector2 = np.dot(self.who, output_hidden)\n",
        "        output_network = activation_function(output_vector2)\n",
        "        output_errors = target_vector - output_network\n",
        "        # update the weights:\n",
        "        tmp = output_errors * output_network * (1.0 - output_network)     \n",
        "        tmp = self.learning_rate  * np.dot(tmp, output_hidden.T)\n",
        "        self.who += tmp\n",
        "        # calculate hidden errors:\n",
        "        hidden_errors = np.dot(self.who.T, output_errors)\n",
        "        # update the weights:\n",
        "        tmp = hidden_errors * output_hidden * (1.0 - output_hidden)\n",
        "        self.wih += self.learning_rate * np.dot(tmp, input_vector.T)\n",
        "        \n",
        "    def run(self, input_vector):\n",
        "        input_vector = np.array(input_vector, ndmin=2).T\n",
        "        output_vector = np.dot(self.wih, input_vector)\n",
        "        output_vector = activation_function(output_vector)\n",
        "        output_vector = np.dot(self.who, output_vector)\n",
        "        output_vector = activation_function(output_vector)\n",
        "        return output_vector\n",
        "\n",
        "    ##Functions for model evaluation     \n",
        "    def confusion_matrix(self, data_array, labels):\n",
        "        cm = np.zeros((10, 10), int)\n",
        "        for i in range(len(data_array)):\n",
        "            res = self.run(data_array[i])\n",
        "            res_max = res.argmax()\n",
        "            target = labels[i][0]\n",
        "            cm[res_max, int(target)] += 1\n",
        "        return cm    \n",
        "\n",
        "    def precision(self, label, confusion_matrix):\n",
        "        col = confusion_matrix[:, label]\n",
        "        return confusion_matrix[label, label] / col.sum()\n",
        "    \n",
        "    def recall(self, label, confusion_matrix):\n",
        "        row = confusion_matrix[label, :]\n",
        "        return confusion_matrix[label, label] / row.sum()\n",
        "        \n",
        "    \n",
        "    def evaluate(self, data, labels):\n",
        "        corrects, wrongs = 0, 0\n",
        "        for i in range(len(data)):\n",
        "            res = self.run(data[i])\n",
        "            res_max = res.argmax()\n",
        "            if res_max == labels[i]:\n",
        "                corrects += 1\n",
        "            else:\n",
        "                wrongs += 1\n",
        "        return corrects, wrongs"
      ],
      "execution_count": 52,
      "outputs": []
    },
    {
      "cell_type": "code",
      "metadata": {
        "id": "5_8_J-oM0ejy"
      },
      "source": [
        "image_pixels = image_size * image_size\n",
        "ANN = NeuralNetwork(no_of_in_nodes = image_pixels, \n",
        "                    no_of_out_nodes = 10, \n",
        "                    no_of_hidden_nodes = 100,\n",
        "                    learning_rate = 0.1)\n",
        "    \n",
        "for i in range(len(train_imgs)):\n",
        "    ANN.train(train_imgs[i], train_labels_one_hot[i])"
      ],
      "execution_count": 35,
      "outputs": []
    },
    {
      "cell_type": "code",
      "metadata": {
        "colab": {
          "base_uri": "https://localhost:8080/"
        },
        "id": "dyZljA3C0xTP",
        "outputId": "e136e381-2adb-4d48-8b60-c96025b5c721"
      },
      "source": [
        "for i in range(20):\n",
        "    res = ANN.run(test_imgs[i])\n",
        "    print(test_labels[i], np.argmax(res), np.max(res))"
      ],
      "execution_count": 36,
      "outputs": [
        {
          "output_type": "stream",
          "text": [
            "[6.] 6 0.9926932344588864\n",
            "[9.] 9 0.9913797185972738\n",
            "[5.] 5 0.9445238972490092\n",
            "[7.] 7 0.9851791952708082\n",
            "[9.] 9 0.978272918756872\n",
            "[2.] 2 0.9617343090986648\n",
            "[3.] 3 0.5686407072766435\n",
            "[3.] 8 0.3601824401597631\n",
            "[7.] 7 0.9948749594063719\n",
            "[0.] 0 0.9722486734678008\n",
            "[6.] 6 0.9632144059847311\n",
            "[9.] 9 0.9858178540215229\n",
            "[1.] 1 0.7173582686688664\n",
            "[8.] 8 0.7352715942113288\n",
            "[2.] 2 0.8936194717906749\n",
            "[4.] 4 0.928082021421061\n",
            "[1.] 1 0.93383851017551\n",
            "[9.] 9 0.7021827325357576\n",
            "[4.] 4 0.9023338447346513\n",
            "[1.] 1 0.5623171464649188\n"
          ],
          "name": "stdout"
        }
      ]
    },
    {
      "cell_type": "code",
      "metadata": {
        "colab": {
          "base_uri": "https://localhost:8080/"
        },
        "id": "xnhYdZJZ4pLn",
        "outputId": "ad0c3761-bd4e-438c-fc71-e1c4b0a7e6a0"
      },
      "source": [
        "corrects, wrongs = ANN.evaluate(train_imgs, train_labels)\n",
        "print(\"accuracy train: \", corrects / ( corrects + wrongs))\n",
        "corrects, wrongs = ANN.evaluate(test_imgs, test_labels)\n",
        "print(\"accuracy: test\", corrects / ( corrects + wrongs))\n",
        "print(80*\"-\")\n",
        "print(\"Confusion matrix\")\n",
        "print(16*\"-\")\n",
        "cm = ANN.confusion_matrix(train_imgs, train_labels)\n",
        "print(cm)\n",
        "print(80*\"-\")\n",
        "print(\"Precision and recall scores\")\n",
        "print(25*\"-\")\n",
        "for i in range(10):\n",
        "    print(\"digit: \", i, \"precision: \", ANN.precision(i, cm), \"recall: \", ANN.recall(i, cm))\n",
        "print(80*\"-\")"
      ],
      "execution_count": 38,
      "outputs": [
        {
          "output_type": "stream",
          "text": [
            "accuracy train:  0.9448511904761905\n",
            "accuracy: test 0.9372619047619047\n",
            "--------------------------------------------------------------------------------\n",
            "Confusion matrix\n",
            "----------------\n",
            "[[3275    1   51   26   11   28   44   16   34   21]\n",
            " [   0 3641    8    8    5    4    3   17   36    8]\n",
            " [   1    8 3109   39    9    3    7   38   19    2]\n",
            " [   4   23   32 3223    2   49    1   11   62   45]\n",
            " [   5    5   32    1 2993   18    6   15   12   44]\n",
            " [   4   13    8   91    5 2899   39    6   65   24]\n",
            " [  12    3   29    5   30   26 3196    3   24    0]\n",
            " [   0    9   31   25    8    2    0 3339    8   38]\n",
            " [   7   12   32   18    3    7    2    5 2907    7]\n",
            " [   3    7   16   51  150   30    0   78  103 3165]]\n",
            "--------------------------------------------------------------------------------\n",
            "Precision and recall scores\n",
            "----------------\n",
            "digit:  0 precision:  0.9891271519178496 recall:  0.9338465925292273\n",
            "digit:  1 precision:  0.9782375067168189 recall:  0.9761394101876676\n",
            "digit:  2 precision:  0.9286140979689367 recall:  0.9610510046367852\n",
            "digit:  3 precision:  0.9242902208201893 recall:  0.9336616454229433\n",
            "digit:  4 precision:  0.9306592039800995 recall:  0.9559246247205365\n",
            "digit:  5 precision:  0.9455316373124593 recall:  0.9191502853519341\n",
            "digit:  6 precision:  0.9690721649484536 recall:  0.9603365384615384\n",
            "digit:  7 precision:  0.9464285714285714 recall:  0.965028901734104\n",
            "digit:  8 precision:  0.8889908256880734 recall:  0.969\n",
            "digit:  9 precision:  0.943649373881932 recall:  0.8784346378018318\n",
            "--------------------------------------------------------------------------------\n"
          ],
          "name": "stdout"
        }
      ]
    },
    {
      "cell_type": "code",
      "metadata": {
        "colab": {
          "base_uri": "https://localhost:8080/"
        },
        "id": "wAWD6j5t43Hc",
        "outputId": "6f157a3a-83b8-4b39-b09c-7b6ef645e6a1"
      },
      "source": [
        "epochs = 3\n",
        "neural_net = NeuralNetwork(no_of_in_nodes = image_pixels, \n",
        "                   no_of_out_nodes = 10, \n",
        "                   no_of_hidden_nodes = 100,\n",
        "                   learning_rate = 0.1)\n",
        "\n",
        "for epoch in range(epochs):  \n",
        "    print(\"epoch: \", epoch)\n",
        "    for i in range(len(train_imgs)):\n",
        "        neural_net.train(train_imgs[i], \n",
        "                 train_labels_one_hot[i])\n",
        "  \n",
        "    corrects, wrongs = neural_net.evaluate(train_imgs, train_labels)\n",
        "    print(\"accuracy train: \", corrects / ( corrects + wrongs))\n",
        "    corrects, wrongs = neural_net.evaluate(test_imgs, test_labels)\n",
        "    print(\"accuracy: test\", corrects / ( corrects + wrongs))"
      ],
      "execution_count": 39,
      "outputs": [
        {
          "output_type": "stream",
          "text": [
            "epoch:  0\n",
            "accuracy train:  0.94875\n",
            "accuracy: test 0.9420238095238095\n",
            "epoch:  1\n",
            "accuracy train:  0.9650595238095238\n",
            "accuracy: test 0.9529761904761904\n",
            "epoch:  2\n",
            "accuracy train:  0.9719047619047619\n",
            "accuracy: test 0.9602380952380952\n"
          ],
          "name": "stdout"
        }
      ]
    },
    {
      "cell_type": "code",
      "metadata": {
        "id": "ibMao8MIFGYy"
      },
      "source": [
        "##With dropout\n",
        "import random\n",
        "# from scipy.special import expit as activation_function\n",
        "from scipy.stats import truncnorm\n",
        "\n",
        "def sigmoid(x):\n",
        "    return 1 / (1 + np.e ** -x)\n",
        "    # return np.maximum(0,x)\n",
        "\n",
        "activation_function = sigmoid\n",
        "\n",
        "\n",
        "def truncated_normal(mean=0, sd=1, low=0, upp=10):\n",
        "    return truncnorm(\n",
        "        (low - mean) / sd, (upp - mean) / sd, loc=mean, scale=sd)\n",
        "\n",
        "class NeuralNetwork:\n",
        "    def __init__(self, \n",
        "                 no_of_in_nodes, \n",
        "                 no_of_out_nodes, \n",
        "                 no_of_hidden_nodes,\n",
        "                 learning_rate,\n",
        "                 bias=None\n",
        "                ):  \n",
        "\n",
        "        self.no_of_in_nodes = no_of_in_nodes\n",
        "        self.no_of_out_nodes = no_of_out_nodes       \n",
        "        self.no_of_hidden_nodes = no_of_hidden_nodes          \n",
        "        self.learning_rate = learning_rate \n",
        "        self.bias = bias\n",
        "        self.create_weight_matrices()\n",
        "        \n",
        "    def create_weight_matrices(self):\n",
        "        X = truncated_normal(mean=2, sd=1, low=-0.5, upp=0.5)\n",
        "        \n",
        "        bias_node = 1 if self.bias else 0\n",
        "\n",
        "        n = (self.no_of_in_nodes + bias_node) * self.no_of_hidden_nodes\n",
        "        X = truncated_normal(mean=2, sd=1, low=-0.5, upp=0.5)\n",
        "        self.wih = X.rvs(n).reshape((self.no_of_hidden_nodes, \n",
        "                                                   self.no_of_in_nodes + bias_node))\n",
        "\n",
        "        n = (self.no_of_hidden_nodes + bias_node) * self.no_of_out_nodes\n",
        "        X = truncated_normal(mean=2, sd=1, low=-0.5, upp=0.5)\n",
        "        self.who = X.rvs(n).reshape((self.no_of_out_nodes, \n",
        "                                                    (self.no_of_hidden_nodes + bias_node)))\n",
        "\n",
        "    def dropout_weight_matrices(self,\n",
        "                                active_input_percentage=0.70,\n",
        "                                active_hidden_percentage=0.70):\n",
        "        # restore wih array, if it had been used for dropout\n",
        "        self.wih_orig = self.wih.copy()\n",
        "        self.no_of_in_nodes_orig = self.no_of_in_nodes\n",
        "        self.no_of_hidden_nodes_orig = self.no_of_hidden_nodes\n",
        "        self.who_orig = self.who.copy()\n",
        "        \n",
        "\n",
        "        active_input_nodes = int(self.no_of_in_nodes * active_input_percentage)\n",
        "        active_input_indices = sorted(random.sample(range(0, self.no_of_in_nodes), \n",
        "                                      active_input_nodes))\n",
        "        active_hidden_nodes = int(self.no_of_hidden_nodes * active_hidden_percentage)\n",
        "        active_hidden_indices = sorted(random.sample(range(0, self.no_of_hidden_nodes), \n",
        "                                       active_hidden_nodes))\n",
        "        \n",
        "        self.wih = self.wih[:, active_input_indices][active_hidden_indices]       \n",
        "        self.who = self.who[:, active_hidden_indices]\n",
        "        \n",
        "        self.no_of_hidden_nodes = active_hidden_nodes\n",
        "        self.no_of_in_nodes = active_input_nodes\n",
        "        return active_input_indices, active_hidden_indices\n",
        "    \n",
        "    def weight_matrices_reset(self, \n",
        "                              active_input_indices, \n",
        "                              active_hidden_indices): \n",
        "        temp = self.wih_orig.copy()[:,active_input_indices]\n",
        "        temp[active_hidden_indices] = self.wih\n",
        "        self.wih_orig[:, active_input_indices] = temp\n",
        "        self.wih = self.wih_orig.copy()\n",
        "\n",
        "        self.who_orig[:, active_hidden_indices] = self.who\n",
        "        self.who = self.who_orig.copy()\n",
        "        self.no_of_in_nodes = self.no_of_in_nodes_orig\n",
        "        self.no_of_hidden_nodes = self.no_of_hidden_nodes_orig\n",
        " \n",
        "           \n",
        "    \n",
        "    def train_single(self, input_vector, target_vector):\n",
        "        if self.bias:\n",
        "            # adding bias node to the end of the input_vector\n",
        "            input_vector = np.concatenate( (input_vector, [self.bias]) )\n",
        "\n",
        "        input_vector = np.array(input_vector, ndmin=2).T\n",
        "        target_vector = np.array(target_vector, ndmin=2).T\n",
        "\n",
        "        output_vector1 = np.dot(self.wih, input_vector)\n",
        "        output_vector_hidden = activation_function(output_vector1)\n",
        "        \n",
        "        if self.bias:\n",
        "            output_vector_hidden = np.concatenate( (output_vector_hidden, [[self.bias]]) )\n",
        "        \n",
        "        output_vector2 = np.dot(self.who, output_vector_hidden)\n",
        "        output_vector_network = activation_function(output_vector2)\n",
        "        \n",
        "        output_errors = target_vector - output_vector_network\n",
        "        # update the weights:\n",
        "        tmp = output_errors * output_vector_network * (1.0 - output_vector_network)     \n",
        "        tmp = self.learning_rate  * np.dot(tmp, output_vector_hidden.T)\n",
        "        self.who += tmp\n",
        "\n",
        "\n",
        "        # calculate hidden errors:\n",
        "        hidden_errors = np.dot(self.who.T, output_errors)\n",
        "        # update the weights:\n",
        "        tmp = hidden_errors * output_vector_hidden * (1.0 - output_vector_hidden)\n",
        "        if self.bias:\n",
        "            x = np.dot(tmp, input_vector.T)[:-1,:] \n",
        "        else:\n",
        "            x = np.dot(tmp, input_vector.T)\n",
        "        self.wih += self.learning_rate * x         \n",
        "        \n",
        "    def train(self, data_array, \n",
        "              labels_one_hot_array,\n",
        "              epochs=1,\n",
        "              active_input_percentage=0.70,\n",
        "              active_hidden_percentage=0.70,\n",
        "              no_of_dropout_tests = 10):\n",
        "\n",
        "        partition_length = int(len(data_array) / no_of_dropout_tests)\n",
        "        \n",
        "        for epoch in range(epochs):\n",
        "            print(\"epoch: \", epoch)\n",
        "            for start in range(0, len(data_array), partition_length):\n",
        "                active_in_indices, active_hidden_indices = \\\n",
        "                           self.dropout_weight_matrices(active_input_percentage,\n",
        "                                                        active_hidden_percentage)\n",
        "                for i in range(start, start + partition_length):\n",
        "                    self.train_single(data_array[i][active_in_indices], \n",
        "                                     labels_one_hot_array[i]) \n",
        "                    \n",
        "                self.weight_matrices_reset(active_in_indices, active_hidden_indices)\n",
        "\n",
        "    # def confusion_matrix(self, data_array, labels):\n",
        "    #     cm = {}\n",
        "    #     for i in range(len(data_array)):\n",
        "    #         res = self.run(data_array[i])\n",
        "    #         res_max = res.argmax()\n",
        "    #         target = labels[i][0]\n",
        "    #         if (target, res_max) in cm:\n",
        "    #             cm[(target, res_max)] += 1\n",
        "    #         else:\n",
        "    #             cm[(target, res_max)] = 1\n",
        "    #     return cm\n",
        "\n",
        "    def confusion_matrix(self, data_array, labels):\n",
        "        cm = np.zeros((10, 10), int)\n",
        "        for i in range(len(data_array)):\n",
        "            res = self.run(data_array[i])\n",
        "            res_max = res.argmax()\n",
        "            target = labels[i][0]\n",
        "            cm[res_max, int(target)] += 1\n",
        "        return cm \n",
        "\n",
        "    def precision(self, label, confusion_matrix):\n",
        "        col = confusion_matrix[:, label]\n",
        "        return confusion_matrix[label, label] / col.sum()\n",
        "    \n",
        "    def recall(self, label, confusion_matrix):\n",
        "        row = confusion_matrix[label, :]\n",
        "        return confusion_matrix[label, label] / row.sum()\n",
        "    \n",
        "    def run(self, input_vector):\n",
        "        # input_vector can be tuple, list or ndarray   \n",
        "        if self.bias:\n",
        "            # adding bias node to the end of the input_vector\n",
        "            input_vector = np.concatenate( (input_vector, [self.bias]) )\n",
        "        input_vector = np.array(input_vector, ndmin=2).T\n",
        "\n",
        "        output_vector = np.dot(self.wih, input_vector)\n",
        "        output_vector = activation_function(output_vector)  \n",
        "        if self.bias:\n",
        "            output_vector = np.concatenate( (output_vector, [[self.bias]]) )\n",
        "        output_vector = np.dot(self.who, output_vector)\n",
        "        output_vector = activation_function(output_vector)\n",
        "    \n",
        "        return output_vector\n",
        "     \n",
        "    def evaluate(self, data, labels):\n",
        "        corrects, wrongs = 0, 0\n",
        "        for i in range(len(data)):\n",
        "            res = self.run(data[i])\n",
        "            res_max = res.argmax()\n",
        "            if res_max == labels[i]:\n",
        "                corrects += 1\n",
        "            else:\n",
        "                wrongs += 1\n",
        "        return corrects, wrongs\n"
      ],
      "execution_count": 57,
      "outputs": []
    },
    {
      "cell_type": "code",
      "metadata": {
        "colab": {
          "base_uri": "https://localhost:8080/"
        },
        "id": "XxF9BvULFOg2",
        "outputId": "735e833d-14ca-4719-fe98-87d2e1e01082"
      },
      "source": [
        "parts = 10\n",
        "partition_length = int(len(train_imgs) / parts)\n",
        "print(partition_length)\n",
        "\n",
        "start = 0\n",
        "for start in range(0, len(train_imgs), partition_length):\n",
        "    print(start, start + partition_length)\n"
      ],
      "execution_count": 58,
      "outputs": [
        {
          "output_type": "stream",
          "text": [
            "3360\n",
            "0 3360\n",
            "3360 6720\n",
            "6720 10080\n",
            "10080 13440\n",
            "13440 16800\n",
            "16800 20160\n",
            "20160 23520\n",
            "23520 26880\n",
            "26880 30240\n",
            "30240 33600\n"
          ],
          "name": "stdout"
        }
      ]
    },
    {
      "cell_type": "code",
      "metadata": {
        "id": "mYgtKwE8GDci"
      },
      "source": [
        "image_size = 28 # width and length\n",
        "no_of_different_labels = 10 #  i.e. 0, 1, 2, 3, ..., 9\n",
        "image_pixels = image_size * image_size"
      ],
      "execution_count": 59,
      "outputs": []
    },
    {
      "cell_type": "code",
      "metadata": {
        "colab": {
          "base_uri": "https://localhost:8080/"
        },
        "id": "u2OlcRX_F3Jl",
        "outputId": "329739e9-7152-4bb3-990e-f278f25283bc"
      },
      "source": [
        "epochs = 3\n",
        "\n",
        "simple_network = NeuralNetwork(no_of_in_nodes = image_pixels, \n",
        "                               no_of_out_nodes = 10, \n",
        "                               no_of_hidden_nodes = 100,\n",
        "                               learning_rate = 0.1)\n",
        "    \n",
        "    \n",
        " \n",
        "simple_network.train(train_imgs, \n",
        "                     train_labels_one_hot, \n",
        "                     active_input_percentage=1,\n",
        "                     active_hidden_percentage=1,\n",
        "                     no_of_dropout_tests = 10,\n",
        "                     epochs=epochs)"
      ],
      "execution_count": 60,
      "outputs": [
        {
          "output_type": "stream",
          "text": [
            "epoch:  0\n",
            "epoch:  1\n",
            "epoch:  2\n"
          ],
          "name": "stdout"
        }
      ]
    },
    {
      "cell_type": "code",
      "metadata": {
        "colab": {
          "base_uri": "https://localhost:8080/"
        },
        "id": "BTuHAomlGXh_",
        "outputId": "6fd68e74-4622-484f-dd38-b9ede1a8ef7c"
      },
      "source": [
        "corrects, wrongs = simple_network.evaluate(train_imgs, train_labels)\n",
        "print(\"accuracy train: \", corrects / ( corrects + wrongs))\n",
        "corrects, wrongs = simple_network.evaluate(test_imgs, test_labels)\n",
        "print(\"accuracy: test\", corrects / ( corrects + wrongs))\n"
      ],
      "execution_count": 61,
      "outputs": [
        {
          "output_type": "stream",
          "text": [
            "accuracy train:  0.8744940476190476\n",
            "accuracy: test 0.8622619047619048\n"
          ],
          "name": "stdout"
        }
      ]
    },
    {
      "cell_type": "code",
      "metadata": {
        "colab": {
          "base_uri": "https://localhost:8080/"
        },
        "id": "Qy_R5mfzKKJP",
        "outputId": "6a8dcc26-90bf-4d6d-c71a-99f7b72772de"
      },
      "source": [
        "print(\"Confusion matrix\")\n",
        "print(16*\"-\")\n",
        "cm = simple_network.confusion_matrix(train_imgs, train_labels)\n",
        "print(cm)\n",
        "print(80*\"-\")\n",
        "print(\"Precision and recall scores\")\n",
        "print(28*\"-\")\n",
        "for i in range(10):\n",
        "    print(\"digit: \", i, \"precision: \", simple_network.precision(i, cm), \"recall: \", simple_network.recall(i, cm))\n",
        "print(80*\"-\")"
      ],
      "execution_count": 64,
      "outputs": [
        {
          "output_type": "stream",
          "text": [
            "Confusion matrix\n",
            "----------------\n",
            "[[3262    5  182   89   56  553  120   47   98   45]\n",
            " [   0 3561   15    2    8   15    2    5   20    2]\n",
            " [   0    5 2749   38    4    8    6   37    6    3]\n",
            " [   5   51  150 3084    5  126    1   81  112   24]\n",
            " [   7    1   40    0 2684   52    7   18   10   15]\n",
            " [   3   15    7   71    3 2023   12    7   34   10]\n",
            " [  14   12  103   25   39  119 3133    6   50    4]\n",
            " [   0    7   23   11    2    2    0 3020    2   13]\n",
            " [   8   30   46   75   16   89    7    4 2660   31]\n",
            " [  12   35   33   92  399   79   10  303  278 3207]]\n",
            "--------------------------------------------------------------------------------\n",
            "Precision and recall scores\n",
            "----------------------------\n",
            "digit:  0 precision:  0.985200845665962 recall:  0.7318824321292349\n",
            "digit:  1 precision:  0.9567436861902203 recall:  0.9809917355371901\n",
            "digit:  2 precision:  0.8210872162485066 recall:  0.9625350140056023\n",
            "digit:  3 precision:  0.8844278749641525 recall:  0.8474855729596042\n",
            "digit:  4 precision:  0.8345771144278606 recall:  0.9470712773465068\n",
            "digit:  5 precision:  0.6598173515981736 recall:  0.925858123569794\n",
            "digit:  6 precision:  0.9499696785930867 recall:  0.8938659058487874\n",
            "digit:  7 precision:  0.8560090702947846 recall:  0.9805194805194806\n",
            "digit:  8 precision:  0.8134556574923547 recall:  0.8968307484828051\n",
            "digit:  9 precision:  0.9561717352415027 recall:  0.720998201438849\n",
            "--------------------------------------------------------------------------------\n"
          ],
          "name": "stdout"
        }
      ]
    },
    {
      "cell_type": "markdown",
      "metadata": {
        "id": "uohCyF9VKCnm"
      },
      "source": [
        "We can see a decline in prediction accuracy after adding dropout. "
      ]
    },
    {
      "cell_type": "markdown",
      "metadata": {
        "id": "uU9aLK0GXyAZ"
      },
      "source": [
        "## References:\n",
        "https://www.python-course.eu/neural_network_mnist.php </br>\n",
        "https://www.kaggle.com/c/digit-recognizer/data </br>\n",
        "https://www.python-course.eu/neural_networks_with_dropout.php"
      ]
    }
  ]
}