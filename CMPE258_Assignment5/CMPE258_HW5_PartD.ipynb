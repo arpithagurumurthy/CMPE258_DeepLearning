{
  "nbformat": 4,
  "nbformat_minor": 0,
  "metadata": {
    "colab": {
      "name": "CMPE258_HW5_PartD.ipynb",
      "provenance": [],
      "collapsed_sections": []
    },
    "kernelspec": {
      "name": "python3",
      "display_name": "Python 3"
    },
    "language_info": {
      "name": "python"
    }
  },
  "cells": [
    {
      "cell_type": "markdown",
      "metadata": {
        "id": "b2OL4snFTE7f"
      },
      "source": [
        "# **CMPE 258 - Assignment 5 Part D**\n",
        "***Arpitha Gurumurthy***\n",
        "\n",
        "Full end2end MLOps using xgboost\n",
        "\n",
        "**Data**: NYC's taxi-fare dataset\n",
        "https://www.kaggle.com/c/new-york-city-taxi-fare-prediction/data\n",
        "\n",
        "**Goal**: Predicting the fare price for a taxi ride in New York City given the pickup and dropoff locations.\n",
        "\n",
        "XGBoost is an open-source software library which provides a regularizing gradient boosting framework for C++, Java, Python, R, Julia, Perl, and Scala. It works on Linux, Windows, and macOS. From the project description, it aims to provide a \"Scalable, Portable and Distributed Gradient Boosting Library\"."
      ]
    },
    {
      "cell_type": "code",
      "metadata": {
        "id": "0w6oD_ROS18x"
      },
      "source": [
        "# load some default Python modules\n",
        "import numpy as np\n",
        "import pandas as pd\n",
        "\n",
        "import matplotlib.pyplot as plt\n",
        "import seaborn as sns\n",
        "% matplotlib inline\n",
        "\n",
        "plt.style.use('seaborn-whitegrid')\n",
        "\n",
        "import warnings\n",
        "warnings.filterwarnings('ignore')\n"
      ],
      "execution_count": null,
      "outputs": []
    },
    {
      "cell_type": "code",
      "metadata": {
        "colab": {
          "base_uri": "https://localhost:8080/"
        },
        "id": "MbCtjgBCWn42",
        "outputId": "7cbca614-7b4e-4b68-e092-6535abab0dac"
      },
      "source": [
        "from google.colab import drive\n",
        "drive.mount('/content/gdrive')"
      ],
      "execution_count": null,
      "outputs": [
        {
          "output_type": "stream",
          "text": [
            "Mounted at /content/gdrive\n"
          ],
          "name": "stdout"
        }
      ]
    },
    {
      "cell_type": "code",
      "metadata": {
        "id": "OAlwjOEdWvHL"
      },
      "source": [
        "import os\n",
        "os.environ['KAGGLE_CONFIG_DIR']='/content/gdrive/My Drive/258_HW5'"
      ],
      "execution_count": null,
      "outputs": []
    },
    {
      "cell_type": "code",
      "metadata": {
        "colab": {
          "base_uri": "https://localhost:8080/"
        },
        "id": "41oAMb4XWwMn",
        "outputId": "28beb68c-bd91-42d0-aab8-023145f00032"
      },
      "source": [
        "%cd /content/gdrive/My Drive/258_HW5"
      ],
      "execution_count": null,
      "outputs": [
        {
          "output_type": "stream",
          "text": [
            "/content/gdrive/My Drive/258_HW5\n"
          ],
          "name": "stdout"
        }
      ]
    },
    {
      "cell_type": "code",
      "metadata": {
        "colab": {
          "base_uri": "https://localhost:8080/"
        },
        "id": "ACSsomp1Wx7n",
        "outputId": "7fc028fd-8523-4d93-9c58-74375a697b40"
      },
      "source": [
        "!ls"
      ],
      "execution_count": null,
      "outputs": [
        {
          "output_type": "stream",
          "text": [
            "GCP-Coupons-Instructions.rtf  sample_submission.csv  train.csv\n",
            "kaggle.json\t\t      test.csv\t\t     train.csv.zip\n"
          ],
          "name": "stdout"
        }
      ]
    },
    {
      "cell_type": "markdown",
      "metadata": {
        "id": "GW4lYCgXb4Tl"
      },
      "source": [
        "## **Loading training data**"
      ]
    },
    {
      "cell_type": "code",
      "metadata": {
        "colab": {
          "base_uri": "https://localhost:8080/",
          "height": 299
        },
        "id": "v4w-9rlJWy1w",
        "outputId": "4c74a971-8fe9-46e3-b693-cd7830d9a816"
      },
      "source": [
        "taxiFare_df = pd.read_csv('train.csv', nrows=100000)\n",
        "taxiFare_df.head()"
      ],
      "execution_count": null,
      "outputs": [
        {
          "output_type": "execute_result",
          "data": {
            "text/html": [
              "<div>\n",
              "<style scoped>\n",
              "    .dataframe tbody tr th:only-of-type {\n",
              "        vertical-align: middle;\n",
              "    }\n",
              "\n",
              "    .dataframe tbody tr th {\n",
              "        vertical-align: top;\n",
              "    }\n",
              "\n",
              "    .dataframe thead th {\n",
              "        text-align: right;\n",
              "    }\n",
              "</style>\n",
              "<table border=\"1\" class=\"dataframe\">\n",
              "  <thead>\n",
              "    <tr style=\"text-align: right;\">\n",
              "      <th></th>\n",
              "      <th>key</th>\n",
              "      <th>fare_amount</th>\n",
              "      <th>pickup_datetime</th>\n",
              "      <th>pickup_longitude</th>\n",
              "      <th>pickup_latitude</th>\n",
              "      <th>dropoff_longitude</th>\n",
              "      <th>dropoff_latitude</th>\n",
              "      <th>passenger_count</th>\n",
              "    </tr>\n",
              "  </thead>\n",
              "  <tbody>\n",
              "    <tr>\n",
              "      <th>0</th>\n",
              "      <td>2009-06-15 17:26:21.0000001</td>\n",
              "      <td>4.5</td>\n",
              "      <td>2009-06-15 17:26:21 UTC</td>\n",
              "      <td>-73.844311</td>\n",
              "      <td>40.721319</td>\n",
              "      <td>-73.841610</td>\n",
              "      <td>40.712278</td>\n",
              "      <td>1</td>\n",
              "    </tr>\n",
              "    <tr>\n",
              "      <th>1</th>\n",
              "      <td>2010-01-05 16:52:16.0000002</td>\n",
              "      <td>16.9</td>\n",
              "      <td>2010-01-05 16:52:16 UTC</td>\n",
              "      <td>-74.016048</td>\n",
              "      <td>40.711303</td>\n",
              "      <td>-73.979268</td>\n",
              "      <td>40.782004</td>\n",
              "      <td>1</td>\n",
              "    </tr>\n",
              "    <tr>\n",
              "      <th>2</th>\n",
              "      <td>2011-08-18 00:35:00.00000049</td>\n",
              "      <td>5.7</td>\n",
              "      <td>2011-08-18 00:35:00 UTC</td>\n",
              "      <td>-73.982738</td>\n",
              "      <td>40.761270</td>\n",
              "      <td>-73.991242</td>\n",
              "      <td>40.750562</td>\n",
              "      <td>2</td>\n",
              "    </tr>\n",
              "    <tr>\n",
              "      <th>3</th>\n",
              "      <td>2012-04-21 04:30:42.0000001</td>\n",
              "      <td>7.7</td>\n",
              "      <td>2012-04-21 04:30:42 UTC</td>\n",
              "      <td>-73.987130</td>\n",
              "      <td>40.733143</td>\n",
              "      <td>-73.991567</td>\n",
              "      <td>40.758092</td>\n",
              "      <td>1</td>\n",
              "    </tr>\n",
              "    <tr>\n",
              "      <th>4</th>\n",
              "      <td>2010-03-09 07:51:00.000000135</td>\n",
              "      <td>5.3</td>\n",
              "      <td>2010-03-09 07:51:00 UTC</td>\n",
              "      <td>-73.968095</td>\n",
              "      <td>40.768008</td>\n",
              "      <td>-73.956655</td>\n",
              "      <td>40.783762</td>\n",
              "      <td>1</td>\n",
              "    </tr>\n",
              "  </tbody>\n",
              "</table>\n",
              "</div>"
            ],
            "text/plain": [
              "                             key  ...  passenger_count\n",
              "0    2009-06-15 17:26:21.0000001  ...                1\n",
              "1    2010-01-05 16:52:16.0000002  ...                1\n",
              "2   2011-08-18 00:35:00.00000049  ...                2\n",
              "3    2012-04-21 04:30:42.0000001  ...                1\n",
              "4  2010-03-09 07:51:00.000000135  ...                1\n",
              "\n",
              "[5 rows x 8 columns]"
            ]
          },
          "metadata": {
            "tags": []
          },
          "execution_count": 6
        }
      ]
    },
    {
      "cell_type": "code",
      "metadata": {
        "colab": {
          "base_uri": "https://localhost:8080/"
        },
        "id": "IXVK14x8bHOz",
        "outputId": "9688cd3c-2670-491d-d176-8f8e6f9c880e"
      },
      "source": [
        "taxiFare_df.dtypes"
      ],
      "execution_count": null,
      "outputs": [
        {
          "output_type": "execute_result",
          "data": {
            "text/plain": [
              "key                   object\n",
              "fare_amount          float64\n",
              "pickup_datetime       object\n",
              "pickup_longitude     float64\n",
              "pickup_latitude      float64\n",
              "dropoff_longitude    float64\n",
              "dropoff_latitude     float64\n",
              "passenger_count        int64\n",
              "dtype: object"
            ]
          },
          "metadata": {
            "tags": []
          },
          "execution_count": 31
        }
      ]
    },
    {
      "cell_type": "code",
      "metadata": {
        "colab": {
          "base_uri": "https://localhost:8080/",
          "height": 284
        },
        "id": "RXOF3p9AbKt8",
        "outputId": "6ceba890-19fa-4de9-fd83-a6f5f0387c73"
      },
      "source": [
        "taxiFare_df.describe()"
      ],
      "execution_count": null,
      "outputs": [
        {
          "output_type": "execute_result",
          "data": {
            "text/html": [
              "<div>\n",
              "<style scoped>\n",
              "    .dataframe tbody tr th:only-of-type {\n",
              "        vertical-align: middle;\n",
              "    }\n",
              "\n",
              "    .dataframe tbody tr th {\n",
              "        vertical-align: top;\n",
              "    }\n",
              "\n",
              "    .dataframe thead th {\n",
              "        text-align: right;\n",
              "    }\n",
              "</style>\n",
              "<table border=\"1\" class=\"dataframe\">\n",
              "  <thead>\n",
              "    <tr style=\"text-align: right;\">\n",
              "      <th></th>\n",
              "      <th>fare_amount</th>\n",
              "      <th>pickup_longitude</th>\n",
              "      <th>pickup_latitude</th>\n",
              "      <th>dropoff_longitude</th>\n",
              "      <th>dropoff_latitude</th>\n",
              "      <th>passenger_count</th>\n",
              "    </tr>\n",
              "  </thead>\n",
              "  <tbody>\n",
              "    <tr>\n",
              "      <th>count</th>\n",
              "      <td>97863.000000</td>\n",
              "      <td>97863.000000</td>\n",
              "      <td>97863.000000</td>\n",
              "      <td>97863.000000</td>\n",
              "      <td>97863.000000</td>\n",
              "      <td>97863.000000</td>\n",
              "    </tr>\n",
              "    <tr>\n",
              "      <th>mean</th>\n",
              "      <td>11.343600</td>\n",
              "      <td>-73.975002</td>\n",
              "      <td>40.751225</td>\n",
              "      <td>-73.973929</td>\n",
              "      <td>40.751619</td>\n",
              "      <td>1.674269</td>\n",
              "    </tr>\n",
              "    <tr>\n",
              "      <th>std</th>\n",
              "      <td>9.682871</td>\n",
              "      <td>0.039129</td>\n",
              "      <td>0.030231</td>\n",
              "      <td>0.038160</td>\n",
              "      <td>0.033242</td>\n",
              "      <td>1.300176</td>\n",
              "    </tr>\n",
              "    <tr>\n",
              "      <th>min</th>\n",
              "      <td>0.000000</td>\n",
              "      <td>-74.438233</td>\n",
              "      <td>40.500046</td>\n",
              "      <td>-74.474595</td>\n",
              "      <td>40.500046</td>\n",
              "      <td>0.000000</td>\n",
              "    </tr>\n",
              "    <tr>\n",
              "      <th>25%</th>\n",
              "      <td>6.000000</td>\n",
              "      <td>-73.992258</td>\n",
              "      <td>40.736666</td>\n",
              "      <td>-73.991394</td>\n",
              "      <td>40.735774</td>\n",
              "      <td>1.000000</td>\n",
              "    </tr>\n",
              "    <tr>\n",
              "      <th>50%</th>\n",
              "      <td>8.500000</td>\n",
              "      <td>-73.982076</td>\n",
              "      <td>40.753542</td>\n",
              "      <td>-73.980436</td>\n",
              "      <td>40.753972</td>\n",
              "      <td>1.000000</td>\n",
              "    </tr>\n",
              "    <tr>\n",
              "      <th>75%</th>\n",
              "      <td>12.500000</td>\n",
              "      <td>-73.968292</td>\n",
              "      <td>40.767687</td>\n",
              "      <td>-73.965127</td>\n",
              "      <td>40.768489</td>\n",
              "      <td>2.000000</td>\n",
              "    </tr>\n",
              "    <tr>\n",
              "      <th>max</th>\n",
              "      <td>200.000000</td>\n",
              "      <td>-72.856968</td>\n",
              "      <td>41.692428</td>\n",
              "      <td>-72.854940</td>\n",
              "      <td>41.714633</td>\n",
              "      <td>6.000000</td>\n",
              "    </tr>\n",
              "  </tbody>\n",
              "</table>\n",
              "</div>"
            ],
            "text/plain": [
              "        fare_amount  pickup_longitude  ...  dropoff_latitude  passenger_count\n",
              "count  97863.000000      97863.000000  ...      97863.000000     97863.000000\n",
              "mean      11.343600        -73.975002  ...         40.751619         1.674269\n",
              "std        9.682871          0.039129  ...          0.033242         1.300176\n",
              "min        0.000000        -74.438233  ...         40.500046         0.000000\n",
              "25%        6.000000        -73.992258  ...         40.735774         1.000000\n",
              "50%        8.500000        -73.982076  ...         40.753972         1.000000\n",
              "75%       12.500000        -73.968292  ...         40.768489         2.000000\n",
              "max      200.000000        -72.856968  ...         41.714633         6.000000\n",
              "\n",
              "[8 rows x 6 columns]"
            ]
          },
          "metadata": {
            "tags": []
          },
          "execution_count": 32
        }
      ]
    },
    {
      "cell_type": "markdown",
      "metadata": {
        "id": "mpPP1FAZXpZa"
      },
      "source": [
        "## **Pre-processing**"
      ]
    },
    {
      "cell_type": "code",
      "metadata": {
        "colab": {
          "base_uri": "https://localhost:8080/"
        },
        "id": "eTsnDIyiXi5H",
        "outputId": "15111947-d812-43a6-83d7-4c81b98801f4"
      },
      "source": [
        "##Removing the fare amount that is negative\n",
        "print(\"old size: %d\" % len(taxiFare_df))\n",
        "taxiFare_df = taxiFare_df[taxiFare_df.fare_amount >=0]\n",
        "print(\"New size: %d\" % len(taxiFare_df))"
      ],
      "execution_count": null,
      "outputs": [
        {
          "output_type": "stream",
          "text": [
            "old size: 100000\n",
            "New size: 99991\n"
          ],
          "name": "stdout"
        }
      ]
    },
    {
      "cell_type": "code",
      "metadata": {
        "id": "Gap7t2FiXhx3",
        "colab": {
          "base_uri": "https://localhost:8080/",
          "height": 106
        },
        "outputId": "a4cbd434-63ed-43d2-c6b5-bd4d42a6b54d"
      },
      "source": [
        "taxiFare_df[taxiFare_df.passenger_count <7][['fare_amount','passenger_count']].corr()"
      ],
      "execution_count": null,
      "outputs": [
        {
          "output_type": "execute_result",
          "data": {
            "text/html": [
              "<div>\n",
              "<style scoped>\n",
              "    .dataframe tbody tr th:only-of-type {\n",
              "        vertical-align: middle;\n",
              "    }\n",
              "\n",
              "    .dataframe tbody tr th {\n",
              "        vertical-align: top;\n",
              "    }\n",
              "\n",
              "    .dataframe thead th {\n",
              "        text-align: right;\n",
              "    }\n",
              "</style>\n",
              "<table border=\"1\" class=\"dataframe\">\n",
              "  <thead>\n",
              "    <tr style=\"text-align: right;\">\n",
              "      <th></th>\n",
              "      <th>fare_amount</th>\n",
              "      <th>passenger_count</th>\n",
              "    </tr>\n",
              "  </thead>\n",
              "  <tbody>\n",
              "    <tr>\n",
              "      <th>fare_amount</th>\n",
              "      <td>1.000000</td>\n",
              "      <td>0.016019</td>\n",
              "    </tr>\n",
              "    <tr>\n",
              "      <th>passenger_count</th>\n",
              "      <td>0.016019</td>\n",
              "      <td>1.000000</td>\n",
              "    </tr>\n",
              "  </tbody>\n",
              "</table>\n",
              "</div>"
            ],
            "text/plain": [
              "                 fare_amount  passenger_count\n",
              "fare_amount         1.000000         0.016019\n",
              "passenger_count     0.016019         1.000000"
            ]
          },
          "metadata": {
            "tags": []
          },
          "execution_count": 34
        }
      ]
    },
    {
      "cell_type": "code",
      "metadata": {
        "colab": {
          "base_uri": "https://localhost:8080/",
          "height": 279
        },
        "id": "mT76kB_cbqM2",
        "outputId": "ebce92b9-b88d-45f4-ef85-2672ac428095"
      },
      "source": [
        "##Loading test data\n",
        "test_df = pd.read_csv('test.csv', nrows=50000)\n",
        "test_df.head()"
      ],
      "execution_count": null,
      "outputs": [
        {
          "output_type": "execute_result",
          "data": {
            "text/html": [
              "<div>\n",
              "<style scoped>\n",
              "    .dataframe tbody tr th:only-of-type {\n",
              "        vertical-align: middle;\n",
              "    }\n",
              "\n",
              "    .dataframe tbody tr th {\n",
              "        vertical-align: top;\n",
              "    }\n",
              "\n",
              "    .dataframe thead th {\n",
              "        text-align: right;\n",
              "    }\n",
              "</style>\n",
              "<table border=\"1\" class=\"dataframe\">\n",
              "  <thead>\n",
              "    <tr style=\"text-align: right;\">\n",
              "      <th></th>\n",
              "      <th>key</th>\n",
              "      <th>pickup_datetime</th>\n",
              "      <th>pickup_longitude</th>\n",
              "      <th>pickup_latitude</th>\n",
              "      <th>dropoff_longitude</th>\n",
              "      <th>dropoff_latitude</th>\n",
              "      <th>passenger_count</th>\n",
              "    </tr>\n",
              "  </thead>\n",
              "  <tbody>\n",
              "    <tr>\n",
              "      <th>0</th>\n",
              "      <td>2015-01-27 13:08:24.0000002</td>\n",
              "      <td>2015-01-27 13:08:24 UTC</td>\n",
              "      <td>-73.973320</td>\n",
              "      <td>40.763805</td>\n",
              "      <td>-73.981430</td>\n",
              "      <td>40.743835</td>\n",
              "      <td>1</td>\n",
              "    </tr>\n",
              "    <tr>\n",
              "      <th>1</th>\n",
              "      <td>2015-01-27 13:08:24.0000003</td>\n",
              "      <td>2015-01-27 13:08:24 UTC</td>\n",
              "      <td>-73.986862</td>\n",
              "      <td>40.719383</td>\n",
              "      <td>-73.998886</td>\n",
              "      <td>40.739201</td>\n",
              "      <td>1</td>\n",
              "    </tr>\n",
              "    <tr>\n",
              "      <th>2</th>\n",
              "      <td>2011-10-08 11:53:44.0000002</td>\n",
              "      <td>2011-10-08 11:53:44 UTC</td>\n",
              "      <td>-73.982524</td>\n",
              "      <td>40.751260</td>\n",
              "      <td>-73.979654</td>\n",
              "      <td>40.746139</td>\n",
              "      <td>1</td>\n",
              "    </tr>\n",
              "    <tr>\n",
              "      <th>3</th>\n",
              "      <td>2012-12-01 21:12:12.0000002</td>\n",
              "      <td>2012-12-01 21:12:12 UTC</td>\n",
              "      <td>-73.981160</td>\n",
              "      <td>40.767807</td>\n",
              "      <td>-73.990448</td>\n",
              "      <td>40.751635</td>\n",
              "      <td>1</td>\n",
              "    </tr>\n",
              "    <tr>\n",
              "      <th>4</th>\n",
              "      <td>2012-12-01 21:12:12.0000003</td>\n",
              "      <td>2012-12-01 21:12:12 UTC</td>\n",
              "      <td>-73.966046</td>\n",
              "      <td>40.789775</td>\n",
              "      <td>-73.988565</td>\n",
              "      <td>40.744427</td>\n",
              "      <td>1</td>\n",
              "    </tr>\n",
              "  </tbody>\n",
              "</table>\n",
              "</div>"
            ],
            "text/plain": [
              "                           key  ... passenger_count\n",
              "0  2015-01-27 13:08:24.0000002  ...               1\n",
              "1  2015-01-27 13:08:24.0000003  ...               1\n",
              "2  2011-10-08 11:53:44.0000002  ...               1\n",
              "3  2012-12-01 21:12:12.0000002  ...               1\n",
              "4  2012-12-01 21:12:12.0000003  ...               1\n",
              "\n",
              "[5 rows x 7 columns]"
            ]
          },
          "metadata": {
            "tags": []
          },
          "execution_count": 35
        }
      ]
    },
    {
      "cell_type": "code",
      "metadata": {
        "colab": {
          "base_uri": "https://localhost:8080/"
        },
        "id": "OK68Jmp_cEce",
        "outputId": "6d3b4c44-680a-405f-c46b-4d5964ddc693"
      },
      "source": [
        "test_df.isnull().sum()"
      ],
      "execution_count": null,
      "outputs": [
        {
          "output_type": "execute_result",
          "data": {
            "text/plain": [
              "key                  0\n",
              "pickup_datetime      0\n",
              "pickup_longitude     0\n",
              "pickup_latitude      0\n",
              "dropoff_longitude    0\n",
              "dropoff_latitude     0\n",
              "passenger_count      0\n",
              "dtype: int64"
            ]
          },
          "metadata": {
            "tags": []
          },
          "execution_count": 37
        }
      ]
    },
    {
      "cell_type": "markdown",
      "metadata": {
        "id": "EItrJ8LFcIxa"
      },
      "source": [
        "No missing values"
      ]
    },
    {
      "cell_type": "code",
      "metadata": {
        "colab": {
          "base_uri": "https://localhost:8080/",
          "height": 284
        },
        "id": "j5WNj9UAcIVS",
        "outputId": "b85dcc2c-5ca8-4d33-f7f0-1edbabec7e32"
      },
      "source": [
        "# checking for basic stats\n",
        "test_df.describe()\n"
      ],
      "execution_count": null,
      "outputs": [
        {
          "output_type": "execute_result",
          "data": {
            "text/html": [
              "<div>\n",
              "<style scoped>\n",
              "    .dataframe tbody tr th:only-of-type {\n",
              "        vertical-align: middle;\n",
              "    }\n",
              "\n",
              "    .dataframe tbody tr th {\n",
              "        vertical-align: top;\n",
              "    }\n",
              "\n",
              "    .dataframe thead th {\n",
              "        text-align: right;\n",
              "    }\n",
              "</style>\n",
              "<table border=\"1\" class=\"dataframe\">\n",
              "  <thead>\n",
              "    <tr style=\"text-align: right;\">\n",
              "      <th></th>\n",
              "      <th>pickup_longitude</th>\n",
              "      <th>pickup_latitude</th>\n",
              "      <th>dropoff_longitude</th>\n",
              "      <th>dropoff_latitude</th>\n",
              "      <th>passenger_count</th>\n",
              "    </tr>\n",
              "  </thead>\n",
              "  <tbody>\n",
              "    <tr>\n",
              "      <th>count</th>\n",
              "      <td>9914.000000</td>\n",
              "      <td>9914.000000</td>\n",
              "      <td>9914.000000</td>\n",
              "      <td>9914.000000</td>\n",
              "      <td>9914.000000</td>\n",
              "    </tr>\n",
              "    <tr>\n",
              "      <th>mean</th>\n",
              "      <td>-73.974722</td>\n",
              "      <td>40.751041</td>\n",
              "      <td>-73.973657</td>\n",
              "      <td>40.751743</td>\n",
              "      <td>1.671273</td>\n",
              "    </tr>\n",
              "    <tr>\n",
              "      <th>std</th>\n",
              "      <td>0.042774</td>\n",
              "      <td>0.033541</td>\n",
              "      <td>0.039072</td>\n",
              "      <td>0.035435</td>\n",
              "      <td>1.278747</td>\n",
              "    </tr>\n",
              "    <tr>\n",
              "      <th>min</th>\n",
              "      <td>-74.252193</td>\n",
              "      <td>40.573143</td>\n",
              "      <td>-74.263242</td>\n",
              "      <td>40.568973</td>\n",
              "      <td>1.000000</td>\n",
              "    </tr>\n",
              "    <tr>\n",
              "      <th>25%</th>\n",
              "      <td>-73.992501</td>\n",
              "      <td>40.736125</td>\n",
              "      <td>-73.991247</td>\n",
              "      <td>40.735254</td>\n",
              "      <td>1.000000</td>\n",
              "    </tr>\n",
              "    <tr>\n",
              "      <th>50%</th>\n",
              "      <td>-73.982326</td>\n",
              "      <td>40.753051</td>\n",
              "      <td>-73.980015</td>\n",
              "      <td>40.754065</td>\n",
              "      <td>1.000000</td>\n",
              "    </tr>\n",
              "    <tr>\n",
              "      <th>75%</th>\n",
              "      <td>-73.968013</td>\n",
              "      <td>40.767113</td>\n",
              "      <td>-73.964059</td>\n",
              "      <td>40.768757</td>\n",
              "      <td>2.000000</td>\n",
              "    </tr>\n",
              "    <tr>\n",
              "      <th>max</th>\n",
              "      <td>-72.986532</td>\n",
              "      <td>41.709555</td>\n",
              "      <td>-72.990963</td>\n",
              "      <td>41.696683</td>\n",
              "      <td>6.000000</td>\n",
              "    </tr>\n",
              "  </tbody>\n",
              "</table>\n",
              "</div>"
            ],
            "text/plain": [
              "       pickup_longitude  pickup_latitude  ...  dropoff_latitude  passenger_count\n",
              "count       9914.000000      9914.000000  ...       9914.000000      9914.000000\n",
              "mean         -73.974722        40.751041  ...         40.751743         1.671273\n",
              "std            0.042774         0.033541  ...          0.035435         1.278747\n",
              "min          -74.252193        40.573143  ...         40.568973         1.000000\n",
              "25%          -73.992501        40.736125  ...         40.735254         1.000000\n",
              "50%          -73.982326        40.753051  ...         40.754065         1.000000\n",
              "75%          -73.968013        40.767113  ...         40.768757         2.000000\n",
              "max          -72.986532        41.709555  ...         41.696683         6.000000\n",
              "\n",
              "[8 rows x 5 columns]"
            ]
          },
          "metadata": {
            "tags": []
          },
          "execution_count": 38
        }
      ]
    },
    {
      "cell_type": "markdown",
      "metadata": {
        "id": "KbklI6kRcOZ4"
      },
      "source": [
        "Storing the minimum and maximum of the longitude and latitude from test data set and filter the train data set for those data points\n"
      ]
    },
    {
      "cell_type": "code",
      "metadata": {
        "colab": {
          "base_uri": "https://localhost:8080/"
        },
        "id": "nnaO9JZhcL_k",
        "outputId": "ad4c1cf6-0be0-47e8-e890-78070536c363"
      },
      "source": [
        "min(test_df.pickup_longitude.min(),test_df.dropoff_longitude.min()), \\\n",
        "max(test_df.pickup_longitude.max(),test_df.dropoff_longitude.max())\n"
      ],
      "execution_count": null,
      "outputs": [
        {
          "output_type": "execute_result",
          "data": {
            "text/plain": [
              "(-74.263242, -72.986532)"
            ]
          },
          "metadata": {
            "tags": []
          },
          "execution_count": 39
        }
      ]
    },
    {
      "cell_type": "code",
      "metadata": {
        "colab": {
          "base_uri": "https://localhost:8080/"
        },
        "id": "bZ2UTxJKcVJI",
        "outputId": "fb44eb17-52ed-4d7b-d875-a2261ae8e993"
      },
      "source": [
        "min(test_df.pickup_latitude.min(),test_df.dropoff_latitude.min()), \\\n",
        "max(test_df.pickup_latitude.max(),test_df.dropoff_latitude.max())\n"
      ],
      "execution_count": null,
      "outputs": [
        {
          "output_type": "execute_result",
          "data": {
            "text/plain": [
              "(40.568973, 41.709555)"
            ]
          },
          "metadata": {
            "tags": []
          },
          "execution_count": 40
        }
      ]
    },
    {
      "cell_type": "code",
      "metadata": {
        "id": "EBaEaJjGcap3"
      },
      "source": [
        "# this function will also be used with the test set below\n",
        "def select_within_test_boundary(df, BB):\n",
        "    return (df.pickup_longitude >= BB[0]) & (df.pickup_longitude <= BB[1]) & \\\n",
        "           (df.pickup_latitude >= BB[2]) & (df.pickup_latitude <= BB[3]) & \\\n",
        "           (df.dropoff_longitude >= BB[0]) & (df.dropoff_longitude <= BB[1]) & \\\n",
        "           (df.dropoff_latitude >= BB[2]) & (df.dropoff_latitude <= BB[3])"
      ],
      "execution_count": null,
      "outputs": []
    },
    {
      "cell_type": "code",
      "metadata": {
        "colab": {
          "base_uri": "https://localhost:8080/"
        },
        "id": "GlyRre0gccAs",
        "outputId": "c52b5572-5d3b-45f0-b564-69ffc2d6d135"
      },
      "source": [
        "BB = (-74.5, -72.8, 40.5, 41.8)\n",
        "print('Old size: %d' % len(taxiFare_df))\n",
        "taxiFare_df = taxiFare_df[select_within_test_boundary(taxiFare_df, BB)]\n",
        "print('New size: %d' % len(taxiFare_df))"
      ],
      "execution_count": null,
      "outputs": [
        {
          "output_type": "stream",
          "text": [
            "Old size: 97863\n",
            "New size: 97863\n"
          ],
          "name": "stdout"
        }
      ]
    },
    {
      "cell_type": "code",
      "metadata": {
        "id": "-vrzlJC3chGC"
      },
      "source": [
        "def prepare_time_features(df):\n",
        "    df['pickup_datetime'] = df['pickup_datetime'].str.slice(0, 16)\n",
        "    df['pickup_datetime'] = pd.to_datetime(df['pickup_datetime'], utc=True, format='%Y-%m-%d %H:%M')\n",
        "    df['hour_of_day'] = df.pickup_datetime.dt.hour\n",
        "    df['month'] = df.pickup_datetime.dt.month\n",
        "    df[\"year\"] = df.pickup_datetime.dt.year\n",
        "    df[\"weekday\"] = df.pickup_datetime.dt.weekday    \n",
        "    return df"
      ],
      "execution_count": null,
      "outputs": []
    },
    {
      "cell_type": "code",
      "metadata": {
        "id": "GGYDwSuNc0ng"
      },
      "source": [
        "taxiFare_df = prepare_time_features(taxiFare_df)\n",
        "test_df = prepare_time_features(test_df)"
      ],
      "execution_count": null,
      "outputs": []
    },
    {
      "cell_type": "code",
      "metadata": {
        "id": "5xbYBXgcc6KQ"
      },
      "source": [
        "# calculate-distance-between-two-latitude-longitude-points-haversine-formula \n",
        "# Returns distance in miles\n",
        "def distance(lat1, lon1, lat2, lon2):\n",
        "    p = 0.017453292519943295 # Pi/180\n",
        "    a = 0.5 - np.cos((lat2 - lat1) * p)/2 + np.cos(lat1 * p) * np.cos(lat2 * p) * (1 - np.cos((lon2 - lon1) * p)) / 2\n",
        "    return 0.6213712 * 12742 * np.arcsin(np.sqrt(a))   # 2*R*asin..."
      ],
      "execution_count": null,
      "outputs": []
    },
    {
      "cell_type": "code",
      "metadata": {
        "id": "MQh35-kQc9b8"
      },
      "source": [
        "taxiFare_df['distance_miles'] = distance(taxiFare_df.pickup_latitude, taxiFare_df.pickup_longitude, \\\n",
        "                                      taxiFare_df.dropoff_latitude, taxiFare_df.dropoff_longitude)"
      ],
      "execution_count": null,
      "outputs": []
    },
    {
      "cell_type": "code",
      "metadata": {
        "id": "vyqvH7EUdBiI"
      },
      "source": [
        "test_df['distance_miles'] = distance(test_df.pickup_latitude, test_df.pickup_longitude, \\\n",
        "                                      test_df.dropoff_latitude, test_df.dropoff_longitude)"
      ],
      "execution_count": null,
      "outputs": []
    },
    {
      "cell_type": "markdown",
      "metadata": {
        "id": "r9L9SXV5dInV"
      },
      "source": [
        "Calculating pickup and drop distance for all airports"
      ]
    },
    {
      "cell_type": "code",
      "metadata": {
        "id": "BJLnio5qdG0k"
      },
      "source": [
        "def transform(data):\n",
        "    # Distances to nearby airports, \n",
        "    jfk = (-73.7781, 40.6413)\n",
        "    ewr = (-74.1745, 40.6895)\n",
        "    lgr = (-73.8740, 40.7769)\n",
        "\n",
        "    data['pickup_distance_to_jfk'] = distance(jfk[1], jfk[0],\n",
        "                                         data['pickup_latitude'], data['pickup_longitude'])\n",
        "    data['dropoff_distance_to_jfk'] = distance(jfk[1], jfk[0],\n",
        "                                           data['dropoff_latitude'], data['dropoff_longitude'])\n",
        "    data['pickup_distance_to_ewr'] = distance(ewr[1], ewr[0], \n",
        "                                          data['pickup_latitude'], data['pickup_longitude'])\n",
        "    data['dropoff_distance_to_ewr'] = distance(ewr[1], ewr[0],\n",
        "                                           data['dropoff_latitude'], data['dropoff_longitude'])\n",
        "    data['pickup_distance_to_lgr'] = distance(lgr[1], lgr[0],\n",
        "                                          data['pickup_latitude'], data['pickup_longitude'])\n",
        "    data['dropoff_distance_to_lgr'] = distance(lgr[1], lgr[0],\n",
        "                                           data['dropoff_latitude'], data['dropoff_longitude'])\n",
        "    \n",
        "    return data\n",
        "\n",
        "taxiFare_df = transform(taxiFare_df)\n",
        "test_df = transform(test_df)\n"
      ],
      "execution_count": null,
      "outputs": []
    },
    {
      "cell_type": "code",
      "metadata": {
        "colab": {
          "base_uri": "https://localhost:8080/",
          "height": 67
        },
        "id": "KxD_ColodUyJ",
        "outputId": "d1ad27b7-327e-42e4-e2a3-6c0166b5f775"
      },
      "source": [
        "##Delete records where distance covered and fare amount are zero, which won't help our model\n",
        "taxiFare_df[(taxiFare_df['distance_miles']==0)&(taxiFare_df['fare_amount']==0)]"
      ],
      "execution_count": null,
      "outputs": [
        {
          "output_type": "execute_result",
          "data": {
            "text/html": [
              "<div>\n",
              "<style scoped>\n",
              "    .dataframe tbody tr th:only-of-type {\n",
              "        vertical-align: middle;\n",
              "    }\n",
              "\n",
              "    .dataframe tbody tr th {\n",
              "        vertical-align: top;\n",
              "    }\n",
              "\n",
              "    .dataframe thead th {\n",
              "        text-align: right;\n",
              "    }\n",
              "</style>\n",
              "<table border=\"1\" class=\"dataframe\">\n",
              "  <thead>\n",
              "    <tr style=\"text-align: right;\">\n",
              "      <th></th>\n",
              "      <th>key</th>\n",
              "      <th>fare_amount</th>\n",
              "      <th>pickup_datetime</th>\n",
              "      <th>pickup_longitude</th>\n",
              "      <th>pickup_latitude</th>\n",
              "      <th>dropoff_longitude</th>\n",
              "      <th>dropoff_latitude</th>\n",
              "      <th>passenger_count</th>\n",
              "      <th>hour_of_day</th>\n",
              "      <th>month</th>\n",
              "      <th>year</th>\n",
              "      <th>weekday</th>\n",
              "      <th>distance_miles</th>\n",
              "      <th>pickup_distance_to_jfk</th>\n",
              "      <th>dropoff_distance_to_jfk</th>\n",
              "      <th>pickup_distance_to_ewr</th>\n",
              "      <th>dropoff_distance_to_ewr</th>\n",
              "      <th>pickup_distance_to_lgr</th>\n",
              "      <th>dropoff_distance_to_lgr</th>\n",
              "    </tr>\n",
              "  </thead>\n",
              "  <tbody>\n",
              "  </tbody>\n",
              "</table>\n",
              "</div>"
            ],
            "text/plain": [
              "Empty DataFrame\n",
              "Columns: [key, fare_amount, pickup_datetime, pickup_longitude, pickup_latitude, dropoff_longitude, dropoff_latitude, passenger_count, hour_of_day, month, year, weekday, distance_miles, pickup_distance_to_jfk, dropoff_distance_to_jfk, pickup_distance_to_ewr, dropoff_distance_to_ewr, pickup_distance_to_lgr, dropoff_distance_to_lgr]\n",
              "Index: []"
            ]
          },
          "metadata": {
            "tags": []
          },
          "execution_count": 49
        }
      ]
    },
    {
      "cell_type": "code",
      "metadata": {
        "colab": {
          "base_uri": "https://localhost:8080/"
        },
        "id": "X6-MnBr-dfO8",
        "outputId": "ec980dad-9f22-4ce9-bb9c-ef01b1210a3e"
      },
      "source": [
        "taxiFare_df[taxiFare_df['fare_amount']==0].shape"
      ],
      "execution_count": null,
      "outputs": [
        {
          "output_type": "execute_result",
          "data": {
            "text/plain": [
              "(3, 19)"
            ]
          },
          "metadata": {
            "tags": []
          },
          "execution_count": 50
        }
      ]
    },
    {
      "cell_type": "code",
      "metadata": {
        "colab": {
          "base_uri": "https://localhost:8080/"
        },
        "id": "qeVbS-iZdoz6",
        "outputId": "ef0bc6fc-7235-421c-ed30-5459cb95631c"
      },
      "source": [
        "print(\"old size: %d\" % len(taxiFare_df))\n",
        "taxiFare_df = taxiFare_df.drop(index= taxiFare_df[taxiFare_df['fare_amount']==0].index, axis=0)\n",
        "print(\"New size: %d\" % len(taxiFare_df))"
      ],
      "execution_count": null,
      "outputs": [
        {
          "output_type": "stream",
          "text": [
            "old size: 97863\n",
            "New size: 97860\n"
          ],
          "name": "stdout"
        }
      ]
    },
    {
      "cell_type": "code",
      "metadata": {
        "colab": {
          "base_uri": "https://localhost:8080/"
        },
        "id": "1cB8kJx7dxFz",
        "outputId": "d24e1547-2aa3-4fe4-caf3-81f1ffa1edb4"
      },
      "source": [
        "##There are 3 record where fare amount is less than 2.5 dollars which doesn't make sense as the base fare for any taxi in new york is 2.5 dollars, we will drop those cases\n",
        "taxiFare_df[taxiFare_df['fare_amount'] < 2.5].shape"
      ],
      "execution_count": null,
      "outputs": [
        {
          "output_type": "execute_result",
          "data": {
            "text/plain": [
              "(2, 19)"
            ]
          },
          "metadata": {
            "tags": []
          },
          "execution_count": 52
        }
      ]
    },
    {
      "cell_type": "code",
      "metadata": {
        "colab": {
          "base_uri": "https://localhost:8080/"
        },
        "id": "rWBrAa8rd-vf",
        "outputId": "5e48f00d-6d4e-4caf-8706-6b0ff73a2717"
      },
      "source": [
        "print(\"old size: %d\" % len(taxiFare_df))\n",
        "taxiFare_df = taxiFare_df.drop(index= taxiFare_df[taxiFare_df['fare_amount'] < 2.5].index, axis=0)\n",
        "print(\"New size: %d\" % len(taxiFare_df))"
      ],
      "execution_count": null,
      "outputs": [
        {
          "output_type": "stream",
          "text": [
            "old size: 97860\n",
            "New size: 97858\n"
          ],
          "name": "stdout"
        }
      ]
    },
    {
      "cell_type": "code",
      "metadata": {
        "colab": {
          "base_uri": "https://localhost:8080/",
          "height": 67
        },
        "id": "zZzIs10neNfi",
        "outputId": "f79bfdd8-6cee-474d-e209-91de6b4a5760"
      },
      "source": [
        "taxiFare_df[taxiFare_df.passenger_count >= 7]"
      ],
      "execution_count": null,
      "outputs": [
        {
          "output_type": "execute_result",
          "data": {
            "text/html": [
              "<div>\n",
              "<style scoped>\n",
              "    .dataframe tbody tr th:only-of-type {\n",
              "        vertical-align: middle;\n",
              "    }\n",
              "\n",
              "    .dataframe tbody tr th {\n",
              "        vertical-align: top;\n",
              "    }\n",
              "\n",
              "    .dataframe thead th {\n",
              "        text-align: right;\n",
              "    }\n",
              "</style>\n",
              "<table border=\"1\" class=\"dataframe\">\n",
              "  <thead>\n",
              "    <tr style=\"text-align: right;\">\n",
              "      <th></th>\n",
              "      <th>key</th>\n",
              "      <th>fare_amount</th>\n",
              "      <th>pickup_datetime</th>\n",
              "      <th>pickup_longitude</th>\n",
              "      <th>pickup_latitude</th>\n",
              "      <th>dropoff_longitude</th>\n",
              "      <th>dropoff_latitude</th>\n",
              "      <th>passenger_count</th>\n",
              "      <th>hour_of_day</th>\n",
              "      <th>month</th>\n",
              "      <th>year</th>\n",
              "      <th>weekday</th>\n",
              "      <th>distance_miles</th>\n",
              "      <th>pickup_distance_to_jfk</th>\n",
              "      <th>dropoff_distance_to_jfk</th>\n",
              "      <th>pickup_distance_to_ewr</th>\n",
              "      <th>dropoff_distance_to_ewr</th>\n",
              "      <th>pickup_distance_to_lgr</th>\n",
              "      <th>dropoff_distance_to_lgr</th>\n",
              "    </tr>\n",
              "  </thead>\n",
              "  <tbody>\n",
              "  </tbody>\n",
              "</table>\n",
              "</div>"
            ],
            "text/plain": [
              "Empty DataFrame\n",
              "Columns: [key, fare_amount, pickup_datetime, pickup_longitude, pickup_latitude, dropoff_longitude, dropoff_latitude, passenger_count, hour_of_day, month, year, weekday, distance_miles, pickup_distance_to_jfk, dropoff_distance_to_jfk, pickup_distance_to_ewr, dropoff_distance_to_ewr, pickup_distance_to_lgr, dropoff_distance_to_lgr]\n",
              "Index: []"
            ]
          },
          "metadata": {
            "tags": []
          },
          "execution_count": 55
        }
      ]
    },
    {
      "cell_type": "code",
      "metadata": {
        "colab": {
          "base_uri": "https://localhost:8080/",
          "height": 550
        },
        "id": "MSeuC_NpeR2b",
        "outputId": "45e5af01-5de3-493a-a86c-70e90b47547e"
      },
      "source": [
        "taxiFare_df.describe().T"
      ],
      "execution_count": null,
      "outputs": [
        {
          "output_type": "execute_result",
          "data": {
            "text/html": [
              "<div>\n",
              "<style scoped>\n",
              "    .dataframe tbody tr th:only-of-type {\n",
              "        vertical-align: middle;\n",
              "    }\n",
              "\n",
              "    .dataframe tbody tr th {\n",
              "        vertical-align: top;\n",
              "    }\n",
              "\n",
              "    .dataframe thead th {\n",
              "        text-align: right;\n",
              "    }\n",
              "</style>\n",
              "<table border=\"1\" class=\"dataframe\">\n",
              "  <thead>\n",
              "    <tr style=\"text-align: right;\">\n",
              "      <th></th>\n",
              "      <th>count</th>\n",
              "      <th>mean</th>\n",
              "      <th>std</th>\n",
              "      <th>min</th>\n",
              "      <th>25%</th>\n",
              "      <th>50%</th>\n",
              "      <th>75%</th>\n",
              "      <th>max</th>\n",
              "    </tr>\n",
              "  </thead>\n",
              "  <tbody>\n",
              "    <tr>\n",
              "      <th>fare_amount</th>\n",
              "      <td>97858.0</td>\n",
              "      <td>11.344180</td>\n",
              "      <td>9.682780</td>\n",
              "      <td>2.500000</td>\n",
              "      <td>6.000000</td>\n",
              "      <td>8.500000</td>\n",
              "      <td>12.500000</td>\n",
              "      <td>200.000000</td>\n",
              "    </tr>\n",
              "    <tr>\n",
              "      <th>pickup_longitude</th>\n",
              "      <td>97858.0</td>\n",
              "      <td>-73.975002</td>\n",
              "      <td>0.039128</td>\n",
              "      <td>-74.438233</td>\n",
              "      <td>-73.992259</td>\n",
              "      <td>-73.982076</td>\n",
              "      <td>-73.968292</td>\n",
              "      <td>-72.856968</td>\n",
              "    </tr>\n",
              "    <tr>\n",
              "      <th>pickup_latitude</th>\n",
              "      <td>97858.0</td>\n",
              "      <td>40.751224</td>\n",
              "      <td>0.030231</td>\n",
              "      <td>40.500046</td>\n",
              "      <td>40.736666</td>\n",
              "      <td>40.753542</td>\n",
              "      <td>40.767685</td>\n",
              "      <td>41.692428</td>\n",
              "    </tr>\n",
              "    <tr>\n",
              "      <th>dropoff_longitude</th>\n",
              "      <td>97858.0</td>\n",
              "      <td>-73.973928</td>\n",
              "      <td>0.038159</td>\n",
              "      <td>-74.474595</td>\n",
              "      <td>-73.991394</td>\n",
              "      <td>-73.980435</td>\n",
              "      <td>-73.965128</td>\n",
              "      <td>-72.854940</td>\n",
              "    </tr>\n",
              "    <tr>\n",
              "      <th>dropoff_latitude</th>\n",
              "      <td>97858.0</td>\n",
              "      <td>40.751619</td>\n",
              "      <td>0.033241</td>\n",
              "      <td>40.500046</td>\n",
              "      <td>40.735775</td>\n",
              "      <td>40.753972</td>\n",
              "      <td>40.768487</td>\n",
              "      <td>41.714633</td>\n",
              "    </tr>\n",
              "    <tr>\n",
              "      <th>passenger_count</th>\n",
              "      <td>97858.0</td>\n",
              "      <td>1.674304</td>\n",
              "      <td>1.300201</td>\n",
              "      <td>0.000000</td>\n",
              "      <td>1.000000</td>\n",
              "      <td>1.000000</td>\n",
              "      <td>2.000000</td>\n",
              "      <td>6.000000</td>\n",
              "    </tr>\n",
              "    <tr>\n",
              "      <th>hour_of_day</th>\n",
              "      <td>97858.0</td>\n",
              "      <td>13.494155</td>\n",
              "      <td>6.504697</td>\n",
              "      <td>0.000000</td>\n",
              "      <td>9.000000</td>\n",
              "      <td>14.000000</td>\n",
              "      <td>19.000000</td>\n",
              "      <td>23.000000</td>\n",
              "    </tr>\n",
              "    <tr>\n",
              "      <th>month</th>\n",
              "      <td>97858.0</td>\n",
              "      <td>6.262666</td>\n",
              "      <td>3.452179</td>\n",
              "      <td>1.000000</td>\n",
              "      <td>3.000000</td>\n",
              "      <td>6.000000</td>\n",
              "      <td>9.000000</td>\n",
              "      <td>12.000000</td>\n",
              "    </tr>\n",
              "    <tr>\n",
              "      <th>year</th>\n",
              "      <td>97858.0</td>\n",
              "      <td>2011.742392</td>\n",
              "      <td>1.868477</td>\n",
              "      <td>2009.000000</td>\n",
              "      <td>2010.000000</td>\n",
              "      <td>2012.000000</td>\n",
              "      <td>2013.000000</td>\n",
              "      <td>2015.000000</td>\n",
              "    </tr>\n",
              "    <tr>\n",
              "      <th>weekday</th>\n",
              "      <td>97858.0</td>\n",
              "      <td>3.036400</td>\n",
              "      <td>1.949358</td>\n",
              "      <td>0.000000</td>\n",
              "      <td>1.000000</td>\n",
              "      <td>3.000000</td>\n",
              "      <td>5.000000</td>\n",
              "      <td>6.000000</td>\n",
              "    </tr>\n",
              "    <tr>\n",
              "      <th>distance_miles</th>\n",
              "      <td>97858.0</td>\n",
              "      <td>2.075812</td>\n",
              "      <td>2.377036</td>\n",
              "      <td>0.000000</td>\n",
              "      <td>0.780036</td>\n",
              "      <td>1.340584</td>\n",
              "      <td>2.439731</td>\n",
              "      <td>64.644331</td>\n",
              "    </tr>\n",
              "    <tr>\n",
              "      <th>pickup_distance_to_jfk</th>\n",
              "      <td>97858.0</td>\n",
              "      <td>12.973137</td>\n",
              "      <td>2.082712</td>\n",
              "      <td>0.244542</td>\n",
              "      <td>12.779814</td>\n",
              "      <td>13.170660</td>\n",
              "      <td>13.602676</td>\n",
              "      <td>78.602440</td>\n",
              "    </tr>\n",
              "    <tr>\n",
              "      <th>dropoff_distance_to_jfk</th>\n",
              "      <td>97858.0</td>\n",
              "      <td>12.994327</td>\n",
              "      <td>1.937513</td>\n",
              "      <td>0.232948</td>\n",
              "      <td>12.759325</td>\n",
              "      <td>13.167408</td>\n",
              "      <td>13.613251</td>\n",
              "      <td>79.697023</td>\n",
              "    </tr>\n",
              "    <tr>\n",
              "      <th>pickup_distance_to_ewr</th>\n",
              "      <td>97858.0</td>\n",
              "      <td>11.414747</td>\n",
              "      <td>2.363010</td>\n",
              "      <td>0.175065</td>\n",
              "      <td>10.176484</td>\n",
              "      <td>11.080044</td>\n",
              "      <td>12.101518</td>\n",
              "      <td>71.468468</td>\n",
              "    </tr>\n",
              "    <tr>\n",
              "      <th>dropoff_distance_to_ewr</th>\n",
              "      <td>97858.0</td>\n",
              "      <td>11.509436</td>\n",
              "      <td>2.351480</td>\n",
              "      <td>0.172432</td>\n",
              "      <td>10.262802</td>\n",
              "      <td>11.179408</td>\n",
              "      <td>12.320054</td>\n",
              "      <td>71.468468</td>\n",
              "    </tr>\n",
              "    <tr>\n",
              "      <th>pickup_distance_to_lgr</th>\n",
              "      <td>97858.0</td>\n",
              "      <td>6.007583</td>\n",
              "      <td>1.883122</td>\n",
              "      <td>0.160286</td>\n",
              "      <td>5.207391</td>\n",
              "      <td>5.969362</td>\n",
              "      <td>6.840146</td>\n",
              "      <td>68.036300</td>\n",
              "    </tr>\n",
              "    <tr>\n",
              "      <th>dropoff_distance_to_lgr</th>\n",
              "      <td>97858.0</td>\n",
              "      <td>6.008704</td>\n",
              "      <td>1.885395</td>\n",
              "      <td>0.160713</td>\n",
              "      <td>5.169220</td>\n",
              "      <td>5.905576</td>\n",
              "      <td>6.811058</td>\n",
              "      <td>69.154424</td>\n",
              "    </tr>\n",
              "  </tbody>\n",
              "</table>\n",
              "</div>"
            ],
            "text/plain": [
              "                           count         mean  ...          75%          max\n",
              "fare_amount              97858.0    11.344180  ...    12.500000   200.000000\n",
              "pickup_longitude         97858.0   -73.975002  ...   -73.968292   -72.856968\n",
              "pickup_latitude          97858.0    40.751224  ...    40.767685    41.692428\n",
              "dropoff_longitude        97858.0   -73.973928  ...   -73.965128   -72.854940\n",
              "dropoff_latitude         97858.0    40.751619  ...    40.768487    41.714633\n",
              "passenger_count          97858.0     1.674304  ...     2.000000     6.000000\n",
              "hour_of_day              97858.0    13.494155  ...    19.000000    23.000000\n",
              "month                    97858.0     6.262666  ...     9.000000    12.000000\n",
              "year                     97858.0  2011.742392  ...  2013.000000  2015.000000\n",
              "weekday                  97858.0     3.036400  ...     5.000000     6.000000\n",
              "distance_miles           97858.0     2.075812  ...     2.439731    64.644331\n",
              "pickup_distance_to_jfk   97858.0    12.973137  ...    13.602676    78.602440\n",
              "dropoff_distance_to_jfk  97858.0    12.994327  ...    13.613251    79.697023\n",
              "pickup_distance_to_ewr   97858.0    11.414747  ...    12.101518    71.468468\n",
              "dropoff_distance_to_ewr  97858.0    11.509436  ...    12.320054    71.468468\n",
              "pickup_distance_to_lgr   97858.0     6.007583  ...     6.840146    68.036300\n",
              "dropoff_distance_to_lgr  97858.0     6.008704  ...     6.811058    69.154424\n",
              "\n",
              "[17 rows x 8 columns]"
            ]
          },
          "metadata": {
            "tags": []
          },
          "execution_count": 56
        }
      ]
    },
    {
      "cell_type": "markdown",
      "metadata": {
        "id": "7lN5JAOgeXIQ"
      },
      "source": [
        "### Lets check the distribution of distance in miles covered for train and test data set\n"
      ]
    },
    {
      "cell_type": "code",
      "metadata": {
        "colab": {
          "base_uri": "https://localhost:8080/"
        },
        "id": "sIpoKMYXeYJN",
        "outputId": "89dfeb41-0bcc-4e3d-b3ba-800cee8e0440"
      },
      "source": [
        "pd.cut(taxiFare_df['distance_miles'],np.linspace(0, 70, num = 8)).value_counts()"
      ],
      "execution_count": null,
      "outputs": [
        {
          "output_type": "execute_result",
          "data": {
            "text/plain": [
              "(0.0, 10.0]     94737\n",
              "(10.0, 20.0]     2015\n",
              "(20.0, 30.0]       16\n",
              "(60.0, 70.0]       12\n",
              "(50.0, 60.0]        7\n",
              "(40.0, 50.0]        1\n",
              "(30.0, 40.0]        0\n",
              "Name: distance_miles, dtype: int64"
            ]
          },
          "metadata": {
            "tags": []
          },
          "execution_count": 57
        }
      ]
    },
    {
      "cell_type": "code",
      "metadata": {
        "colab": {
          "base_uri": "https://localhost:8080/"
        },
        "id": "LRUo6Fwgef41",
        "outputId": "631ef40b-8db2-4f55-8707-5d7388ddeb32"
      },
      "source": [
        "# test data set\n",
        "pd.cut(test_df['distance_miles'],np.linspace(0, 70, num = 8)).value_counts()"
      ],
      "execution_count": null,
      "outputs": [
        {
          "output_type": "execute_result",
          "data": {
            "text/plain": [
              "(0.0, 10.0]     9611\n",
              "(10.0, 20.0]     214\n",
              "(60.0, 70.0]       3\n",
              "(20.0, 30.0]       1\n",
              "(50.0, 60.0]       0\n",
              "(40.0, 50.0]       0\n",
              "(30.0, 40.0]       0\n",
              "Name: distance_miles, dtype: int64"
            ]
          },
          "metadata": {
            "tags": []
          },
          "execution_count": 58
        }
      ]
    },
    {
      "cell_type": "code",
      "metadata": {
        "colab": {
          "base_uri": "https://localhost:8080/"
        },
        "id": "XPYOxcmuell3",
        "outputId": "413b70dd-afac-48e7-8aec-8b7975d83956"
      },
      "source": [
        "# we will deal with it later \n",
        "fare_100 = taxiFare_df[taxiFare_df.fare_amount > 100]\n",
        "fare_100.shape"
      ],
      "execution_count": null,
      "outputs": [
        {
          "output_type": "execute_result",
          "data": {
            "text/plain": [
              "(39, 19)"
            ]
          },
          "metadata": {
            "tags": []
          },
          "execution_count": 59
        }
      ]
    },
    {
      "cell_type": "markdown",
      "metadata": {
        "id": "rlc2wW_Jerxw"
      },
      "source": [
        "There are 39 records where fare amount is higher than 100 dollars"
      ]
    },
    {
      "cell_type": "code",
      "metadata": {
        "colab": {
          "base_uri": "https://localhost:8080/"
        },
        "id": "rOm90sx8ewhJ",
        "outputId": "6ffba335-62eb-46b9-d5c5-dc75f7256f79"
      },
      "source": [
        "fare_100[fare_100.distance_miles <1].shape"
      ],
      "execution_count": null,
      "outputs": [
        {
          "output_type": "execute_result",
          "data": {
            "text/plain": [
              "(21, 19)"
            ]
          },
          "metadata": {
            "tags": []
          },
          "execution_count": 60
        }
      ]
    },
    {
      "cell_type": "code",
      "metadata": {
        "colab": {
          "base_uri": "https://localhost:8080/"
        },
        "id": "zySZq-Hje0c7",
        "outputId": "effaec9a-dd88-4f29-e3e1-d62db5bef982"
      },
      "source": [
        "taxiFare_df.columns"
      ],
      "execution_count": null,
      "outputs": [
        {
          "output_type": "execute_result",
          "data": {
            "text/plain": [
              "Index(['key', 'fare_amount', 'pickup_datetime', 'pickup_longitude',\n",
              "       'pickup_latitude', 'dropoff_longitude', 'dropoff_latitude',\n",
              "       'passenger_count', 'hour_of_day', 'month', 'year', 'weekday',\n",
              "       'distance_miles', 'pickup_distance_to_jfk', 'dropoff_distance_to_jfk',\n",
              "       'pickup_distance_to_ewr', 'dropoff_distance_to_ewr',\n",
              "       'pickup_distance_to_lgr', 'dropoff_distance_to_lgr'],\n",
              "      dtype='object')"
            ]
          },
          "metadata": {
            "tags": []
          },
          "execution_count": 61
        }
      ]
    },
    {
      "cell_type": "code",
      "metadata": {
        "colab": {
          "base_uri": "https://localhost:8080/"
        },
        "id": "1vhcehIue3fQ",
        "outputId": "9872c9f5-ba4f-4e73-9f67-72f58eadb018"
      },
      "source": [
        "# create copy of the data set\n",
        "df_train = taxiFare_df.drop(columns= ['key','pickup_datetime'], axis= 1).copy()\n",
        "df_test = test_df.drop(columns= ['key','pickup_datetime'], axis= 1).copy()\n",
        "print(df_train.shape)\n",
        "print(df_test.shape)"
      ],
      "execution_count": null,
      "outputs": [
        {
          "output_type": "stream",
          "text": [
            "(97858, 17)\n",
            "(9914, 16)\n"
          ],
          "name": "stdout"
        }
      ]
    },
    {
      "cell_type": "markdown",
      "metadata": {
        "id": "6DZzFMaKe9t1"
      },
      "source": [
        "## **Splitting training and testing data**"
      ]
    },
    {
      "cell_type": "code",
      "metadata": {
        "colab": {
          "base_uri": "https://localhost:8080/"
        },
        "id": "7y6w8PR5e7uL",
        "outputId": "860411e4-e6d8-49d2-b9a9-1a4a8d690a38"
      },
      "source": [
        "from sklearn.model_selection import train_test_split \n",
        "X_train, X_test, y_train, y_test = train_test_split(df_train.drop('fare_amount', axis=1),\n",
        "                                                    df_train['fare_amount'], test_size=0.2, random_state = 42)\n",
        "print(X_train.shape)\n",
        "print(X_test.shape)\n",
        "print(y_train.shape)\n",
        "print(y_test.shape)"
      ],
      "execution_count": null,
      "outputs": [
        {
          "output_type": "stream",
          "text": [
            "(78286, 16)\n",
            "(19572, 16)\n",
            "(78286,)\n",
            "(19572,)\n"
          ],
          "name": "stdout"
        }
      ]
    },
    {
      "cell_type": "markdown",
      "metadata": {
        "id": "L0LbDautfFSZ"
      },
      "source": [
        "## **XG Boost Model**"
      ]
    },
    {
      "cell_type": "code",
      "metadata": {
        "id": "hgTwW-GpfD9q"
      },
      "source": [
        "import xgboost as xgb"
      ],
      "execution_count": null,
      "outputs": []
    },
    {
      "cell_type": "code",
      "metadata": {
        "id": "3Q3RyF4efJtm"
      },
      "source": [
        "params = {\n",
        "   \n",
        "    'max_depth': 7,\n",
        "    'gamma' :0,\n",
        "    'eta':.03, \n",
        "    'subsample': 1,\n",
        "    'colsample_bytree': 0.9, \n",
        "    'objective':'reg:linear',\n",
        "    'eval_metric':'rmse',\n",
        "    'silent': 0\n",
        "}"
      ],
      "execution_count": null,
      "outputs": []
    },
    {
      "cell_type": "code",
      "metadata": {
        "colab": {
          "base_uri": "https://localhost:8080/"
        },
        "id": "ktwah23tfMPy",
        "outputId": "6ebc443c-81a2-4bb2-ad5b-33d19faef287"
      },
      "source": [
        "def XGBmodel(X_train,X_test,y_train,y_test,params):\n",
        "    matrix_train = xgb.DMatrix(X_train,label=y_train)\n",
        "    matrix_test = xgb.DMatrix(X_test,label=y_test)\n",
        "    model=xgb.train(params=params,\n",
        "                    dtrain=matrix_train,num_boost_round=5000, \n",
        "                    early_stopping_rounds=10,evals=[(matrix_test,'test')])\n",
        "    return model\n",
        "\n",
        "model = XGBmodel(X_train,X_test,y_train,y_test,params)"
      ],
      "execution_count": null,
      "outputs": [
        {
          "output_type": "stream",
          "text": [
            "[05:25:05] WARNING: /workspace/src/objective/regression_obj.cu:152: reg:linear is now deprecated in favor of reg:squarederror.\n",
            "[0]\ttest-rmse:14.2018\n",
            "Will train until test-rmse hasn't improved in 10 rounds.\n",
            "[1]\ttest-rmse:13.8245\n",
            "[2]\ttest-rmse:13.4794\n",
            "[3]\ttest-rmse:13.1259\n",
            "[4]\ttest-rmse:12.7866\n",
            "[5]\ttest-rmse:12.4553\n",
            "[6]\ttest-rmse:12.1361\n",
            "[7]\ttest-rmse:11.828\n",
            "[8]\ttest-rmse:11.5278\n",
            "[9]\ttest-rmse:11.2374\n",
            "[10]\ttest-rmse:10.9755\n",
            "[11]\ttest-rmse:10.7075\n",
            "[12]\ttest-rmse:10.4495\n",
            "[13]\ttest-rmse:10.1984\n",
            "[14]\ttest-rmse:9.95848\n",
            "[15]\ttest-rmse:9.72518\n",
            "[16]\ttest-rmse:9.50195\n",
            "[17]\ttest-rmse:9.28838\n",
            "[18]\ttest-rmse:9.0799\n",
            "[19]\ttest-rmse:8.88096\n",
            "[20]\ttest-rmse:8.68905\n",
            "[21]\ttest-rmse:8.50491\n",
            "[22]\ttest-rmse:8.3355\n",
            "[23]\ttest-rmse:8.16396\n",
            "[24]\ttest-rmse:7.99887\n",
            "[25]\ttest-rmse:7.8423\n",
            "[26]\ttest-rmse:7.69225\n",
            "[27]\ttest-rmse:7.54668\n",
            "[28]\ttest-rmse:7.40798\n",
            "[29]\ttest-rmse:7.2726\n",
            "[30]\ttest-rmse:7.14507\n",
            "[31]\ttest-rmse:7.02026\n",
            "[32]\ttest-rmse:6.9008\n",
            "[33]\ttest-rmse:6.78485\n",
            "[34]\ttest-rmse:6.6726\n",
            "[35]\ttest-rmse:6.5734\n",
            "[36]\ttest-rmse:6.47491\n",
            "[37]\ttest-rmse:6.37723\n",
            "[38]\ttest-rmse:6.2853\n",
            "[39]\ttest-rmse:6.19547\n",
            "[40]\ttest-rmse:6.10968\n",
            "[41]\ttest-rmse:6.02815\n",
            "[42]\ttest-rmse:5.95165\n",
            "[43]\ttest-rmse:5.87635\n",
            "[44]\ttest-rmse:5.80424\n",
            "[45]\ttest-rmse:5.73711\n",
            "[46]\ttest-rmse:5.67339\n",
            "[47]\ttest-rmse:5.6127\n",
            "[48]\ttest-rmse:5.55293\n",
            "[49]\ttest-rmse:5.49733\n",
            "[50]\ttest-rmse:5.44596\n",
            "[51]\ttest-rmse:5.3947\n",
            "[52]\ttest-rmse:5.34593\n",
            "[53]\ttest-rmse:5.29942\n",
            "[54]\ttest-rmse:5.25816\n",
            "[55]\ttest-rmse:5.21608\n",
            "[56]\ttest-rmse:5.17869\n",
            "[57]\ttest-rmse:5.14007\n",
            "[58]\ttest-rmse:5.10649\n",
            "[59]\ttest-rmse:5.07086\n",
            "[60]\ttest-rmse:5.03895\n",
            "[61]\ttest-rmse:5.00845\n",
            "[62]\ttest-rmse:4.98138\n",
            "[63]\ttest-rmse:4.95421\n",
            "[64]\ttest-rmse:4.92921\n",
            "[65]\ttest-rmse:4.90676\n",
            "[66]\ttest-rmse:4.88101\n",
            "[67]\ttest-rmse:4.85715\n",
            "[68]\ttest-rmse:4.83483\n",
            "[69]\ttest-rmse:4.81367\n",
            "[70]\ttest-rmse:4.79259\n",
            "[71]\ttest-rmse:4.77577\n",
            "[72]\ttest-rmse:4.75691\n",
            "[73]\ttest-rmse:4.74062\n",
            "[74]\ttest-rmse:4.72423\n",
            "[75]\ttest-rmse:4.70861\n",
            "[76]\ttest-rmse:4.69556\n",
            "[77]\ttest-rmse:4.68119\n",
            "[78]\ttest-rmse:4.66974\n",
            "[79]\ttest-rmse:4.65706\n",
            "[80]\ttest-rmse:4.64635\n",
            "[81]\ttest-rmse:4.63502\n",
            "[82]\ttest-rmse:4.62273\n",
            "[83]\ttest-rmse:4.61015\n",
            "[84]\ttest-rmse:4.59901\n",
            "[85]\ttest-rmse:4.59002\n",
            "[86]\ttest-rmse:4.58009\n",
            "[87]\ttest-rmse:4.57213\n",
            "[88]\ttest-rmse:4.56353\n",
            "[89]\ttest-rmse:4.55573\n",
            "[90]\ttest-rmse:4.54805\n",
            "[91]\ttest-rmse:4.54258\n",
            "[92]\ttest-rmse:4.53554\n",
            "[93]\ttest-rmse:4.52927\n",
            "[94]\ttest-rmse:4.5235\n",
            "[95]\ttest-rmse:4.51769\n",
            "[96]\ttest-rmse:4.51118\n",
            "[97]\ttest-rmse:4.50502\n",
            "[98]\ttest-rmse:4.49932\n",
            "[99]\ttest-rmse:4.49458\n",
            "[100]\ttest-rmse:4.48888\n",
            "[101]\ttest-rmse:4.48418\n",
            "[102]\ttest-rmse:4.48059\n",
            "[103]\ttest-rmse:4.47612\n",
            "[104]\ttest-rmse:4.47304\n",
            "[105]\ttest-rmse:4.46902\n",
            "[106]\ttest-rmse:4.46426\n",
            "[107]\ttest-rmse:4.46164\n",
            "[108]\ttest-rmse:4.45763\n",
            "[109]\ttest-rmse:4.4544\n",
            "[110]\ttest-rmse:4.45165\n",
            "[111]\ttest-rmse:4.44826\n",
            "[112]\ttest-rmse:4.44614\n",
            "[113]\ttest-rmse:4.4431\n",
            "[114]\ttest-rmse:4.44115\n",
            "[115]\ttest-rmse:4.43808\n",
            "[116]\ttest-rmse:4.43552\n",
            "[117]\ttest-rmse:4.43405\n",
            "[118]\ttest-rmse:4.43226\n",
            "[119]\ttest-rmse:4.43014\n",
            "[120]\ttest-rmse:4.42784\n",
            "[121]\ttest-rmse:4.42611\n",
            "[122]\ttest-rmse:4.42519\n",
            "[123]\ttest-rmse:4.42316\n",
            "[124]\ttest-rmse:4.42138\n",
            "[125]\ttest-rmse:4.42038\n",
            "[126]\ttest-rmse:4.4191\n",
            "[127]\ttest-rmse:4.41743\n",
            "[128]\ttest-rmse:4.41548\n",
            "[129]\ttest-rmse:4.41424\n",
            "[130]\ttest-rmse:4.41287\n",
            "[131]\ttest-rmse:4.41024\n",
            "[132]\ttest-rmse:4.41012\n",
            "[133]\ttest-rmse:4.40795\n",
            "[134]\ttest-rmse:4.40715\n",
            "[135]\ttest-rmse:4.40825\n",
            "[136]\ttest-rmse:4.40687\n",
            "[137]\ttest-rmse:4.40624\n",
            "[138]\ttest-rmse:4.40548\n",
            "[139]\ttest-rmse:4.40495\n",
            "[140]\ttest-rmse:4.40355\n",
            "[141]\ttest-rmse:4.40307\n",
            "[142]\ttest-rmse:4.40233\n",
            "[143]\ttest-rmse:4.40132\n",
            "[144]\ttest-rmse:4.40122\n",
            "[145]\ttest-rmse:4.3995\n",
            "[146]\ttest-rmse:4.39916\n",
            "[147]\ttest-rmse:4.39852\n",
            "[148]\ttest-rmse:4.39757\n",
            "[149]\ttest-rmse:4.39668\n",
            "[150]\ttest-rmse:4.39556\n",
            "[151]\ttest-rmse:4.39445\n",
            "[152]\ttest-rmse:4.39435\n",
            "[153]\ttest-rmse:4.39348\n",
            "[154]\ttest-rmse:4.39284\n",
            "[155]\ttest-rmse:4.39119\n",
            "[156]\ttest-rmse:4.39069\n",
            "[157]\ttest-rmse:4.38933\n",
            "[158]\ttest-rmse:4.38912\n",
            "[159]\ttest-rmse:4.38907\n",
            "[160]\ttest-rmse:4.388\n",
            "[161]\ttest-rmse:4.38831\n",
            "[162]\ttest-rmse:4.38807\n",
            "[163]\ttest-rmse:4.38704\n",
            "[164]\ttest-rmse:4.38677\n",
            "[165]\ttest-rmse:4.38626\n",
            "[166]\ttest-rmse:4.38589\n",
            "[167]\ttest-rmse:4.38476\n",
            "[168]\ttest-rmse:4.38371\n",
            "[169]\ttest-rmse:4.38263\n",
            "[170]\ttest-rmse:4.38314\n",
            "[171]\ttest-rmse:4.38303\n",
            "[172]\ttest-rmse:4.38225\n",
            "[173]\ttest-rmse:4.38225\n",
            "[174]\ttest-rmse:4.38079\n",
            "[175]\ttest-rmse:4.38044\n",
            "[176]\ttest-rmse:4.38086\n",
            "[177]\ttest-rmse:4.38096\n",
            "[178]\ttest-rmse:4.38031\n",
            "[179]\ttest-rmse:4.37882\n",
            "[180]\ttest-rmse:4.37798\n",
            "[181]\ttest-rmse:4.37735\n",
            "[182]\ttest-rmse:4.37707\n",
            "[183]\ttest-rmse:4.3763\n",
            "[184]\ttest-rmse:4.37555\n",
            "[185]\ttest-rmse:4.37472\n",
            "[186]\ttest-rmse:4.37431\n",
            "[187]\ttest-rmse:4.37321\n",
            "[188]\ttest-rmse:4.37146\n",
            "[189]\ttest-rmse:4.37069\n",
            "[190]\ttest-rmse:4.37035\n",
            "[191]\ttest-rmse:4.36975\n",
            "[192]\ttest-rmse:4.36965\n",
            "[193]\ttest-rmse:4.36912\n",
            "[194]\ttest-rmse:4.36886\n",
            "[195]\ttest-rmse:4.36827\n",
            "[196]\ttest-rmse:4.36804\n",
            "[197]\ttest-rmse:4.36771\n",
            "[198]\ttest-rmse:4.36729\n",
            "[199]\ttest-rmse:4.36608\n",
            "[200]\ttest-rmse:4.3654\n",
            "[201]\ttest-rmse:4.36626\n",
            "[202]\ttest-rmse:4.36572\n",
            "[203]\ttest-rmse:4.36536\n",
            "[204]\ttest-rmse:4.36428\n",
            "[205]\ttest-rmse:4.36411\n",
            "[206]\ttest-rmse:4.36197\n",
            "[207]\ttest-rmse:4.36163\n",
            "[208]\ttest-rmse:4.36176\n",
            "[209]\ttest-rmse:4.36111\n",
            "[210]\ttest-rmse:4.36108\n",
            "[211]\ttest-rmse:4.36042\n",
            "[212]\ttest-rmse:4.35986\n",
            "[213]\ttest-rmse:4.35901\n",
            "[214]\ttest-rmse:4.35919\n",
            "[215]\ttest-rmse:4.35809\n",
            "[216]\ttest-rmse:4.35771\n",
            "[217]\ttest-rmse:4.35742\n",
            "[218]\ttest-rmse:4.35706\n",
            "[219]\ttest-rmse:4.35558\n",
            "[220]\ttest-rmse:4.35518\n",
            "[221]\ttest-rmse:4.35477\n",
            "[222]\ttest-rmse:4.35604\n",
            "[223]\ttest-rmse:4.35552\n",
            "[224]\ttest-rmse:4.35551\n",
            "[225]\ttest-rmse:4.35555\n",
            "[226]\ttest-rmse:4.35544\n",
            "[227]\ttest-rmse:4.35478\n",
            "[228]\ttest-rmse:4.35445\n",
            "[229]\ttest-rmse:4.35468\n",
            "[230]\ttest-rmse:4.35442\n",
            "[231]\ttest-rmse:4.354\n",
            "[232]\ttest-rmse:4.35357\n",
            "[233]\ttest-rmse:4.3537\n",
            "[234]\ttest-rmse:4.35359\n",
            "[235]\ttest-rmse:4.35395\n",
            "[236]\ttest-rmse:4.35383\n",
            "[237]\ttest-rmse:4.35365\n",
            "[238]\ttest-rmse:4.35365\n",
            "[239]\ttest-rmse:4.35316\n",
            "[240]\ttest-rmse:4.35273\n",
            "[241]\ttest-rmse:4.35173\n",
            "[242]\ttest-rmse:4.3521\n",
            "[243]\ttest-rmse:4.3519\n",
            "[244]\ttest-rmse:4.35108\n",
            "[245]\ttest-rmse:4.35088\n",
            "[246]\ttest-rmse:4.34971\n",
            "[247]\ttest-rmse:4.34944\n",
            "[248]\ttest-rmse:4.3497\n",
            "[249]\ttest-rmse:4.34939\n",
            "[250]\ttest-rmse:4.34886\n",
            "[251]\ttest-rmse:4.34858\n",
            "[252]\ttest-rmse:4.34861\n",
            "[253]\ttest-rmse:4.34757\n",
            "[254]\ttest-rmse:4.34692\n",
            "[255]\ttest-rmse:4.34694\n",
            "[256]\ttest-rmse:4.34698\n",
            "[257]\ttest-rmse:4.34628\n",
            "[258]\ttest-rmse:4.34649\n",
            "[259]\ttest-rmse:4.34646\n",
            "[260]\ttest-rmse:4.34648\n",
            "[261]\ttest-rmse:4.34603\n",
            "[262]\ttest-rmse:4.34657\n",
            "[263]\ttest-rmse:4.34618\n",
            "[264]\ttest-rmse:4.34583\n",
            "[265]\ttest-rmse:4.34601\n",
            "[266]\ttest-rmse:4.34615\n",
            "[267]\ttest-rmse:4.34581\n",
            "[268]\ttest-rmse:4.34622\n",
            "[269]\ttest-rmse:4.34606\n",
            "[270]\ttest-rmse:4.34493\n",
            "[271]\ttest-rmse:4.3447\n",
            "[272]\ttest-rmse:4.34424\n",
            "[273]\ttest-rmse:4.34433\n",
            "[274]\ttest-rmse:4.34401\n",
            "[275]\ttest-rmse:4.3433\n",
            "[276]\ttest-rmse:4.34358\n",
            "[277]\ttest-rmse:4.34381\n",
            "[278]\ttest-rmse:4.34305\n",
            "[279]\ttest-rmse:4.34253\n",
            "[280]\ttest-rmse:4.34194\n",
            "[281]\ttest-rmse:4.34224\n",
            "[282]\ttest-rmse:4.34238\n",
            "[283]\ttest-rmse:4.34227\n",
            "[284]\ttest-rmse:4.34187\n",
            "[285]\ttest-rmse:4.34112\n",
            "[286]\ttest-rmse:4.34111\n",
            "[287]\ttest-rmse:4.34086\n",
            "[288]\ttest-rmse:4.33958\n",
            "[289]\ttest-rmse:4.33975\n",
            "[290]\ttest-rmse:4.33963\n",
            "[291]\ttest-rmse:4.33953\n",
            "[292]\ttest-rmse:4.33925\n",
            "[293]\ttest-rmse:4.33966\n",
            "[294]\ttest-rmse:4.33877\n",
            "[295]\ttest-rmse:4.33837\n",
            "[296]\ttest-rmse:4.33863\n",
            "[297]\ttest-rmse:4.33849\n",
            "[298]\ttest-rmse:4.33854\n",
            "[299]\ttest-rmse:4.33853\n",
            "[300]\ttest-rmse:4.33889\n",
            "[301]\ttest-rmse:4.33788\n",
            "[302]\ttest-rmse:4.33783\n",
            "[303]\ttest-rmse:4.33749\n",
            "[304]\ttest-rmse:4.33758\n",
            "[305]\ttest-rmse:4.33774\n",
            "[306]\ttest-rmse:4.33772\n",
            "[307]\ttest-rmse:4.33768\n",
            "[308]\ttest-rmse:4.33716\n",
            "[309]\ttest-rmse:4.33704\n",
            "[310]\ttest-rmse:4.33722\n",
            "[311]\ttest-rmse:4.33739\n",
            "[312]\ttest-rmse:4.33719\n",
            "[313]\ttest-rmse:4.33729\n",
            "[314]\ttest-rmse:4.33713\n",
            "[315]\ttest-rmse:4.33687\n",
            "[316]\ttest-rmse:4.33703\n",
            "[317]\ttest-rmse:4.33723\n",
            "[318]\ttest-rmse:4.33727\n",
            "[319]\ttest-rmse:4.33684\n",
            "[320]\ttest-rmse:4.33699\n",
            "[321]\ttest-rmse:4.33651\n",
            "[322]\ttest-rmse:4.33634\n",
            "[323]\ttest-rmse:4.33625\n",
            "[324]\ttest-rmse:4.33666\n",
            "[325]\ttest-rmse:4.33634\n",
            "[326]\ttest-rmse:4.33614\n",
            "[327]\ttest-rmse:4.3361\n",
            "[328]\ttest-rmse:4.33598\n",
            "[329]\ttest-rmse:4.33597\n",
            "[330]\ttest-rmse:4.33541\n",
            "[331]\ttest-rmse:4.3354\n",
            "[332]\ttest-rmse:4.33497\n",
            "[333]\ttest-rmse:4.33458\n",
            "[334]\ttest-rmse:4.3345\n",
            "[335]\ttest-rmse:4.33444\n",
            "[336]\ttest-rmse:4.3344\n",
            "[337]\ttest-rmse:4.33303\n",
            "[338]\ttest-rmse:4.33288\n",
            "[339]\ttest-rmse:4.33288\n",
            "[340]\ttest-rmse:4.33225\n",
            "[341]\ttest-rmse:4.33197\n",
            "[342]\ttest-rmse:4.3319\n",
            "[343]\ttest-rmse:4.33117\n",
            "[344]\ttest-rmse:4.3319\n",
            "[345]\ttest-rmse:4.33139\n",
            "[346]\ttest-rmse:4.33122\n",
            "[347]\ttest-rmse:4.3313\n",
            "[348]\ttest-rmse:4.33139\n",
            "[349]\ttest-rmse:4.33118\n",
            "[350]\ttest-rmse:4.33168\n",
            "[351]\ttest-rmse:4.33212\n",
            "[352]\ttest-rmse:4.33198\n",
            "[353]\ttest-rmse:4.33126\n",
            "Stopping. Best iteration:\n",
            "[343]\ttest-rmse:4.33117\n",
            "\n"
          ],
          "name": "stdout"
        }
      ]
    },
    {
      "cell_type": "code",
      "metadata": {
        "id": "T8elxUWPfiMh"
      },
      "source": [
        "prediction = model.predict(xgb.DMatrix(df_test), ntree_limit = model.best_ntree_limit).tolist()"
      ],
      "execution_count": null,
      "outputs": []
    },
    {
      "cell_type": "code",
      "metadata": {
        "colab": {
          "base_uri": "https://localhost:8080/",
          "height": 392
        },
        "id": "ubelGzKHfort",
        "outputId": "31bfb0bf-0137-4662-fb40-d8ba12a497d4"
      },
      "source": [
        "import matplotlib.pyplot as plt\n",
        "fscores = pd.DataFrame({'X': list(model.get_fscore().keys()), 'Y': list(model.get_fscore().values())})\n",
        "fscores.sort_values(by='Y').plot.bar(x='X')"
      ],
      "execution_count": null,
      "outputs": [
        {
          "output_type": "execute_result",
          "data": {
            "text/plain": [
              "<matplotlib.axes._subplots.AxesSubplot at 0x7fd4a9d3e850>"
            ]
          },
          "metadata": {
            "tags": []
          },
          "execution_count": 69
        },
        {
          "output_type": "display_data",
          "data": {
            "image/png": "[encoded data removed]",
            "text/plain": [
              "<Figure size 432x288 with 1 Axes>"
            ]
          },
          "metadata": {
            "tags": [],
            "needs_background": "light"
          }
        }
      ]
    },
    {
      "cell_type": "markdown",
      "metadata": {
        "id": "oxSYQmS6hUMG"
      },
      "source": [
        "## **Refernces:**\n",
        "1. https://www.kaggle.com/sandeepkumar121995/eda-data-cleaning-xg-boost\n",
        "2. https://en.wikipedia.org/wiki/XGBoost"
      ]
    }
  ]
}