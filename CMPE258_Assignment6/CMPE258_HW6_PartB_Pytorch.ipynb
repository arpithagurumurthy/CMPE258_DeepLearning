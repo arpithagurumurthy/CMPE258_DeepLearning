{
  "nbformat": 4,
  "nbformat_minor": 0,
  "metadata": {
    "colab": {
      "name": "CMPE258_HW6_PartB_Pytorch.ipynb",
      "provenance": []
    },
    "kernelspec": {
      "name": "python3",
      "display_name": "Python 3"
    },
    "language_info": {
      "name": "python"
    },
    "accelerator": "GPU"
  },
  "cells": [
    {
      "cell_type": "markdown",
      "metadata": {
        "id": "KaHY-pVK7_JC"
      },
      "source": [
        "# **Assignment 6 PART B - using Pytorch**\n",
        "\n",
        "### Arpitha Gurumurthy\n",
        "\n",
        "In this notebook:\n",
        "* Loading and preprocessing the google image dataset of flowers\n",
        "* Training an image classifier on our dataset\n",
        "* Using the trained classifier to predict image content"
      ]
    },
    {
      "cell_type": "markdown",
      "metadata": {
        "id": "QChT9bd58tql"
      },
      "source": [
        "## **Data Collection**\n",
        "Downloading the dataset from images.google.com to create a custom dataset. Creating a dataset of flowers - roses, dandelions and lilies.\n",
        "\n",
        "A multiclass classification with 3 target values.\n",
        "\n",
        "Loading the images onto the drive and mounting it to use it in our colab."
      ]
    },
    {
      "cell_type": "code",
      "metadata": {
        "colab": {
          "base_uri": "https://localhost:8080/"
        },
        "id": "23pLg3GMqeKv",
        "outputId": "06b75af4-2de2-418f-8e90-7b841d6bc563"
      },
      "source": [
        "from google.colab import drive\n",
        "drive.mount('/content/gdrive')"
      ],
      "execution_count": 1,
      "outputs": [
        {
          "output_type": "stream",
          "text": [
            "Drive already mounted at /content/gdrive; to attempt to forcibly remount, call drive.mount(\"/content/gdrive\", force_remount=True).\n"
          ],
          "name": "stdout"
        }
      ]
    },
    {
      "cell_type": "code",
      "metadata": {
        "id": "NvnDhcfeqgLP"
      },
      "source": [
        "from fastai.vision import *"
      ],
      "execution_count": 2,
      "outputs": []
    },
    {
      "cell_type": "code",
      "metadata": {
        "colab": {
          "base_uri": "https://localhost:8080/"
        },
        "id": "K8D-U8-zqsa9",
        "outputId": "b2d34637-c255-4303-e3dd-a0a7c391ffcf"
      },
      "source": [
        "%cd /content/gdrive/My Drive/258_HW6"
      ],
      "execution_count": 3,
      "outputs": [
        {
          "output_type": "stream",
          "text": [
            "/content/gdrive/My Drive/258_HW6\n"
          ],
          "name": "stdout"
        }
      ]
    },
    {
      "cell_type": "code",
      "metadata": {
        "colab": {
          "base_uri": "https://localhost:8080/"
        },
        "id": "UoF1Uxu1rkvi",
        "outputId": "689b9eb8-d71c-48d3-d2cb-0c2370e3610d"
      },
      "source": [
        "##Importing the necessary libraries\n",
        "import matplotlib.pyplot as plt\n",
        "\n",
        "import json\n",
        "import os\n",
        "import torch\n",
        "import numpy as np\n",
        "from torch import nn, optim\n",
        "import torch.nn.functional as F\n",
        "from torchvision import datasets, models, transforms\n",
        "from torch.utils.data import DataLoader\n",
        "from collections import OrderedDict\n",
        "from PIL import Image\n",
        "from torch import Tensor\n",
        "\n",
        "import helper\n",
        "from importlib import reload\n",
        "reload(helper)"
      ],
      "execution_count": 4,
      "outputs": [
        {
          "output_type": "execute_result",
          "data": {
            "text/plain": [
              "<module 'helper' (namespace)>"
            ]
          },
          "metadata": {
            "tags": []
          },
          "execution_count": 4
        }
      ]
    },
    {
      "cell_type": "code",
      "metadata": {
        "id": "gclBDC1Wrs3t"
      },
      "source": [
        "device = torch.device(\"cuda:0\" if torch.cuda.is_available() else \"cpu\")"
      ],
      "execution_count": 5,
      "outputs": []
    },
    {
      "cell_type": "code",
      "metadata": {
        "colab": {
          "base_uri": "https://localhost:8080/"
        },
        "id": "DrM4jytqrvtz",
        "outputId": "bedc2735-26c4-4428-de4a-e7d18ac0c3aa"
      },
      "source": [
        "device"
      ],
      "execution_count": 6,
      "outputs": [
        {
          "output_type": "execute_result",
          "data": {
            "text/plain": [
              "device(type='cuda', index=0)"
            ]
          },
          "metadata": {
            "tags": []
          },
          "execution_count": 6
        }
      ]
    },
    {
      "cell_type": "code",
      "metadata": {
        "id": "Kw81jfd7td7n"
      },
      "source": [
        "rm -rf `find -type d -name .ipynb_checkpoints`"
      ],
      "execution_count": 7,
      "outputs": []
    },
    {
      "cell_type": "markdown",
      "metadata": {
        "id": "Ip0haf1cCqM6"
      },
      "source": [
        "## **Splitting the dataset**"
      ]
    },
    {
      "cell_type": "code",
      "metadata": {
        "id": "bmt8BJ1ECpTj"
      },
      "source": [
        "# # Creating Train / Val / Test folders (One time use)\n",
        "import os\n",
        "import numpy as np\n",
        "import shutil\n",
        "import random\n",
        "root_dir = '/content/gdrive/My Drive/258_HW6/roses/' # data root path\n",
        "# classes_dir = ['good', 'bad'] #total labels\n",
        "\n",
        "val_ratio = 0.15\n",
        "test_ratio = 0.05\n",
        "\n",
        "\n",
        "os.makedirs(root_dir +'train/')\n",
        "os.makedirs(root_dir +'val/')\n",
        "os.makedirs(root_dir +'test/')\n",
        "\n",
        "\n",
        "# Creating partitions of the data after shuffeling\n",
        "src = root_dir # Folder to copy images from\n",
        "\n",
        "allFileNames = os.listdir(src)\n",
        "np.random.shuffle(allFileNames)\n",
        "train_FileNames, val_FileNames, test_FileNames = np.split(np.array(allFileNames),\n",
        "                                                          [int(len(allFileNames)* (1 - (val_ratio + test_ratio))), \n",
        "                                                           int(len(allFileNames)* (1 - test_ratio))])\n",
        "\n",
        "\n",
        "train_FileNames = [src+'/'+ name for name in train_FileNames.tolist()]\n",
        "val_FileNames = [src+'/' + name for name in val_FileNames.tolist()]\n",
        "test_FileNames = [src+'/' + name for name in test_FileNames.tolist()]\n",
        "\n",
        "print('Total images: ', len(allFileNames))\n",
        "print('Training: ', len(train_FileNames))\n",
        "print('Validation: ', len(val_FileNames))\n",
        "print('Testing: ', len(test_FileNames))\n",
        "\n",
        "# Copy-pasting images\n",
        "for name in train_FileNames:\n",
        "    shutil.copy(name, root_dir +'train/')\n",
        "\n",
        "for name in val_FileNames:\n",
        "    shutil.copy(name, root_dir +'val/')\n",
        "\n",
        "for name in test_FileNames:\n",
        "    shutil.copy(name, root_dir +'test/')"
      ],
      "execution_count": null,
      "outputs": []
    },
    {
      "cell_type": "markdown",
      "metadata": {
        "id": "xrhKkqz586ox"
      },
      "source": [
        "## **Loading the data**\n",
        "Using torchvision to load the data.\n",
        "\n",
        "For the training, we are applying transformations such as random scaling, cropping, and flipping. This will help the network generalize leading to better performance. Input data is resized to 224x224 pixels as required by the pre-trained networks.\n",
        "\n",
        "The pre-trained networks we are using were trained on the ImageNet dataset where each color channel was normalized separately."
      ]
    },
    {
      "cell_type": "code",
      "metadata": {
        "id": "KJw3nZJ9r-Vi"
      },
      "source": [
        "data_dir = '/content/gdrive/My Drive/258_HW6'\n",
        "train_dir = data_dir\n",
        "valid_dir = '/content/gdrive/My Drive/258_HW6_Validation'"
      ],
      "execution_count": 8,
      "outputs": []
    },
    {
      "cell_type": "code",
      "metadata": {
        "id": "L8148Vvh_pUv"
      },
      "source": [
        "# !cp -rf '/content/gdrive/My Drive/258_HW6/roses' '/content/gdrive/My Drive/258_HW6/258_HW6_Validation'"
      ],
      "execution_count": null,
      "outputs": []
    },
    {
      "cell_type": "code",
      "metadata": {
        "id": "vhRGCr3Z_9OF"
      },
      "source": [
        "# !cp -rf '/content/gdrive/My Drive/258_HW6/dandelions' '/content/gdrive/My Drive/258_HW6/258_HW6_Validation'"
      ],
      "execution_count": null,
      "outputs": []
    },
    {
      "cell_type": "code",
      "metadata": {
        "id": "7zxAC7lA__jQ"
      },
      "source": [
        "# !cp -rf '/content/gdrive/My Drive/258_HW6/lilies' '/content/gdrive/My Drive/258_HW6/258_HW6_Validation'"
      ],
      "execution_count": null,
      "outputs": []
    },
    {
      "cell_type": "code",
      "metadata": {
        "colab": {
          "base_uri": "https://localhost:8080/"
        },
        "id": "ONAbjWsWr_NJ",
        "outputId": "654fed51-921c-4592-c28d-cf8006d7459c"
      },
      "source": [
        "# Define transforms for the training, validation, and testing sets\n",
        "train_transforms = transforms.Compose([\n",
        "    transforms.RandomRotation(30),\n",
        "    transforms.RandomResizedCrop(size=224),\n",
        "    transforms.RandomHorizontalFlip(),\n",
        "    transforms.RandomVerticalFlip(),\n",
        "    transforms.ToTensor(),\n",
        "    transforms.Normalize([0.485, 0.456, 0.406], [0.229, 0.224, 0.225])\n",
        "])\n",
        "\n",
        "validation_transforms = transforms.Compose([\n",
        "    transforms.Resize(256),\n",
        "    transforms.CenterCrop(224),\n",
        "    transforms.ToTensor(),\n",
        "    transforms.Normalize([0.485, 0.456, 0.406], [0.229, 0.224, 0.225])\n",
        "])\n",
        "\n",
        "# Load the datasets with ImageFolder\n",
        "train_dataset = datasets.ImageFolder(train_dir, transform=train_transforms)\n",
        "validation_dataset = datasets.ImageFolder(valid_dir, transform=validation_transforms)\n",
        "\n",
        "# Using the image datasets and the transforms, define the dataloaders\n",
        "train_dataloader = DataLoader(train_dataset, shuffle=True, batch_size=64, num_workers=4)\n",
        "valid_dataloader = DataLoader(validation_dataset, shuffle=True, batch_size=64, num_workers=4)\n"
      ],
      "execution_count": 9,
      "outputs": [
        {
          "output_type": "stream",
          "text": [
            "/usr/local/lib/python3.7/dist-packages/torch/utils/data/dataloader.py:477: UserWarning: This DataLoader will create 4 worker processes in total. Our suggested max number of worker in current system is 2, which is smaller than what this DataLoader is going to create. Please be aware that excessive worker creation might get DataLoader running slow or even freeze, lower the worker number to avoid potential slowness/freeze if necessary.\n",
            "  cpuset_checked))\n"
          ],
          "name": "stderr"
        }
      ]
    },
    {
      "cell_type": "code",
      "metadata": {
        "colab": {
          "base_uri": "https://localhost:8080/",
          "height": 260
        },
        "id": "RXSNUwhVsH9T",
        "outputId": "6a676ade-8456-42d3-de78-d4815bc68a8a"
      },
      "source": [
        "from IPython.display import Image\n",
        "Image('roses/00000049.jpg')"
      ],
      "execution_count": null,
      "outputs": [
        {
          "output_type": "execute_result",
          "data": {
            "image/jpeg": "[encoded data removed]",
            "text/plain": [
              "<IPython.core.display.Image object>"
            ]
          },
          "metadata": {
            "tags": []
          },
          "execution_count": 42
        }
      ]
    },
    {
      "cell_type": "code",
      "metadata": {
        "colab": {
          "base_uri": "https://localhost:8080/",
          "height": 242
        },
        "id": "PF0RfkTT-ke_",
        "outputId": "9af7083c-3d92-48af-93c5-edb1137b0bfa"
      },
      "source": [
        "from IPython.display import Image\n",
        "Image('dandelions/00000055.jpg')"
      ],
      "execution_count": null,
      "outputs": [
        {
          "output_type": "execute_result",
          "data": {
            "image/jpeg": "[encoded data removed]",
            "text/plain": [
              "<IPython.core.display.Image object>"
            ]
          },
          "metadata": {
            "tags": []
          },
          "execution_count": 49
        }
      ]
    },
    {
      "cell_type": "code",
      "metadata": {
        "colab": {
          "base_uri": "https://localhost:8080/",
          "height": 227
        },
        "id": "z6VOiGI0-n1D",
        "outputId": "b7f06c11-c62d-421b-f57d-49f52ac3eb03"
      },
      "source": [
        "from IPython.display import Image\n",
        "Image('lilies/00000055.jpg')"
      ],
      "execution_count": null,
      "outputs": [
        {
          "output_type": "execute_result",
          "data": {
            "image/jpeg": "[encoded data removed]",
            "text/plain": [
              "<IPython.core.display.Image object>"
            ]
          },
          "metadata": {
            "tags": []
          },
          "execution_count": 50
        }
      ]
    },
    {
      "cell_type": "markdown",
      "metadata": {
        "id": "Datci2FG-v9S"
      },
      "source": [
        "## **Label mapping**\n",
        "We are loading a mapping from category label to category name - 'Flower_Labels.json'. \n",
        "\n",
        "It's a JSON object which we are reading in with the json module. This will give us a dictionary mapping of the integer encoded categories to the names of the flowers - roses, dandelions and lilies.\n",
        "\n"
      ]
    },
    {
      "cell_type": "code",
      "metadata": {
        "id": "St-10Onutx67"
      },
      "source": [
        "with open(\"/content/gdrive/My Drive/258_HW6/Flower_Labels.json\", 'r') as f:\n",
        "    flower_Labels = json.load(f)"
      ],
      "execution_count": 10,
      "outputs": []
    },
    {
      "cell_type": "code",
      "metadata": {
        "id": "AH6M3CMbwqtC"
      },
      "source": [
        "category_map = sorted(flower_Labels.items(), key=lambda x: int(x[0]))"
      ],
      "execution_count": 11,
      "outputs": []
    },
    {
      "cell_type": "code",
      "metadata": {
        "id": "QiRye-6mwyPX"
      },
      "source": [
        "category_names = [cat[1] for cat in category_map]"
      ],
      "execution_count": 12,
      "outputs": []
    },
    {
      "cell_type": "markdown",
      "metadata": {
        "id": "Vp-mHvau_FBt"
      },
      "source": [
        "## **Count of flowers in each category**"
      ]
    },
    {
      "cell_type": "code",
      "metadata": {
        "colab": {
          "base_uri": "https://localhost:8080/",
          "height": 606
        },
        "id": "_sjBcwLqw10l",
        "outputId": "29146814-7761-4e44-e1ff-b0cacd740ab5"
      },
      "source": [
        "len(os.listdir(os.path.join(\"/content/gdrive/My Drive/\", \"258_HW6/\")))\n",
        "\n",
        "count = [len(os.listdir(os.path.join(\"/content/gdrive/My Drive/\", \"258_HW6/\", dir))) for dir in os.listdir(os.path.join(\"/content/gdrive/My Drive/\", \"258_HW6/\"))]\n",
        "scalars = [*range(len(os.listdir(os.path.join(\"/content/gdrive/My Drive/\", \"258_HW6/\"))))]\n",
        "scalars = [x.__add__(1) for x in scalars]\n",
        "plt.figure(figsize=(10,10))\n",
        "plt.barh(scalars, count)\n",
        "plt.yticks(scalars, category_names)\n",
        "plt.xlabel(\"Count\")\n",
        "plt.ylabel(\"Class Labels\")\n",
        "plt.show()"
      ],
      "execution_count": 17,
      "outputs": [
        {
          "output_type": "display_data",
          "data": {
            "image/png": "[encoded data removed]",
            "text/plain": [
              "<Figure size 720x720 with 1 Axes>"
            ]
          },
          "metadata": {
            "tags": [],
            "needs_background": "light"
          }
        }
      ]
    },
    {
      "cell_type": "markdown",
      "metadata": {
        "id": "bPpRwO0a_Kfm"
      },
      "source": [
        "## **Building and training the classifier**\n",
        "Using pretrained model - VGG16 from torchvision.models to get the image features."
      ]
    },
    {
      "cell_type": "code",
      "metadata": {
        "id": "QscJRCnkxqG2"
      },
      "source": [
        "vgg16 = models.vgg16(pretrained=True)"
      ],
      "execution_count": 13,
      "outputs": []
    },
    {
      "cell_type": "code",
      "metadata": {
        "colab": {
          "base_uri": "https://localhost:8080/"
        },
        "id": "etTlLg7_xtV5",
        "outputId": "f0bf0cb7-f347-4628-d804-e275643bb3ee"
      },
      "source": [
        "##Architecture of the neural network\n",
        "vgg16"
      ],
      "execution_count": 14,
      "outputs": [
        {
          "output_type": "execute_result",
          "data": {
            "text/plain": [
              "VGG(\n",
              "  (features): Sequential(\n",
              "    (0): Conv2d(3, 64, kernel_size=(3, 3), stride=(1, 1), padding=(1, 1))\n",
              "    (1): ReLU(inplace=True)\n",
              "    (2): Conv2d(64, 64, kernel_size=(3, 3), stride=(1, 1), padding=(1, 1))\n",
              "    (3): ReLU(inplace=True)\n",
              "    (4): MaxPool2d(kernel_size=2, stride=2, padding=0, dilation=1, ceil_mode=False)\n",
              "    (5): Conv2d(64, 128, kernel_size=(3, 3), stride=(1, 1), padding=(1, 1))\n",
              "    (6): ReLU(inplace=True)\n",
              "    (7): Conv2d(128, 128, kernel_size=(3, 3), stride=(1, 1), padding=(1, 1))\n",
              "    (8): ReLU(inplace=True)\n",
              "    (9): MaxPool2d(kernel_size=2, stride=2, padding=0, dilation=1, ceil_mode=False)\n",
              "    (10): Conv2d(128, 256, kernel_size=(3, 3), stride=(1, 1), padding=(1, 1))\n",
              "    (11): ReLU(inplace=True)\n",
              "    (12): Conv2d(256, 256, kernel_size=(3, 3), stride=(1, 1), padding=(1, 1))\n",
              "    (13): ReLU(inplace=True)\n",
              "    (14): Conv2d(256, 256, kernel_size=(3, 3), stride=(1, 1), padding=(1, 1))\n",
              "    (15): ReLU(inplace=True)\n",
              "    (16): MaxPool2d(kernel_size=2, stride=2, padding=0, dilation=1, ceil_mode=False)\n",
              "    (17): Conv2d(256, 512, kernel_size=(3, 3), stride=(1, 1), padding=(1, 1))\n",
              "    (18): ReLU(inplace=True)\n",
              "    (19): Conv2d(512, 512, kernel_size=(3, 3), stride=(1, 1), padding=(1, 1))\n",
              "    (20): ReLU(inplace=True)\n",
              "    (21): Conv2d(512, 512, kernel_size=(3, 3), stride=(1, 1), padding=(1, 1))\n",
              "    (22): ReLU(inplace=True)\n",
              "    (23): MaxPool2d(kernel_size=2, stride=2, padding=0, dilation=1, ceil_mode=False)\n",
              "    (24): Conv2d(512, 512, kernel_size=(3, 3), stride=(1, 1), padding=(1, 1))\n",
              "    (25): ReLU(inplace=True)\n",
              "    (26): Conv2d(512, 512, kernel_size=(3, 3), stride=(1, 1), padding=(1, 1))\n",
              "    (27): ReLU(inplace=True)\n",
              "    (28): Conv2d(512, 512, kernel_size=(3, 3), stride=(1, 1), padding=(1, 1))\n",
              "    (29): ReLU(inplace=True)\n",
              "    (30): MaxPool2d(kernel_size=2, stride=2, padding=0, dilation=1, ceil_mode=False)\n",
              "  )\n",
              "  (avgpool): AdaptiveAvgPool2d(output_size=(7, 7))\n",
              "  (classifier): Sequential(\n",
              "    (0): Linear(in_features=25088, out_features=4096, bias=True)\n",
              "    (1): ReLU(inplace=True)\n",
              "    (2): Dropout(p=0.5, inplace=False)\n",
              "    (3): Linear(in_features=4096, out_features=4096, bias=True)\n",
              "    (4): ReLU(inplace=True)\n",
              "    (5): Dropout(p=0.5, inplace=False)\n",
              "    (6): Linear(in_features=4096, out_features=1000, bias=True)\n",
              "  )\n",
              ")"
            ]
          },
          "metadata": {
            "tags": []
          },
          "execution_count": 14
        }
      ]
    },
    {
      "cell_type": "code",
      "metadata": {
        "id": "9gIsIZorxwCb"
      },
      "source": [
        "# Freeze parameters so we don't backprop through them\n",
        "for param in vgg16.parameters():\n",
        "    param.requires_grad = False\n",
        "\n",
        "classifier = nn.Sequential(OrderedDict([\n",
        "                          ('fc1', nn.Linear(25088, 4096)),\n",
        "                          ('relu', nn.ReLU()),\n",
        "                          ('dropout', nn.Dropout(p=0.5)),\n",
        "                          ('fc2', nn.Linear(4096, 102)),\n",
        "                          ('output', nn.LogSoftmax(dim=1))\n",
        "                          ]))\n",
        "    \n",
        "vgg16.classifier = classifier\n",
        "vgg16.class_idx_mapping = train_dataset.class_to_idx"
      ],
      "execution_count": 15,
      "outputs": []
    },
    {
      "cell_type": "code",
      "metadata": {
        "id": "-QtocNmgx1UB"
      },
      "source": [
        "criterion = nn.NLLLoss()\n",
        "optimizer = optim.Adam(vgg16.classifier.parameters(), lr=0.0001)"
      ],
      "execution_count": 16,
      "outputs": []
    },
    {
      "cell_type": "code",
      "metadata": {
        "id": "vpquF1-Wx1-e"
      },
      "source": [
        "def validation(model, testloader, criterion, device):\n",
        "    test_loss = 0\n",
        "    accuracy = 0\n",
        "    model.to(device)\n",
        "    for images, labels in testloader:\n",
        "        images, labels = images.to(device), labels.to(device)\n",
        "        # images.resize_(images.shape[0], 3, 224, 224)\n",
        "\n",
        "        output = model.forward(images)\n",
        "        test_loss += criterion(output, labels).item()\n",
        "\n",
        "        ps = torch.exp(output)\n",
        "        equality = (labels.data == ps.max(dim=1)[1])\n",
        "        accuracy += equality.type(torch.FloatTensor).mean()\n",
        "    \n",
        "    return test_loss, accuracy\n"
      ],
      "execution_count": 17,
      "outputs": []
    },
    {
      "cell_type": "code",
      "metadata": {
        "id": "SdYCKRfQx4Jh"
      },
      "source": [
        "def train(model, trainloader, validloader, epochs, print_every, criterion, optimizer, device='cuda'):\n",
        "    steps = 0\n",
        "    \n",
        "    # Change to train mode if not already\n",
        "    model.train()\n",
        "    # change to cuda\n",
        "    model.to(device)\n",
        "\n",
        "    for e in range(epochs):\n",
        "        running_loss = 0\n",
        "\n",
        "        for (images, labels) in trainloader:\n",
        "            steps += 1\n",
        "\n",
        "            images, labels = images.to(device), labels.to(device)\n",
        "\n",
        "            optimizer.zero_grad()\n",
        "\n",
        "            # Forward and backward passes\n",
        "            outputs = model.forward(images)\n",
        "            loss = criterion(outputs, labels)\n",
        "            loss.backward()\n",
        "            optimizer.step()\n",
        "\n",
        "            running_loss += loss.item()\n",
        "\n",
        "            if steps % print_every == 0:\n",
        "                \n",
        "                # Make sure network is in eval mode for inference\n",
        "                model.eval()\n",
        "\n",
        "                # Turn off gradients for validation, saves memory and computations\n",
        "                with torch.no_grad():\n",
        "                    validation_loss, accuracy = validation(model, validloader, criterion, device)\n",
        "\n",
        "                print(\"Epoch: {}/{}.. \".format(e+1, epochs),\n",
        "                      \"Training Loss: {:.3f}.. \".format(running_loss/print_every),\n",
        "                      \"Validation Loss: {:.3f}.. \".format(validation_loss/len(validloader)),\n",
        "                      \"Validation Accuracy: {:.3f}\".format((accuracy/len(validloader))*100))\n",
        "\n",
        "                model.train()\n",
        "                \n",
        "                running_loss = 0"
      ],
      "execution_count": 18,
      "outputs": []
    },
    {
      "cell_type": "code",
      "metadata": {
        "id": "-AFHPQjpyBE2",
        "colab": {
          "base_uri": "https://localhost:8080/",
          "height": 744
        },
        "outputId": "0be68180-49bb-4d5d-8d06-1926cd69781b"
      },
      "source": [
        "train(model=vgg16, \n",
        "        trainloader=train_dataloader, \n",
        "        validloader=valid_dataloader,\n",
        "        epochs=1, \n",
        "        print_every=1, \n",
        "        criterion=criterion,\n",
        "        optimizer=optimizer,\n",
        "        device=\"cuda\"\n",
        "      )"
      ],
      "execution_count": 27,
      "outputs": [
        {
          "output_type": "stream",
          "text": [
            "/usr/local/lib/python3.7/dist-packages/torch/utils/data/dataloader.py:477: UserWarning: This DataLoader will create 4 worker processes in total. Our suggested max number of worker in current system is 2, which is smaller than what this DataLoader is going to create. Please be aware that excessive worker creation might get DataLoader running slow or even freeze, lower the worker number to avoid potential slowness/freeze if necessary.\n",
            "  cpuset_checked))\n"
          ],
          "name": "stderr"
        },
        {
          "output_type": "stream",
          "text": [
            "Epoch: 1/3..  Training Loss: 0.298..  Validation Loss: 8.212..  Validation Accuracy: 1.042\n",
            "Epoch: 1/3..  Training Loss: 0.490..  Validation Loss: 8.354..  Validation Accuracy: 1.042\n",
            "Epoch: 1/3..  Training Loss: 0.385..  Validation Loss: 8.635..  Validation Accuracy: 1.042\n",
            "Epoch: 1/3..  Training Loss: 0.640..  Validation Loss: 8.512..  Validation Accuracy: 1.042\n",
            "Epoch: 1/3..  Training Loss: 0.480..  Validation Loss: 8.496..  Validation Accuracy: 0.521\n"
          ],
          "name": "stdout"
        },
        {
          "output_type": "error",
          "ename": "FileNotFoundError",
          "evalue": "ignored",
          "traceback": [
            "\u001b[0;31m---------------------------------------------------------------------------\u001b[0m",
            "\u001b[0;31mFileNotFoundError\u001b[0m                         Traceback (most recent call last)",
            "\u001b[0;32m<ipython-input-27-087015285814>\u001b[0m in \u001b[0;36m<module>\u001b[0;34m()\u001b[0m\n\u001b[1;32m      6\u001b[0m         \u001b[0mcriterion\u001b[0m\u001b[0;34m=\u001b[0m\u001b[0mcriterion\u001b[0m\u001b[0;34m,\u001b[0m\u001b[0;34m\u001b[0m\u001b[0;34m\u001b[0m\u001b[0m\n\u001b[1;32m      7\u001b[0m         \u001b[0moptimizer\u001b[0m\u001b[0;34m=\u001b[0m\u001b[0moptimizer\u001b[0m\u001b[0;34m,\u001b[0m\u001b[0;34m\u001b[0m\u001b[0;34m\u001b[0m\u001b[0m\n\u001b[0;32m----> 8\u001b[0;31m         \u001b[0mdevice\u001b[0m\u001b[0;34m=\u001b[0m\u001b[0;34m\"cuda\"\u001b[0m\u001b[0;34m\u001b[0m\u001b[0;34m\u001b[0m\u001b[0m\n\u001b[0m\u001b[1;32m      9\u001b[0m       )\n",
            "\u001b[0;32m<ipython-input-18-c2f842462c44>\u001b[0m in \u001b[0;36mtrain\u001b[0;34m(model, trainloader, validloader, epochs, print_every, criterion, optimizer, device)\u001b[0m\n\u001b[1;32m     10\u001b[0m         \u001b[0mrunning_loss\u001b[0m \u001b[0;34m=\u001b[0m \u001b[0;36m0\u001b[0m\u001b[0;34m\u001b[0m\u001b[0;34m\u001b[0m\u001b[0m\n\u001b[1;32m     11\u001b[0m \u001b[0;34m\u001b[0m\u001b[0m\n\u001b[0;32m---> 12\u001b[0;31m         \u001b[0;32mfor\u001b[0m \u001b[0;34m(\u001b[0m\u001b[0mimages\u001b[0m\u001b[0;34m,\u001b[0m \u001b[0mlabels\u001b[0m\u001b[0;34m)\u001b[0m \u001b[0;32min\u001b[0m \u001b[0mtrainloader\u001b[0m\u001b[0;34m:\u001b[0m\u001b[0;34m\u001b[0m\u001b[0;34m\u001b[0m\u001b[0m\n\u001b[0m\u001b[1;32m     13\u001b[0m             \u001b[0msteps\u001b[0m \u001b[0;34m+=\u001b[0m \u001b[0;36m1\u001b[0m\u001b[0;34m\u001b[0m\u001b[0;34m\u001b[0m\u001b[0m\n\u001b[1;32m     14\u001b[0m \u001b[0;34m\u001b[0m\u001b[0m\n",
            "\u001b[0;32m/usr/local/lib/python3.7/dist-packages/torch/utils/data/dataloader.py\u001b[0m in \u001b[0;36m__next__\u001b[0;34m(self)\u001b[0m\n\u001b[1;32m    515\u001b[0m             \u001b[0;32mif\u001b[0m \u001b[0mself\u001b[0m\u001b[0;34m.\u001b[0m\u001b[0m_sampler_iter\u001b[0m \u001b[0;32mis\u001b[0m \u001b[0;32mNone\u001b[0m\u001b[0;34m:\u001b[0m\u001b[0;34m\u001b[0m\u001b[0;34m\u001b[0m\u001b[0m\n\u001b[1;32m    516\u001b[0m                 \u001b[0mself\u001b[0m\u001b[0;34m.\u001b[0m\u001b[0m_reset\u001b[0m\u001b[0;34m(\u001b[0m\u001b[0;34m)\u001b[0m\u001b[0;34m\u001b[0m\u001b[0;34m\u001b[0m\u001b[0m\n\u001b[0;32m--> 517\u001b[0;31m             \u001b[0mdata\u001b[0m \u001b[0;34m=\u001b[0m \u001b[0mself\u001b[0m\u001b[0;34m.\u001b[0m\u001b[0m_next_data\u001b[0m\u001b[0;34m(\u001b[0m\u001b[0;34m)\u001b[0m\u001b[0;34m\u001b[0m\u001b[0;34m\u001b[0m\u001b[0m\n\u001b[0m\u001b[1;32m    518\u001b[0m             \u001b[0mself\u001b[0m\u001b[0;34m.\u001b[0m\u001b[0m_num_yielded\u001b[0m \u001b[0;34m+=\u001b[0m \u001b[0;36m1\u001b[0m\u001b[0;34m\u001b[0m\u001b[0;34m\u001b[0m\u001b[0m\n\u001b[1;32m    519\u001b[0m             \u001b[0;32mif\u001b[0m \u001b[0mself\u001b[0m\u001b[0;34m.\u001b[0m\u001b[0m_dataset_kind\u001b[0m \u001b[0;34m==\u001b[0m \u001b[0m_DatasetKind\u001b[0m\u001b[0;34m.\u001b[0m\u001b[0mIterable\u001b[0m \u001b[0;32mand\u001b[0m\u001b[0;31m \u001b[0m\u001b[0;31m\\\u001b[0m\u001b[0;34m\u001b[0m\u001b[0;34m\u001b[0m\u001b[0m\n",
            "\u001b[0;32m/usr/local/lib/python3.7/dist-packages/torch/utils/data/dataloader.py\u001b[0m in \u001b[0;36m_next_data\u001b[0;34m(self)\u001b[0m\n\u001b[1;32m   1197\u001b[0m             \u001b[0;32melse\u001b[0m\u001b[0;34m:\u001b[0m\u001b[0;34m\u001b[0m\u001b[0;34m\u001b[0m\u001b[0m\n\u001b[1;32m   1198\u001b[0m                 \u001b[0;32mdel\u001b[0m \u001b[0mself\u001b[0m\u001b[0;34m.\u001b[0m\u001b[0m_task_info\u001b[0m\u001b[0;34m[\u001b[0m\u001b[0midx\u001b[0m\u001b[0;34m]\u001b[0m\u001b[0;34m\u001b[0m\u001b[0;34m\u001b[0m\u001b[0m\n\u001b[0;32m-> 1199\u001b[0;31m                 \u001b[0;32mreturn\u001b[0m \u001b[0mself\u001b[0m\u001b[0;34m.\u001b[0m\u001b[0m_process_data\u001b[0m\u001b[0;34m(\u001b[0m\u001b[0mdata\u001b[0m\u001b[0;34m)\u001b[0m\u001b[0;34m\u001b[0m\u001b[0;34m\u001b[0m\u001b[0m\n\u001b[0m\u001b[1;32m   1200\u001b[0m \u001b[0;34m\u001b[0m\u001b[0m\n\u001b[1;32m   1201\u001b[0m     \u001b[0;32mdef\u001b[0m \u001b[0m_try_put_index\u001b[0m\u001b[0;34m(\u001b[0m\u001b[0mself\u001b[0m\u001b[0;34m)\u001b[0m\u001b[0;34m:\u001b[0m\u001b[0;34m\u001b[0m\u001b[0;34m\u001b[0m\u001b[0m\n",
            "\u001b[0;32m/usr/local/lib/python3.7/dist-packages/torch/utils/data/dataloader.py\u001b[0m in \u001b[0;36m_process_data\u001b[0;34m(self, data)\u001b[0m\n\u001b[1;32m   1223\u001b[0m         \u001b[0mself\u001b[0m\u001b[0;34m.\u001b[0m\u001b[0m_try_put_index\u001b[0m\u001b[0;34m(\u001b[0m\u001b[0;34m)\u001b[0m\u001b[0;34m\u001b[0m\u001b[0;34m\u001b[0m\u001b[0m\n\u001b[1;32m   1224\u001b[0m         \u001b[0;32mif\u001b[0m \u001b[0misinstance\u001b[0m\u001b[0;34m(\u001b[0m\u001b[0mdata\u001b[0m\u001b[0;34m,\u001b[0m \u001b[0mExceptionWrapper\u001b[0m\u001b[0;34m)\u001b[0m\u001b[0;34m:\u001b[0m\u001b[0;34m\u001b[0m\u001b[0;34m\u001b[0m\u001b[0m\n\u001b[0;32m-> 1225\u001b[0;31m             \u001b[0mdata\u001b[0m\u001b[0;34m.\u001b[0m\u001b[0mreraise\u001b[0m\u001b[0;34m(\u001b[0m\u001b[0;34m)\u001b[0m\u001b[0;34m\u001b[0m\u001b[0;34m\u001b[0m\u001b[0m\n\u001b[0m\u001b[1;32m   1226\u001b[0m         \u001b[0;32mreturn\u001b[0m \u001b[0mdata\u001b[0m\u001b[0;34m\u001b[0m\u001b[0;34m\u001b[0m\u001b[0m\n\u001b[1;32m   1227\u001b[0m \u001b[0;34m\u001b[0m\u001b[0m\n",
            "\u001b[0;32m/usr/local/lib/python3.7/dist-packages/torch/_utils.py\u001b[0m in \u001b[0;36mreraise\u001b[0;34m(self)\u001b[0m\n\u001b[1;32m    427\u001b[0m             \u001b[0;31m# have message field\u001b[0m\u001b[0;34m\u001b[0m\u001b[0;34m\u001b[0m\u001b[0;34m\u001b[0m\u001b[0m\n\u001b[1;32m    428\u001b[0m             \u001b[0;32mraise\u001b[0m \u001b[0mself\u001b[0m\u001b[0;34m.\u001b[0m\u001b[0mexc_type\u001b[0m\u001b[0;34m(\u001b[0m\u001b[0mmessage\u001b[0m\u001b[0;34m=\u001b[0m\u001b[0mmsg\u001b[0m\u001b[0;34m)\u001b[0m\u001b[0;34m\u001b[0m\u001b[0;34m\u001b[0m\u001b[0m\n\u001b[0;32m--> 429\u001b[0;31m         \u001b[0;32mraise\u001b[0m \u001b[0mself\u001b[0m\u001b[0;34m.\u001b[0m\u001b[0mexc_type\u001b[0m\u001b[0;34m(\u001b[0m\u001b[0mmsg\u001b[0m\u001b[0;34m)\u001b[0m\u001b[0;34m\u001b[0m\u001b[0;34m\u001b[0m\u001b[0m\n\u001b[0m\u001b[1;32m    430\u001b[0m \u001b[0;34m\u001b[0m\u001b[0m\n\u001b[1;32m    431\u001b[0m \u001b[0;34m\u001b[0m\u001b[0m\n",
            "\u001b[0;31mFileNotFoundError\u001b[0m: Caught FileNotFoundError in DataLoader worker process 1.\nOriginal Traceback (most recent call last):\n  File \"/usr/local/lib/python3.7/dist-packages/torch/utils/data/_utils/worker.py\", line 202, in _worker_loop\n    data = fetcher.fetch(index)\n  File \"/usr/local/lib/python3.7/dist-packages/torch/utils/data/_utils/fetch.py\", line 44, in fetch\n    data = [self.dataset[idx] for idx in possibly_batched_index]\n  File \"/usr/local/lib/python3.7/dist-packages/torch/utils/data/_utils/fetch.py\", line 44, in <listcomp>\n    data = [self.dataset[idx] for idx in possibly_batched_index]\n  File \"/usr/local/lib/python3.7/dist-packages/torchvision/datasets/folder.py\", line 178, in __getitem__\n    sample = self.loader(path)\n  File \"/usr/local/lib/python3.7/dist-packages/torchvision/datasets/folder.py\", line 215, in default_loader\n    return pil_loader(path)\n  File \"/usr/local/lib/python3.7/dist-packages/torchvision/datasets/folder.py\", line 195, in pil_loader\n    with open(path, 'rb') as f:\nFileNotFoundError: [Errno 2] No such file or directory: '/content/gdrive/My Drive/258_HW6/258_HW6_Validation/roses/00000126.jpg'\n"
          ]
        }
      ]
    },
    {
      "cell_type": "code",
      "metadata": {
        "id": "NVyZP56qGbvX"
      },
      "source": [
        "!rm '/content/gdrive/My Drive/258_HW6/258_HW6_Validation/roses/00000126.jpg'"
      ],
      "execution_count": 20,
      "outputs": []
    },
    {
      "cell_type": "markdown",
      "metadata": {
        "id": "HMA2iGMV8IFJ"
      },
      "source": [
        "## **References:**\n",
        "* https://github.com/nirajpandkar/flowers-classification-pytorch/blob/master/Image%20Classifier%20Project.ipynb\n"
      ]
    }
  ]
}